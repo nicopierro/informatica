{
  "nbformat": 4,
  "nbformat_minor": 0,
  "metadata": {
    "colab": {
      "name": "Correzione Verifica Neo4j.ipynb",
      "provenance": []
    },
    "kernelspec": {
      "name": "python3",
      "display_name": "Python 3"
    },
    "language_info": {
      "name": "python"
    }
  },
  "cells": [
    {
      "cell_type": "markdown",
      "metadata": {
        "id": "gaeGwujBLfOP"
      },
      "source": [
        "**Correzione Verifica Neo4j 26/11/2021 - Pierro**"
      ]
    },
    {
      "cell_type": "code",
      "metadata": {
        "colab": {
          "base_uri": "https://localhost:8080/"
        },
        "id": "KDx6BIklKeM-",
        "outputId": "74e3fa5e-54dd-4810-f540-626148aacb82"
      },
      "source": [
        "!pip install neo4j-driver"
      ],
      "execution_count": null,
      "outputs": [
        {
          "output_type": "stream",
          "name": "stdout",
          "text": [
            "Collecting neo4j-driver\n",
            "  Downloading neo4j-driver-4.4.0.tar.gz (89 kB)\n",
            "\u001b[?25l\r\u001b[K     |███▊                            | 10 kB 22.7 MB/s eta 0:00:01\r\u001b[K     |███████▍                        | 20 kB 26.3 MB/s eta 0:00:01\r\u001b[K     |███████████                     | 30 kB 13.7 MB/s eta 0:00:01\r\u001b[K     |██████████████▊                 | 40 kB 10.1 MB/s eta 0:00:01\r\u001b[K     |██████████████████▍             | 51 kB 5.4 MB/s eta 0:00:01\r\u001b[K     |██████████████████████          | 61 kB 6.0 MB/s eta 0:00:01\r\u001b[K     |█████████████████████████▊      | 71 kB 5.8 MB/s eta 0:00:01\r\u001b[K     |█████████████████████████████▍  | 81 kB 6.4 MB/s eta 0:00:01\r\u001b[K     |████████████████████████████████| 89 kB 4.0 MB/s \n",
            "\u001b[?25hRequirement already satisfied: pytz in /usr/local/lib/python3.7/dist-packages (from neo4j-driver) (2018.9)\n",
            "Building wheels for collected packages: neo4j-driver\n",
            "  Building wheel for neo4j-driver (setup.py) ... \u001b[?25l\u001b[?25hdone\n",
            "  Created wheel for neo4j-driver: filename=neo4j_driver-4.4.0-py3-none-any.whl size=114976 sha256=6f1090faaf7d1983e66959a62b0aca891a91040e59e6938c1e48cadcce8a228e\n",
            "  Stored in directory: /root/.cache/pip/wheels/5e/89/23/48d22f30bfad0866aac1078fb2e24db1dd3750c46198557ffe\n",
            "Successfully built neo4j-driver\n",
            "Installing collected packages: neo4j-driver\n",
            "Successfully installed neo4j-driver-4.4.0\n"
          ]
        }
      ]
    },
    {
      "cell_type": "code",
      "metadata": {
        "id": "MM1tSTkzKZQn"
      },
      "source": [
        "from neo4j import GraphDatabase, basic_auth\n",
        "import pandas as pd"
      ],
      "execution_count": null,
      "outputs": []
    },
    {
      "cell_type": "code",
      "metadata": {
        "id": "7nc9_9OSJbbF"
      },
      "source": [
        "driver = GraphDatabase.driver(\"bolt://3.238.63.58:7687\", auth=basic_auth(\"neo4j\", \"total-arrangements-posts\"))\n",
        "def read_cypher(query):\n",
        "  with driver.session(database=\"neo4j\") as session:\n",
        "    results = session.run(query).data()\n",
        "    df = pd.DataFrame(results)\n",
        "    col_names = df.columns.values.tolist()\n",
        "    for c in col_names:\n",
        "        if type(df[c].iloc[0]) is dict:\n",
        "          df = pd.concat([df, df[c].apply(pd.Series)], axis=1)\n",
        "          df.drop(columns=c, inplace=True)\n",
        "        else:\n",
        "          df1 = df.pop(c)\n",
        "          df[c] = df1\n",
        "    return df"
      ],
      "execution_count": null,
      "outputs": []
    },
    {
      "cell_type": "markdown",
      "metadata": {
        "id": "qic3VEEJJgTH"
      },
      "source": [
        "Prendere in considerazione su Neo4j sandbox il database “Crime Investigation” ed utilizzare il comando\n",
        "\n",
        "```\n",
        "call db.schema.visualization()\n",
        "```\n",
        "\n",
        "per avere un quadro dei nodi e degli archi che lo compongono.\n",
        "\n",
        "Realizzare poi un notebook Python che permetta di estrarre le seguenti informazioni:"
      ]
    },
    {
      "cell_type": "code",
      "metadata": {
        "colab": {
          "base_uri": "https://localhost:8080/",
          "height": 81
        },
        "id": "mKcmVNeCLcH-",
        "outputId": "8543170f-03b5-4932-d037-2de9b8355f41"
      },
      "source": [
        "# 1. Il numero di crimini presenti nel database\n",
        "cypher_query = '''\n",
        "MATCH (c:Crime)\n",
        "RETURN COUNT(c) AS total\n",
        "'''\n",
        "\n",
        "read_cypher(cypher_query)"
      ],
      "execution_count": null,
      "outputs": [
        {
          "output_type": "execute_result",
          "data": {
            "text/html": [
              "<div>\n",
              "<style scoped>\n",
              "    .dataframe tbody tr th:only-of-type {\n",
              "        vertical-align: middle;\n",
              "    }\n",
              "\n",
              "    .dataframe tbody tr th {\n",
              "        vertical-align: top;\n",
              "    }\n",
              "\n",
              "    .dataframe thead th {\n",
              "        text-align: right;\n",
              "    }\n",
              "</style>\n",
              "<table border=\"1\" class=\"dataframe\">\n",
              "  <thead>\n",
              "    <tr style=\"text-align: right;\">\n",
              "      <th></th>\n",
              "      <th>total</th>\n",
              "    </tr>\n",
              "  </thead>\n",
              "  <tbody>\n",
              "    <tr>\n",
              "      <th>0</th>\n",
              "      <td>28762</td>\n",
              "    </tr>\n",
              "  </tbody>\n",
              "</table>\n",
              "</div>"
            ],
            "text/plain": [
              "   total\n",
              "0  28762"
            ]
          },
          "metadata": {},
          "execution_count": 21
        }
      ]
    },
    {
      "cell_type": "code",
      "metadata": {
        "colab": {
          "base_uri": "https://localhost:8080/",
          "height": 424
        },
        "id": "OS4nLngkLj0f",
        "outputId": "9acabe02-b80b-49ec-9e70-ffb08c5ceb15"
      },
      "source": [
        "# 2. i crimini che hanno coinvolto le auto ('Vehicle crime')\n",
        "cypher_query = '''\n",
        "MATCH (c:Crime {type: 'Vehicle crime'})\n",
        "RETURN c\n",
        "'''\n",
        "\n",
        "read_cypher(cypher_query)"
      ],
      "execution_count": null,
      "outputs": [
        {
          "output_type": "execute_result",
          "data": {
            "text/html": [
              "<div>\n",
              "<style scoped>\n",
              "    .dataframe tbody tr th:only-of-type {\n",
              "        vertical-align: middle;\n",
              "    }\n",
              "\n",
              "    .dataframe tbody tr th {\n",
              "        vertical-align: top;\n",
              "    }\n",
              "\n",
              "    .dataframe thead th {\n",
              "        text-align: right;\n",
              "    }\n",
              "</style>\n",
              "<table border=\"1\" class=\"dataframe\">\n",
              "  <thead>\n",
              "    <tr style=\"text-align: right;\">\n",
              "      <th></th>\n",
              "      <th>date</th>\n",
              "      <th>id</th>\n",
              "      <th>type</th>\n",
              "      <th>last_outcome</th>\n",
              "    </tr>\n",
              "  </thead>\n",
              "  <tbody>\n",
              "    <tr>\n",
              "      <th>0</th>\n",
              "      <td>1/08/2017</td>\n",
              "      <td>ab71bb05a5b0620dfec3779eead19d2c121cb73ee58e51...</td>\n",
              "      <td>Vehicle crime</td>\n",
              "      <td>Investigation complete; no suspect identified</td>\n",
              "    </tr>\n",
              "    <tr>\n",
              "      <th>1</th>\n",
              "      <td>22/08/2017</td>\n",
              "      <td>e35c34d58fa35f2110b059882a34703d132552a4ad408e...</td>\n",
              "      <td>Vehicle crime</td>\n",
              "      <td>Investigation complete; no suspect identified</td>\n",
              "    </tr>\n",
              "    <tr>\n",
              "      <th>2</th>\n",
              "      <td>3/08/2017</td>\n",
              "      <td>576f4e50b1cbeb488c89bd28bd1697a1ad48fa0a5f4df8...</td>\n",
              "      <td>Vehicle crime</td>\n",
              "      <td>Investigation complete; no suspect identified</td>\n",
              "    </tr>\n",
              "    <tr>\n",
              "      <th>3</th>\n",
              "      <td>19/08/2017</td>\n",
              "      <td>9cdadc1c345c17336210079096c372a7faaae0268e4725...</td>\n",
              "      <td>Vehicle crime</td>\n",
              "      <td>Under investigation</td>\n",
              "    </tr>\n",
              "    <tr>\n",
              "      <th>4</th>\n",
              "      <td>1/08/2017</td>\n",
              "      <td>87b7f4fb4e9168b8c46dc5195ae75b68b2c2aeae6d7c36...</td>\n",
              "      <td>Vehicle crime</td>\n",
              "      <td>Investigation complete; no suspect identified</td>\n",
              "    </tr>\n",
              "    <tr>\n",
              "      <th>...</th>\n",
              "      <td>...</td>\n",
              "      <td>...</td>\n",
              "      <td>...</td>\n",
              "      <td>...</td>\n",
              "    </tr>\n",
              "    <tr>\n",
              "      <th>2593</th>\n",
              "      <td>4/08/2017</td>\n",
              "      <td>6c97609682f9f7e763b08889ec5f222489db1168277320...</td>\n",
              "      <td>Vehicle crime</td>\n",
              "      <td>Investigation complete; no suspect identified</td>\n",
              "    </tr>\n",
              "    <tr>\n",
              "      <th>2594</th>\n",
              "      <td>5/08/2017</td>\n",
              "      <td>052fd091670cf8ce4bc781d26b123bde3f9473f2071b4c...</td>\n",
              "      <td>Vehicle crime</td>\n",
              "      <td>Awaiting court outcome</td>\n",
              "    </tr>\n",
              "    <tr>\n",
              "      <th>2595</th>\n",
              "      <td>28/08/2017</td>\n",
              "      <td>df8f71aa71671185eaf45dfb1a653a21dd601d4f530eba...</td>\n",
              "      <td>Vehicle crime</td>\n",
              "      <td>Investigation complete; no suspect identified</td>\n",
              "    </tr>\n",
              "    <tr>\n",
              "      <th>2596</th>\n",
              "      <td>10/08/2017</td>\n",
              "      <td>d15a6b9e00d1028171cb0ee75efaebf4af8bd46df0eae7...</td>\n",
              "      <td>Vehicle crime</td>\n",
              "      <td>Investigation complete; no suspect identified</td>\n",
              "    </tr>\n",
              "    <tr>\n",
              "      <th>2597</th>\n",
              "      <td>12/08/2017</td>\n",
              "      <td>b29e8bb7c9e15177d33785a2e6c32fb8596c6ea3bda21f...</td>\n",
              "      <td>Vehicle crime</td>\n",
              "      <td>Investigation complete; no suspect identified</td>\n",
              "    </tr>\n",
              "  </tbody>\n",
              "</table>\n",
              "<p>2598 rows × 4 columns</p>\n",
              "</div>"
            ],
            "text/plain": [
              "            date  ...                                   last_outcome\n",
              "0      1/08/2017  ...  Investigation complete; no suspect identified\n",
              "1     22/08/2017  ...  Investigation complete; no suspect identified\n",
              "2      3/08/2017  ...  Investigation complete; no suspect identified\n",
              "3     19/08/2017  ...                            Under investigation\n",
              "4      1/08/2017  ...  Investigation complete; no suspect identified\n",
              "...          ...  ...                                            ...\n",
              "2593   4/08/2017  ...  Investigation complete; no suspect identified\n",
              "2594   5/08/2017  ...                         Awaiting court outcome\n",
              "2595  28/08/2017  ...  Investigation complete; no suspect identified\n",
              "2596  10/08/2017  ...  Investigation complete; no suspect identified\n",
              "2597  12/08/2017  ...  Investigation complete; no suspect identified\n",
              "\n",
              "[2598 rows x 4 columns]"
            ]
          },
          "metadata": {},
          "execution_count": 10
        }
      ]
    },
    {
      "cell_type": "code",
      "metadata": {
        "colab": {
          "base_uri": "https://localhost:8080/",
          "height": 488
        },
        "id": "UaH-cRN6Lj9G",
        "outputId": "11c3ec1d-ffde-4108-e77e-eea6e13b8ccf"
      },
      "source": [
        "# 3. Il numero di crimini per ogni tipo di crimine\n",
        "cypher_query = '''\n",
        "MATCH (c:Crime)\n",
        "RETURN c.type AS type, COUNT(c) AS total\n",
        "'''\n",
        "\n",
        "read_cypher(cypher_query)"
      ],
      "execution_count": null,
      "outputs": [
        {
          "output_type": "execute_result",
          "data": {
            "text/html": [
              "<div>\n",
              "<style scoped>\n",
              "    .dataframe tbody tr th:only-of-type {\n",
              "        vertical-align: middle;\n",
              "    }\n",
              "\n",
              "    .dataframe tbody tr th {\n",
              "        vertical-align: top;\n",
              "    }\n",
              "\n",
              "    .dataframe thead th {\n",
              "        text-align: right;\n",
              "    }\n",
              "</style>\n",
              "<table border=\"1\" class=\"dataframe\">\n",
              "  <thead>\n",
              "    <tr style=\"text-align: right;\">\n",
              "      <th></th>\n",
              "      <th>type</th>\n",
              "      <th>total</th>\n",
              "    </tr>\n",
              "  </thead>\n",
              "  <tbody>\n",
              "    <tr>\n",
              "      <th>0</th>\n",
              "      <td>Public order</td>\n",
              "      <td>4839</td>\n",
              "    </tr>\n",
              "    <tr>\n",
              "      <th>1</th>\n",
              "      <td>Robbery</td>\n",
              "      <td>541</td>\n",
              "    </tr>\n",
              "    <tr>\n",
              "      <th>2</th>\n",
              "      <td>Theft from the person</td>\n",
              "      <td>423</td>\n",
              "    </tr>\n",
              "    <tr>\n",
              "      <th>3</th>\n",
              "      <td>Vehicle crime</td>\n",
              "      <td>2598</td>\n",
              "    </tr>\n",
              "    <tr>\n",
              "      <th>4</th>\n",
              "      <td>Burglary</td>\n",
              "      <td>2807</td>\n",
              "    </tr>\n",
              "    <tr>\n",
              "      <th>5</th>\n",
              "      <td>Criminal damage and arson</td>\n",
              "      <td>3587</td>\n",
              "    </tr>\n",
              "    <tr>\n",
              "      <th>6</th>\n",
              "      <td>Violence and sexual offences</td>\n",
              "      <td>8765</td>\n",
              "    </tr>\n",
              "    <tr>\n",
              "      <th>7</th>\n",
              "      <td>Other theft</td>\n",
              "      <td>2140</td>\n",
              "    </tr>\n",
              "    <tr>\n",
              "      <th>8</th>\n",
              "      <td>Shoplifting</td>\n",
              "      <td>1427</td>\n",
              "    </tr>\n",
              "    <tr>\n",
              "      <th>9</th>\n",
              "      <td>Possession of weapons</td>\n",
              "      <td>236</td>\n",
              "    </tr>\n",
              "    <tr>\n",
              "      <th>10</th>\n",
              "      <td>Bicycle theft</td>\n",
              "      <td>414</td>\n",
              "    </tr>\n",
              "    <tr>\n",
              "      <th>11</th>\n",
              "      <td>Other crime</td>\n",
              "      <td>651</td>\n",
              "    </tr>\n",
              "    <tr>\n",
              "      <th>12</th>\n",
              "      <td>Drugs</td>\n",
              "      <td>333</td>\n",
              "    </tr>\n",
              "    <tr>\n",
              "      <th>13</th>\n",
              "      <td>None</td>\n",
              "      <td>1</td>\n",
              "    </tr>\n",
              "  </tbody>\n",
              "</table>\n",
              "</div>"
            ],
            "text/plain": [
              "                            type  total\n",
              "0                   Public order   4839\n",
              "1                        Robbery    541\n",
              "2          Theft from the person    423\n",
              "3                  Vehicle crime   2598\n",
              "4                       Burglary   2807\n",
              "5      Criminal damage and arson   3587\n",
              "6   Violence and sexual offences   8765\n",
              "7                    Other theft   2140\n",
              "8                    Shoplifting   1427\n",
              "9          Possession of weapons    236\n",
              "10                 Bicycle theft    414\n",
              "11                   Other crime    651\n",
              "12                         Drugs    333\n",
              "13                          None      1"
            ]
          },
          "metadata": {},
          "execution_count": 20
        }
      ]
    },
    {
      "cell_type": "code",
      "metadata": {
        "colab": {
          "base_uri": "https://localhost:8080/",
          "height": 238
        },
        "id": "6izsMYvhLkG-",
        "outputId": "ddd168cd-281a-45d0-cfd4-7a228cc5153e"
      },
      "source": [
        "# 4. Le tipologie di crimine con più di 2000 denunce\n",
        "cypher_query = '''\n",
        "MATCH (c:Crime)\n",
        "WITH c.type AS type, COUNT(c) AS total\n",
        "WHERE total > 2000\n",
        "RETURN type, total\n",
        "'''\n",
        "\n",
        "read_cypher(cypher_query)"
      ],
      "execution_count": null,
      "outputs": [
        {
          "output_type": "execute_result",
          "data": {
            "text/html": [
              "<div>\n",
              "<style scoped>\n",
              "    .dataframe tbody tr th:only-of-type {\n",
              "        vertical-align: middle;\n",
              "    }\n",
              "\n",
              "    .dataframe tbody tr th {\n",
              "        vertical-align: top;\n",
              "    }\n",
              "\n",
              "    .dataframe thead th {\n",
              "        text-align: right;\n",
              "    }\n",
              "</style>\n",
              "<table border=\"1\" class=\"dataframe\">\n",
              "  <thead>\n",
              "    <tr style=\"text-align: right;\">\n",
              "      <th></th>\n",
              "      <th>type</th>\n",
              "      <th>total</th>\n",
              "    </tr>\n",
              "  </thead>\n",
              "  <tbody>\n",
              "    <tr>\n",
              "      <th>0</th>\n",
              "      <td>Public order</td>\n",
              "      <td>4839</td>\n",
              "    </tr>\n",
              "    <tr>\n",
              "      <th>1</th>\n",
              "      <td>Vehicle crime</td>\n",
              "      <td>2598</td>\n",
              "    </tr>\n",
              "    <tr>\n",
              "      <th>2</th>\n",
              "      <td>Burglary</td>\n",
              "      <td>2807</td>\n",
              "    </tr>\n",
              "    <tr>\n",
              "      <th>3</th>\n",
              "      <td>Criminal damage and arson</td>\n",
              "      <td>3587</td>\n",
              "    </tr>\n",
              "    <tr>\n",
              "      <th>4</th>\n",
              "      <td>Violence and sexual offences</td>\n",
              "      <td>8765</td>\n",
              "    </tr>\n",
              "    <tr>\n",
              "      <th>5</th>\n",
              "      <td>Other theft</td>\n",
              "      <td>2140</td>\n",
              "    </tr>\n",
              "  </tbody>\n",
              "</table>\n",
              "</div>"
            ],
            "text/plain": [
              "                           type  total\n",
              "0                  Public order   4839\n",
              "1                 Vehicle crime   2598\n",
              "2                      Burglary   2807\n",
              "3     Criminal damage and arson   3587\n",
              "4  Violence and sexual offences   8765\n",
              "5                   Other theft   2140"
            ]
          },
          "metadata": {},
          "execution_count": 38
        }
      ]
    },
    {
      "cell_type": "code",
      "metadata": {
        "colab": {
          "base_uri": "https://localhost:8080/",
          "height": 112
        },
        "id": "2bMx-sWPLkUv",
        "outputId": "972a960a-1dd2-4a98-8971-e2d52647618c"
      },
      "source": [
        "# 5. I crimini avvenuti in '197 Mason Street'\n",
        "cypher_query = '''\n",
        "MATCH (c:Crime)-[:OCCURRED_AT]-(:Location {address: '197 Mason Street'})\n",
        "RETURN c.type AS type\n",
        "'''\n",
        "\n",
        "read_cypher(cypher_query)"
      ],
      "execution_count": null,
      "outputs": [
        {
          "output_type": "execute_result",
          "data": {
            "text/html": [
              "<div>\n",
              "<style scoped>\n",
              "    .dataframe tbody tr th:only-of-type {\n",
              "        vertical-align: middle;\n",
              "    }\n",
              "\n",
              "    .dataframe tbody tr th {\n",
              "        vertical-align: top;\n",
              "    }\n",
              "\n",
              "    .dataframe thead th {\n",
              "        text-align: right;\n",
              "    }\n",
              "</style>\n",
              "<table border=\"1\" class=\"dataframe\">\n",
              "  <thead>\n",
              "    <tr style=\"text-align: right;\">\n",
              "      <th></th>\n",
              "      <th>type</th>\n",
              "    </tr>\n",
              "  </thead>\n",
              "  <tbody>\n",
              "    <tr>\n",
              "      <th>0</th>\n",
              "      <td>Violence and sexual offences</td>\n",
              "    </tr>\n",
              "    <tr>\n",
              "      <th>1</th>\n",
              "      <td>Burglary</td>\n",
              "    </tr>\n",
              "  </tbody>\n",
              "</table>\n",
              "</div>"
            ],
            "text/plain": [
              "                           type\n",
              "0  Violence and sexual offences\n",
              "1                      Burglary"
            ]
          },
          "metadata": {},
          "execution_count": 30
        }
      ]
    },
    {
      "cell_type": "code",
      "metadata": {
        "colab": {
          "base_uri": "https://localhost:8080/",
          "height": 112
        },
        "id": "OO-wvgh4LkfO",
        "outputId": "03e31c70-d45f-4e44-cca1-949c3ce59780"
      },
      "source": [
        "# 6. Le persone coinvolte nei crimini avvenuti in '197 Mason Street'\n",
        "cypher_query = '''\n",
        "MATCH (p:Person)-[:PARTY_TO]-(:Crime)-[:OCCURRED_AT]-(:Location {address: '197 Mason Street'})\n",
        "RETURN p\n",
        "'''\n",
        "\n",
        "read_cypher(cypher_query)"
      ],
      "execution_count": null,
      "outputs": [
        {
          "output_type": "execute_result",
          "data": {
            "text/html": [
              "<div>\n",
              "<style scoped>\n",
              "    .dataframe tbody tr th:only-of-type {\n",
              "        vertical-align: middle;\n",
              "    }\n",
              "\n",
              "    .dataframe tbody tr th {\n",
              "        vertical-align: top;\n",
              "    }\n",
              "\n",
              "    .dataframe thead th {\n",
              "        text-align: right;\n",
              "    }\n",
              "</style>\n",
              "<table border=\"1\" class=\"dataframe\">\n",
              "  <thead>\n",
              "    <tr style=\"text-align: right;\">\n",
              "      <th></th>\n",
              "      <th>name</th>\n",
              "      <th>nhs_no</th>\n",
              "      <th>surname</th>\n",
              "    </tr>\n",
              "  </thead>\n",
              "  <tbody>\n",
              "    <tr>\n",
              "      <th>0</th>\n",
              "      <td>Annie</td>\n",
              "      <td>575-05-6519</td>\n",
              "      <td>George</td>\n",
              "    </tr>\n",
              "    <tr>\n",
              "      <th>1</th>\n",
              "      <td>Gary</td>\n",
              "      <td>679-81-5309</td>\n",
              "      <td>Vasquez</td>\n",
              "    </tr>\n",
              "  </tbody>\n",
              "</table>\n",
              "</div>"
            ],
            "text/plain": [
              "    name       nhs_no  surname\n",
              "0  Annie  575-05-6519   George\n",
              "1   Gary  679-81-5309  Vasquez"
            ]
          },
          "metadata": {},
          "execution_count": 31
        }
      ]
    },
    {
      "cell_type": "code",
      "metadata": {
        "colab": {
          "base_uri": "https://localhost:8080/",
          "height": 112
        },
        "id": "MOGBbojgLksI",
        "outputId": "aeb91d35-2ad6-4ee2-b112-45f4248b7cd3"
      },
      "source": [
        "# 7. Le generalità e i numeri di telefono delle persone coinvolte nei crimini avvenuti in '197 Mason Street'\n",
        "cypher_query = '''\n",
        "MATCH (ph:Phone)-[:HAS_PHONE]-(p:Person)-[:PARTY_TO]-(:Crime)-[:OCCURRED_AT]-(:Location {address: '197 Mason Street'})\n",
        "RETURN p.surname AS surname, p.name AS name, ph.phoneNo AS phone\n",
        "'''\n",
        "\n",
        "read_cypher(cypher_query)"
      ],
      "execution_count": null,
      "outputs": [
        {
          "output_type": "execute_result",
          "data": {
            "text/html": [
              "<div>\n",
              "<style scoped>\n",
              "    .dataframe tbody tr th:only-of-type {\n",
              "        vertical-align: middle;\n",
              "    }\n",
              "\n",
              "    .dataframe tbody tr th {\n",
              "        vertical-align: top;\n",
              "    }\n",
              "\n",
              "    .dataframe thead th {\n",
              "        text-align: right;\n",
              "    }\n",
              "</style>\n",
              "<table border=\"1\" class=\"dataframe\">\n",
              "  <thead>\n",
              "    <tr style=\"text-align: right;\">\n",
              "      <th></th>\n",
              "      <th>surname</th>\n",
              "      <th>name</th>\n",
              "      <th>phone</th>\n",
              "    </tr>\n",
              "  </thead>\n",
              "  <tbody>\n",
              "    <tr>\n",
              "      <th>0</th>\n",
              "      <td>George</td>\n",
              "      <td>Annie</td>\n",
              "      <td>4-(223)417-6164</td>\n",
              "    </tr>\n",
              "    <tr>\n",
              "      <th>1</th>\n",
              "      <td>Vasquez</td>\n",
              "      <td>Gary</td>\n",
              "      <td>2-(111)124-5323</td>\n",
              "    </tr>\n",
              "  </tbody>\n",
              "</table>\n",
              "</div>"
            ],
            "text/plain": [
              "   surname   name            phone\n",
              "0   George  Annie  4-(223)417-6164\n",
              "1  Vasquez   Gary  2-(111)124-5323"
            ]
          },
          "metadata": {},
          "execution_count": 32
        }
      ]
    },
    {
      "cell_type": "code",
      "metadata": {
        "colab": {
          "base_uri": "https://localhost:8080/",
          "height": 363
        },
        "id": "oL67n0YLLk5-",
        "outputId": "f5643b0f-cfd0-4d0b-fba6-b3af138bb0ff"
      },
      "source": [
        "# 8. Tutte le persone conosciute dalle persone coinvolte nei crimini avvenuti in '197 Mason Street'\n",
        "cypher_query = '''\n",
        "MATCH (p:Person)<-[:KNOWS]-(:Person)-[:PARTY_TO]-(c:Crime)-[:OCCURRED_AT]-(l:Location {address: '197 Mason Street'})\n",
        "RETURN p\n",
        "'''\n",
        "\n",
        "read_cypher(cypher_query)"
      ],
      "execution_count": null,
      "outputs": [
        {
          "output_type": "execute_result",
          "data": {
            "text/html": [
              "<div>\n",
              "<style scoped>\n",
              "    .dataframe tbody tr th:only-of-type {\n",
              "        vertical-align: middle;\n",
              "    }\n",
              "\n",
              "    .dataframe tbody tr th {\n",
              "        vertical-align: top;\n",
              "    }\n",
              "\n",
              "    .dataframe thead th {\n",
              "        text-align: right;\n",
              "    }\n",
              "</style>\n",
              "<table border=\"1\" class=\"dataframe\">\n",
              "  <thead>\n",
              "    <tr style=\"text-align: right;\">\n",
              "      <th></th>\n",
              "      <th>name</th>\n",
              "      <th>nhs_no</th>\n",
              "      <th>surname</th>\n",
              "    </tr>\n",
              "  </thead>\n",
              "  <tbody>\n",
              "    <tr>\n",
              "      <th>0</th>\n",
              "      <td>Matthew</td>\n",
              "      <td>569-73-6017</td>\n",
              "      <td>Phillips</td>\n",
              "    </tr>\n",
              "    <tr>\n",
              "      <th>1</th>\n",
              "      <td>Rachel</td>\n",
              "      <td>568-22-7686</td>\n",
              "      <td>Hunter</td>\n",
              "    </tr>\n",
              "    <tr>\n",
              "      <th>2</th>\n",
              "      <td>Carl</td>\n",
              "      <td>271-53-9609</td>\n",
              "      <td>Lawrence</td>\n",
              "    </tr>\n",
              "    <tr>\n",
              "      <th>3</th>\n",
              "      <td>Ashley</td>\n",
              "      <td>554-93-4466</td>\n",
              "      <td>Robertson</td>\n",
              "    </tr>\n",
              "    <tr>\n",
              "      <th>4</th>\n",
              "      <td>Lois</td>\n",
              "      <td>691-51-9612</td>\n",
              "      <td>Larson</td>\n",
              "    </tr>\n",
              "    <tr>\n",
              "      <th>5</th>\n",
              "      <td>Justin</td>\n",
              "      <td>438-49-1893</td>\n",
              "      <td>Payne</td>\n",
              "    </tr>\n",
              "    <tr>\n",
              "      <th>6</th>\n",
              "      <td>Virginia</td>\n",
              "      <td>314-45-9119</td>\n",
              "      <td>Gibson</td>\n",
              "    </tr>\n",
              "    <tr>\n",
              "      <th>7</th>\n",
              "      <td>Rebecca</td>\n",
              "      <td>450-68-4090</td>\n",
              "      <td>Lee</td>\n",
              "    </tr>\n",
              "    <tr>\n",
              "      <th>8</th>\n",
              "      <td>Nicholas</td>\n",
              "      <td>506-14-4016</td>\n",
              "      <td>Mason</td>\n",
              "    </tr>\n",
              "    <tr>\n",
              "      <th>9</th>\n",
              "      <td>Ashley</td>\n",
              "      <td>554-93-4466</td>\n",
              "      <td>Robertson</td>\n",
              "    </tr>\n",
              "  </tbody>\n",
              "</table>\n",
              "</div>"
            ],
            "text/plain": [
              "       name       nhs_no    surname\n",
              "0   Matthew  569-73-6017   Phillips\n",
              "1    Rachel  568-22-7686     Hunter\n",
              "2      Carl  271-53-9609   Lawrence\n",
              "3    Ashley  554-93-4466  Robertson\n",
              "4      Lois  691-51-9612     Larson\n",
              "5    Justin  438-49-1893      Payne\n",
              "6  Virginia  314-45-9119     Gibson\n",
              "7   Rebecca  450-68-4090        Lee\n",
              "8  Nicholas  506-14-4016      Mason\n",
              "9    Ashley  554-93-4466  Robertson"
            ]
          },
          "metadata": {},
          "execution_count": 33
        }
      ]
    },
    {
      "cell_type": "code",
      "metadata": {
        "colab": {
          "base_uri": "https://localhost:8080/",
          "height": 175
        },
        "id": "GQy7mY3mLlNm",
        "outputId": "f3974c5b-9898-4982-8d63-73e8f9cadead"
      },
      "source": [
        "# 9. Tutte le persone che sono state chiamate dai malviventi coinvolti nei crimini avvenuti in '197 Mason Street'. Visualizzare anche la data della telefonata\n",
        "cypher_query = '''\n",
        "MATCH (p:Person)-[:HAS_PHONE]->(ph:Phone)<-[:CALLED]->(pc:PhoneCall)-[:CALLER]->(:Phone)-[:HAS_PHONE]-(:Person)-[:PARTY_TO]-(:Crime)-[:OCCURRED_AT]-(:Location {address: '197 Mason Street'})\n",
        "RETURN p, pc.call_date AS date\n",
        "'''\n",
        "\n",
        "read_cypher(cypher_query)"
      ],
      "execution_count": null,
      "outputs": [
        {
          "output_type": "execute_result",
          "data": {
            "text/html": [
              "<div>\n",
              "<style scoped>\n",
              "    .dataframe tbody tr th:only-of-type {\n",
              "        vertical-align: middle;\n",
              "    }\n",
              "\n",
              "    .dataframe tbody tr th {\n",
              "        vertical-align: top;\n",
              "    }\n",
              "\n",
              "    .dataframe thead th {\n",
              "        text-align: right;\n",
              "    }\n",
              "</style>\n",
              "<table border=\"1\" class=\"dataframe\">\n",
              "  <thead>\n",
              "    <tr style=\"text-align: right;\">\n",
              "      <th></th>\n",
              "      <th>name</th>\n",
              "      <th>nhs_no</th>\n",
              "      <th>surname</th>\n",
              "      <th>date</th>\n",
              "    </tr>\n",
              "  </thead>\n",
              "  <tbody>\n",
              "    <tr>\n",
              "      <th>0</th>\n",
              "      <td>Rachel</td>\n",
              "      <td>568-22-7686</td>\n",
              "      <td>Hunter</td>\n",
              "      <td>20/08/2017</td>\n",
              "    </tr>\n",
              "    <tr>\n",
              "      <th>1</th>\n",
              "      <td>Rachel</td>\n",
              "      <td>568-22-7686</td>\n",
              "      <td>Hunter</td>\n",
              "      <td>09/08/2017</td>\n",
              "    </tr>\n",
              "    <tr>\n",
              "      <th>2</th>\n",
              "      <td>Ashley</td>\n",
              "      <td>554-93-4466</td>\n",
              "      <td>Robertson</td>\n",
              "      <td>27/08/2017</td>\n",
              "    </tr>\n",
              "    <tr>\n",
              "      <th>3</th>\n",
              "      <td>Ashley</td>\n",
              "      <td>554-93-4466</td>\n",
              "      <td>Robertson</td>\n",
              "      <td>01/08/2017</td>\n",
              "    </tr>\n",
              "  </tbody>\n",
              "</table>\n",
              "</div>"
            ],
            "text/plain": [
              "     name       nhs_no    surname        date\n",
              "0  Rachel  568-22-7686     Hunter  20/08/2017\n",
              "1  Rachel  568-22-7686     Hunter  09/08/2017\n",
              "2  Ashley  554-93-4466  Robertson  27/08/2017\n",
              "3  Ashley  554-93-4466  Robertson  01/08/2017"
            ]
          },
          "metadata": {},
          "execution_count": 40
        }
      ]
    }
  ]
}