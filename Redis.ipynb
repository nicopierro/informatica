{
  "cells": [
    {
      "cell_type": "markdown",
      "metadata": {
        "id": "Jo5RXlci6fQC"
      },
      "source": [
        "# Redis\n",
        "\n",
        "Guida all'installazione, ai comandi di base di Redis e ad alcune strutture dati usando Python e [Redis-py](https://github.com/redis/redis-py), l'interfaccia di Python per la memorizzazione chiave-valore di [Redis](https://redis.io/)\n",
        "\n",
        "### Strutture dati in questa guida\n",
        "*   Liste\n",
        "*   Sets\n",
        "*   Hash\n",
        "\n",
        "<br>\n",
        "\n",
        "---\n",
        "\n",
        "### Link utili (in inglese)\n",
        "\n",
        "[Introduzione ai tipi di dati in Redis](https://redis.io/topics/data-types-intro)\n",
        "\n",
        "[Usare un database Redis con Python e come trovare host, porta e password](https://www.youtube.com/watch?v=Nl5om8Vl85Y)\n",
        "\n",
        "[Documentazione di Redis](https://redis.io/documentation)\n",
        "\n",
        "[Comandi di Redis](https://redis.io/commands#)"
      ]
    },
    {
      "cell_type": "markdown",
      "source": [
        "## Installazione"
      ],
      "metadata": {
        "id": "p4eTFeX-Lqxh"
      }
    },
    {
      "cell_type": "markdown",
      "source": [
        "Per installare Redis basta semplicemente usare"
      ],
      "metadata": {
        "id": "jL2sq7bPE8Nm"
      }
    },
    {
      "cell_type": "code",
      "execution_count": null,
      "metadata": {
        "colab": {
          "base_uri": "https://localhost:8080/"
        },
        "id": "gbmogfO66dVw",
        "outputId": "f7e639d9-3ef3-491c-bd2f-214ec980d8d7"
      },
      "outputs": [
        {
          "output_type": "stream",
          "name": "stdout",
          "text": [
            "Requirement already satisfied: redis in /usr/local/lib/python3.7/dist-packages (4.1.1)\n",
            "Requirement already satisfied: deprecated>=1.2.3 in /usr/local/lib/python3.7/dist-packages (from redis) (1.2.13)\n",
            "Requirement already satisfied: packaging>=20.4 in /usr/local/lib/python3.7/dist-packages (from redis) (21.3)\n",
            "Requirement already satisfied: importlib-metadata>=1.0 in /usr/local/lib/python3.7/dist-packages (from redis) (4.10.0)\n",
            "Requirement already satisfied: wrapt<2,>=1.10 in /usr/local/lib/python3.7/dist-packages (from deprecated>=1.2.3->redis) (1.13.3)\n",
            "Requirement already satisfied: zipp>=0.5 in /usr/local/lib/python3.7/dist-packages (from importlib-metadata>=1.0->redis) (3.7.0)\n",
            "Requirement already satisfied: typing-extensions>=3.6.4 in /usr/local/lib/python3.7/dist-packages (from importlib-metadata>=1.0->redis) (3.10.0.2)\n",
            "Requirement already satisfied: pyparsing!=3.0.5,>=2.0.2 in /usr/local/lib/python3.7/dist-packages (from packaging>=20.4->redis) (3.0.6)\n"
          ]
        }
      ],
      "source": [
        "pip install redis"
      ]
    },
    {
      "cell_type": "markdown",
      "metadata": {
        "id": "rhlnj_7HDvgC"
      },
      "source": [
        "Per connettersi al nostro database è necessario importare la libreria `redis` e usarla con i nostri valori di host, porta e password. Per ottenerli è necessario [registrarsi a Redis Cloud](https://redis.com/try-free/) e creare un database con il piano gratuito.\n",
        "\n",
        "Il comando `ping()` serve a sapere se la connessione è andata a buon fine (True/False)\n",
        "\n"
      ]
    },
    {
      "cell_type": "code",
      "execution_count": null,
      "metadata": {
        "id": "k6sh0BKw7ABH",
        "colab": {
          "base_uri": "https://localhost:8080/"
        },
        "outputId": "fbd7869d-a292-4b65-8d0d-e2b68b9f3334"
      },
      "outputs": [
        {
          "output_type": "execute_result",
          "data": {
            "text/plain": [
              "True"
            ]
          },
          "metadata": {},
          "execution_count": 50
        }
      ],
      "source": [
        "import redis\n",
        "\n",
        "r = redis.Redis(host='redis-12375.c268.eu-west-1-2.ec2.cloud.redislabs.com', \n",
        "                port=12375, \n",
        "                password='FP3ib1qOOIJwTizIbUOrlwpW0ZYpFGAN',\n",
        "                decode_responses=True)\n",
        "\n",
        "r.ping()"
      ]
    },
    {
      "cell_type": "markdown",
      "source": [
        "## Comandi CRUD e di base"
      ],
      "metadata": {
        "id": "MxbGzJCVJiPu"
      }
    },
    {
      "cell_type": "markdown",
      "source": [
        "Il comando `SET` serve a impostare una `key` e assegnarle una stringa `value`, similmente a MongoDB"
      ],
      "metadata": {
        "id": "0WLmdfOIF1bZ"
      }
    },
    {
      "cell_type": "code",
      "execution_count": null,
      "metadata": {
        "colab": {
          "base_uri": "https://localhost:8080/"
        },
        "id": "TihLLMat7vcG",
        "outputId": "6667373f-eff5-49dc-ea35-2ff7b122d4c1"
      },
      "outputs": [
        {
          "output_type": "execute_result",
          "data": {
            "text/plain": [
              "True"
            ]
          },
          "metadata": {},
          "execution_count": 51
        }
      ],
      "source": [
        "r.set(\"nome\", \"Nico\")"
      ]
    },
    {
      "cell_type": "markdown",
      "source": [
        "Il comando `GET` restituisce il `value` di una `key`, che può essere memorizzato in una variabile e stampato"
      ],
      "metadata": {
        "id": "-pc99LjfGhMS"
      }
    },
    {
      "cell_type": "code",
      "source": [
        "nome = r.get(\"nome\")\n",
        "print(nome)"
      ],
      "metadata": {
        "colab": {
          "base_uri": "https://localhost:8080/"
        },
        "id": "uhvhuqCxE-bx",
        "outputId": "82abc080-9070-4489-967a-c2df90e7970a"
      },
      "execution_count": null,
      "outputs": [
        {
          "output_type": "stream",
          "name": "stdout",
          "text": [
            "Nico\n"
          ]
        }
      ]
    },
    {
      "cell_type": "code",
      "source": [
        "r.set(\"cognome\", \"Pierro\")"
      ],
      "metadata": {
        "colab": {
          "base_uri": "https://localhost:8080/"
        },
        "id": "TFG2JduKIwYa",
        "outputId": "5331a9f7-c1b5-4f3e-ae2f-764822d042d2"
      },
      "execution_count": null,
      "outputs": [
        {
          "output_type": "execute_result",
          "data": {
            "text/plain": [
              "True"
            ]
          },
          "metadata": {},
          "execution_count": 53
        }
      ]
    },
    {
      "cell_type": "markdown",
      "source": [
        "Il comando `EXISTS` serve a determinare se una `key` esiste, restituendo 0 in caso negativo e 1 in caso positivo"
      ],
      "metadata": {
        "id": "B3KQxyVfGvYh"
      }
    },
    {
      "cell_type": "code",
      "source": [
        "r.exists(\"nome\")"
      ],
      "metadata": {
        "colab": {
          "base_uri": "https://localhost:8080/"
        },
        "id": "PWH55xrFFfKQ",
        "outputId": "ce30c08e-1646-4191-e7a8-d9be703f295c"
      },
      "execution_count": null,
      "outputs": [
        {
          "output_type": "execute_result",
          "data": {
            "text/plain": [
              "1"
            ]
          },
          "metadata": {},
          "execution_count": 54
        }
      ]
    },
    {
      "cell_type": "markdown",
      "source": [
        "Il comando `KEYS` restituisce tutte le `key` che corrispondono a un `pattern`, come  una `find()` di MongoDB. <br>\n",
        "In Python `keys()` se lasciato vuoto corrisponde a `KEYS *` e seleziona tutte le `key`\n",
        "\n",
        "![Cattura.PNG](data:image/png;base64,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)"
      ],
      "metadata": {
        "id": "imt5c3auHQxU"
      }
    },
    {
      "cell_type": "code",
      "source": [
        "r.keys()"
      ],
      "metadata": {
        "colab": {
          "base_uri": "https://localhost:8080/"
        },
        "id": "fnkOTyL4Fpox",
        "outputId": "81d2200a-bcb5-42c5-bf20-0675a1b85d0c"
      },
      "execution_count": null,
      "outputs": [
        {
          "output_type": "execute_result",
          "data": {
            "text/plain": [
              "['nome', 'cognome']"
            ]
          },
          "metadata": {},
          "execution_count": 55
        }
      ]
    },
    {
      "cell_type": "code",
      "source": [
        "r.keys(\"n???\")"
      ],
      "metadata": {
        "colab": {
          "base_uri": "https://localhost:8080/"
        },
        "id": "o7vbyj9FSHUm",
        "outputId": "47bb11be-518a-4ec0-b559-c663b3607986"
      },
      "execution_count": null,
      "outputs": [
        {
          "output_type": "execute_result",
          "data": {
            "text/plain": [
              "['nome']"
            ]
          },
          "metadata": {},
          "execution_count": 56
        }
      ]
    },
    {
      "cell_type": "code",
      "source": [
        "r.keys(\"n*\")"
      ],
      "metadata": {
        "colab": {
          "base_uri": "https://localhost:8080/"
        },
        "id": "EmUh_-6USLdt",
        "outputId": "3d19c917-abfe-40c4-fbb3-3307d408ca41"
      },
      "execution_count": null,
      "outputs": [
        {
          "output_type": "execute_result",
          "data": {
            "text/plain": [
              "['nome']"
            ]
          },
          "metadata": {},
          "execution_count": 57
        }
      ]
    },
    {
      "cell_type": "code",
      "source": [
        "r.keys(\"*nome\")"
      ],
      "metadata": {
        "colab": {
          "base_uri": "https://localhost:8080/"
        },
        "id": "BjDj8RpnSXvF",
        "outputId": "dbe0b753-b4ce-4bf5-fb33-abf0fcf99291"
      },
      "execution_count": null,
      "outputs": [
        {
          "output_type": "execute_result",
          "data": {
            "text/plain": [
              "['nome', 'cognome']"
            ]
          },
          "metadata": {},
          "execution_count": 58
        }
      ]
    },
    {
      "cell_type": "markdown",
      "source": [
        "Il comando `DEL` serve a eliminare le `key` specificate "
      ],
      "metadata": {
        "id": "_sOrZYHuH_s3"
      }
    },
    {
      "cell_type": "code",
      "source": [
        "r.delete(\"nome\")"
      ],
      "metadata": {
        "colab": {
          "base_uri": "https://localhost:8080/"
        },
        "id": "WO_CXpLMFHRb",
        "outputId": "0827dbbf-5c02-4c07-fbfa-cd0a1c1b9c77"
      },
      "execution_count": null,
      "outputs": [
        {
          "output_type": "execute_result",
          "data": {
            "text/plain": [
              "1"
            ]
          },
          "metadata": {},
          "execution_count": 59
        }
      ]
    },
    {
      "cell_type": "markdown",
      "source": [
        "Il comando `GET` non troverà più la `key` *nome*\n",
        "\n"
      ],
      "metadata": {
        "id": "0bH6wFVHIjjr"
      }
    },
    {
      "cell_type": "code",
      "source": [
        "nome = r.get(\"nome\")\n",
        "print(nome)"
      ],
      "metadata": {
        "colab": {
          "base_uri": "https://localhost:8080/"
        },
        "id": "Leu8EfPCIkB8",
        "outputId": "aa3f239e-b856-4ba1-9580-cdf9a234995b"
      },
      "execution_count": null,
      "outputs": [
        {
          "output_type": "stream",
          "name": "stdout",
          "text": [
            "None\n"
          ]
        }
      ]
    },
    {
      "cell_type": "markdown",
      "source": [
        "Proviamo a impostare una `key` *age* con `value` *18*\n",
        "\n"
      ],
      "metadata": {
        "id": "58GbLvvnJOTo"
      }
    },
    {
      "cell_type": "code",
      "source": [
        "r.set(\"age\", 18)"
      ],
      "metadata": {
        "colab": {
          "base_uri": "https://localhost:8080/"
        },
        "id": "kHHsgAx7GD-K",
        "outputId": "adb528af-e941-42d1-f792-47756e63ebd7"
      },
      "execution_count": null,
      "outputs": [
        {
          "output_type": "execute_result",
          "data": {
            "text/plain": [
              "True"
            ]
          },
          "metadata": {},
          "execution_count": 61
        }
      ]
    },
    {
      "cell_type": "code",
      "source": [
        "age = r.get(\"age\")\n",
        "print(age)"
      ],
      "metadata": {
        "colab": {
          "base_uri": "https://localhost:8080/"
        },
        "id": "H_PQ6JLkJfdU",
        "outputId": "28374f66-64b3-44d6-867a-81f8b47f81db"
      },
      "execution_count": null,
      "outputs": [
        {
          "output_type": "stream",
          "name": "stdout",
          "text": [
            "18\n"
          ]
        }
      ]
    },
    {
      "cell_type": "markdown",
      "source": [
        "Il comando `TTL` restituisce il Time To Live rimanente di una `key`. Una volta scaduto, la `key` viene rimossa dal dataset. <br>\n",
        "Restituisce -1 se la chiave non esiste (magari perché già scaduta) o non ha assegnata una scadenza"
      ],
      "metadata": {
        "id": "wQypU1g5JgZ-"
      }
    },
    {
      "cell_type": "code",
      "source": [
        "r.ttl(\"age\")"
      ],
      "metadata": {
        "colab": {
          "base_uri": "https://localhost:8080/"
        },
        "id": "y5-mvIz2Gn5L",
        "outputId": "34525c96-d3fc-4026-c5b8-78b4ac047a84"
      },
      "execution_count": null,
      "outputs": [
        {
          "output_type": "execute_result",
          "data": {
            "text/plain": [
              "-1"
            ]
          },
          "metadata": {},
          "execution_count": 63
        }
      ]
    },
    {
      "cell_type": "code",
      "source": [
        "r.exists(\"age\")"
      ],
      "metadata": {
        "colab": {
          "base_uri": "https://localhost:8080/"
        },
        "id": "nIWM1N0saoY9",
        "outputId": "0cbc4f5c-650f-4407-81a5-0d1ae13e8c19"
      },
      "execution_count": null,
      "outputs": [
        {
          "output_type": "execute_result",
          "data": {
            "text/plain": [
              "1"
            ]
          },
          "metadata": {},
          "execution_count": 64
        }
      ]
    },
    {
      "cell_type": "markdown",
      "source": [
        "Il comando `EXPIRE` imposta una scadenza (TTL) a una `key`"
      ],
      "metadata": {
        "id": "FvSSqk7PKN7l"
      }
    },
    {
      "cell_type": "code",
      "source": [
        "# time to live di dieci secondi\n",
        "r.expire(\"age\", 10)\n",
        "\n",
        "r.ttl(\"age\")"
      ],
      "metadata": {
        "colab": {
          "base_uri": "https://localhost:8080/"
        },
        "id": "UP1haT93HATG",
        "outputId": "7d0e86bc-4b93-4764-9d7e-cfef18b0ec69"
      },
      "execution_count": null,
      "outputs": [
        {
          "output_type": "execute_result",
          "data": {
            "text/plain": [
              "10"
            ]
          },
          "metadata": {},
          "execution_count": 65
        }
      ]
    },
    {
      "cell_type": "markdown",
      "source": [
        "Il comando `FLUSHALL` elimina le `key` di **TUTTI** i nostri database esistenti"
      ],
      "metadata": {
        "id": "0s0T5qFmKy-G"
      }
    },
    {
      "cell_type": "code",
      "source": [
        "r.flushall()"
      ],
      "metadata": {
        "colab": {
          "base_uri": "https://localhost:8080/"
        },
        "id": "ldkMOcfJFYJY",
        "outputId": "0b37102c-026b-43a1-da6d-0a9bb3abba8a"
      },
      "execution_count": null,
      "outputs": [
        {
          "output_type": "execute_result",
          "data": {
            "text/plain": [
              "True"
            ]
          },
          "metadata": {},
          "execution_count": 66
        }
      ]
    },
    {
      "cell_type": "markdown",
      "source": [
        "Usando il comando `KEYS` il dataset risulterà vuoto"
      ],
      "metadata": {
        "id": "AWBvb-g2Kbxd"
      }
    },
    {
      "cell_type": "code",
      "source": [
        "r.keys()"
      ],
      "metadata": {
        "id": "oSgKBVSaKbQS",
        "colab": {
          "base_uri": "https://localhost:8080/"
        },
        "outputId": "c5d2fa94-cfad-4e66-e801-c957b83e76f9"
      },
      "execution_count": null,
      "outputs": [
        {
          "output_type": "execute_result",
          "data": {
            "text/plain": [
              "[]"
            ]
          },
          "metadata": {},
          "execution_count": 67
        }
      ]
    },
    {
      "cell_type": "markdown",
      "source": [
        "Il comando `SETEX` imposta il `value` e la scadenza (TTL) di una `key` con un unico comando"
      ],
      "metadata": {
        "id": "7IsnyH-xK5nL"
      }
    },
    {
      "cell_type": "code",
      "source": [
        "r.setex(\"city\", 5, \"Milano\")\n",
        "r.ttl(\"city\")"
      ],
      "metadata": {
        "colab": {
          "base_uri": "https://localhost:8080/"
        },
        "id": "SaF5WB7gHUQi",
        "outputId": "12cc6d83-156e-447a-eb20-b33294d40c8a"
      },
      "execution_count": null,
      "outputs": [
        {
          "output_type": "execute_result",
          "data": {
            "text/plain": [
              "5"
            ]
          },
          "metadata": {},
          "execution_count": 68
        }
      ]
    },
    {
      "cell_type": "code",
      "source": [
        "r.set(97452, 1500)"
      ],
      "metadata": {
        "colab": {
          "base_uri": "https://localhost:8080/"
        },
        "id": "I-71o3mRbFAh",
        "outputId": "85d6d720-f96b-4e95-860d-43270b0f216e"
      },
      "execution_count": null,
      "outputs": [
        {
          "output_type": "execute_result",
          "data": {
            "text/plain": [
              "True"
            ]
          },
          "metadata": {},
          "execution_count": 69
        }
      ]
    },
    {
      "cell_type": "code",
      "source": [
        "r.get(97452)"
      ],
      "metadata": {
        "colab": {
          "base_uri": "https://localhost:8080/",
          "height": 36
        },
        "id": "zq1VZ6u2bTwo",
        "outputId": "9ba39467-e7e1-4aef-ca80-b882614eafdc"
      },
      "execution_count": null,
      "outputs": [
        {
          "output_type": "execute_result",
          "data": {
            "application/vnd.google.colaboratory.intrinsic+json": {
              "type": "string"
            },
            "text/plain": [
              "'1500'"
            ]
          },
          "metadata": {},
          "execution_count": 70
        }
      ]
    },
    {
      "cell_type": "code",
      "source": [
        "saldo = int(r.get(97452))\n",
        "saldo-=150\n",
        "r.set(97452, saldo)\n",
        "r.get(97452)"
      ],
      "metadata": {
        "colab": {
          "base_uri": "https://localhost:8080/",
          "height": 36
        },
        "id": "uigcbf44bd9D",
        "outputId": "b37e4477-25d9-4c0a-85de-f957ae82117c"
      },
      "execution_count": null,
      "outputs": [
        {
          "output_type": "execute_result",
          "data": {
            "application/vnd.google.colaboratory.intrinsic+json": {
              "type": "string"
            },
            "text/plain": [
              "'1350'"
            ]
          },
          "metadata": {},
          "execution_count": 71
        }
      ]
    },
    {
      "cell_type": "markdown",
      "source": [
        "## Liste\n",
        "Le liste di Redis sono semplicemente liste di stringhe, ordinate per ordine di inserimento. <br> \n",
        "\n",
        "Risulta facile accedere, aggiungere ed eliminare gli elementi vicino agli estremi, mentre ciò risulta più complicato (specialmente nel caso di liste molto grandi) nel mezzo dal momento che la ricerca è basata sulla posizione e quindi sull'indice.\n",
        "\n",
        "La lunghezza massima di una lista è di 2^32 - 1 elementi."
      ],
      "metadata": {
        "id": "CPycq3ZAJmLs"
      }
    },
    {
      "cell_type": "markdown",
      "source": [
        "Il comando `LPUSH` aggiunge un nuovo elemento in cima alla lista\n",
        "\n"
      ],
      "metadata": {
        "id": "6xET4nI97khf"
      }
    },
    {
      "cell_type": "code",
      "source": [
        "r.lpush(\"friends\", \"Emanuele\")"
      ],
      "metadata": {
        "colab": {
          "base_uri": "https://localhost:8080/"
        },
        "id": "iSqKsIshIJm-",
        "outputId": "19666765-983e-4dc0-93ff-7e177390daf3"
      },
      "execution_count": null,
      "outputs": [
        {
          "output_type": "execute_result",
          "data": {
            "text/plain": [
              "1"
            ]
          },
          "metadata": {},
          "execution_count": 72
        }
      ]
    },
    {
      "cell_type": "markdown",
      "source": [
        "Il comando `RPUSH` aggiunge un nuovo elemento in fondo alla lista"
      ],
      "metadata": {
        "id": "40wQv0h876oJ"
      }
    },
    {
      "cell_type": "code",
      "source": [
        "r.rpush(\"friends\", \"Cristina\")"
      ],
      "metadata": {
        "colab": {
          "base_uri": "https://localhost:8080/"
        },
        "id": "ET8G6MCgIj1K",
        "outputId": "eb22f599-d3d8-4988-b9e1-412aabe6e830"
      },
      "execution_count": null,
      "outputs": [
        {
          "output_type": "execute_result",
          "data": {
            "text/plain": [
              "2"
            ]
          },
          "metadata": {},
          "execution_count": 73
        }
      ]
    },
    {
      "cell_type": "markdown",
      "source": [
        "Aggiungiamo altri elementi alla lista *friends*"
      ],
      "metadata": {
        "id": "jM-i9-QxbE1X"
      }
    },
    {
      "cell_type": "code",
      "source": [
        "r.rpush(\"friends\", \"Aymane\")"
      ],
      "metadata": {
        "colab": {
          "base_uri": "https://localhost:8080/"
        },
        "id": "MouV2PtndsRx",
        "outputId": "16961d07-7a5d-4a7d-e70f-6bf3756dde41"
      },
      "execution_count": null,
      "outputs": [
        {
          "output_type": "execute_result",
          "data": {
            "text/plain": [
              "3"
            ]
          },
          "metadata": {},
          "execution_count": 74
        }
      ]
    },
    {
      "cell_type": "code",
      "source": [
        "r.rpush(\"friends\", \"Lilian\")"
      ],
      "metadata": {
        "colab": {
          "base_uri": "https://localhost:8080/"
        },
        "id": "YY0fZW9UeAeD",
        "outputId": "64aa6809-1da5-4d77-ce75-33cde9842588"
      },
      "execution_count": null,
      "outputs": [
        {
          "output_type": "execute_result",
          "data": {
            "text/plain": [
              "4"
            ]
          },
          "metadata": {},
          "execution_count": 75
        }
      ]
    },
    {
      "cell_type": "code",
      "source": [
        "r.lpush(\"friends\", \"Lilian\")"
      ],
      "metadata": {
        "colab": {
          "base_uri": "https://localhost:8080/"
        },
        "id": "PylNds9OeIXQ",
        "outputId": "807d014e-3dc3-4a32-865e-ca140283a09b"
      },
      "execution_count": null,
      "outputs": [
        {
          "output_type": "execute_result",
          "data": {
            "text/plain": [
              "5"
            ]
          },
          "metadata": {},
          "execution_count": 76
        }
      ]
    },
    {
      "cell_type": "markdown",
      "source": [
        "Il comando `LRANGE` restituisce gli elementi di una lista compresi nell'intervallo specificato, basato sugli indici"
      ],
      "metadata": {
        "id": "v2pQT2jm8GN0"
      }
    },
    {
      "cell_type": "code",
      "source": [
        "r.lrange(\"friends\", 0, 3)"
      ],
      "metadata": {
        "colab": {
          "base_uri": "https://localhost:8080/"
        },
        "id": "lJqO08qOITi4",
        "outputId": "3d746f58-c037-4754-d935-3ef510c0550b"
      },
      "execution_count": null,
      "outputs": [
        {
          "output_type": "execute_result",
          "data": {
            "text/plain": [
              "['Lilian', 'Emanuele', 'Cristina', 'Aymane']"
            ]
          },
          "metadata": {},
          "execution_count": 77
        }
      ]
    },
    {
      "cell_type": "markdown",
      "source": [
        "Il comando `LPOP` rimuove e restituisce il primo elemento della lista"
      ],
      "metadata": {
        "id": "oCkM6PIt9CNf"
      }
    },
    {
      "cell_type": "code",
      "source": [
        "r.lpop(\"friends\")"
      ],
      "metadata": {
        "colab": {
          "base_uri": "https://localhost:8080/",
          "height": 36
        },
        "id": "thIQcqmUJJVm",
        "outputId": "06d0c885-6184-4ed8-f0d8-a34948250b74"
      },
      "execution_count": null,
      "outputs": [
        {
          "output_type": "execute_result",
          "data": {
            "application/vnd.google.colaboratory.intrinsic+json": {
              "type": "string"
            },
            "text/plain": [
              "'Lilian'"
            ]
          },
          "metadata": {},
          "execution_count": 78
        }
      ]
    },
    {
      "cell_type": "markdown",
      "source": [
        "Visualizzando nuovamente la lista risulterà rimosso l'elemento \"Lilian\""
      ],
      "metadata": {
        "id": "u8Z3PA8PAQzo"
      }
    },
    {
      "cell_type": "code",
      "source": [
        "r.lrange(\"friends\", 0, -1)"
      ],
      "metadata": {
        "colab": {
          "base_uri": "https://localhost:8080/"
        },
        "id": "X9h0wfmK9tkD",
        "outputId": "cb5a93a0-653b-4b4e-d9d3-ee2a3ebd26cd"
      },
      "execution_count": null,
      "outputs": [
        {
          "output_type": "execute_result",
          "data": {
            "text/plain": [
              "['Emanuele', 'Cristina', 'Aymane', 'Lilian']"
            ]
          },
          "metadata": {},
          "execution_count": 79
        }
      ]
    },
    {
      "cell_type": "markdown",
      "source": [
        "Il comando `RPOP` rimuove e restituisce l'ultimo elemento della lista"
      ],
      "metadata": {
        "id": "Voxx2MGS9PiD"
      }
    },
    {
      "cell_type": "code",
      "source": [
        "r.rpop(\"friends\")"
      ],
      "metadata": {
        "colab": {
          "base_uri": "https://localhost:8080/",
          "height": 36
        },
        "id": "XFsSeOLtJEHP",
        "outputId": "04fbed5f-60c6-47e5-8926-dafc867f2e24"
      },
      "execution_count": null,
      "outputs": [
        {
          "output_type": "execute_result",
          "data": {
            "application/vnd.google.colaboratory.intrinsic+json": {
              "type": "string"
            },
            "text/plain": [
              "'Lilian'"
            ]
          },
          "metadata": {},
          "execution_count": 80
        }
      ]
    },
    {
      "cell_type": "markdown",
      "source": [
        "Con la rimozione dell'elemento \"Lilian\" ora la lista risulterà avere tre elementi"
      ],
      "metadata": {
        "id": "3Lh77GQFAWws"
      }
    },
    {
      "cell_type": "code",
      "source": [
        "r.lrange(\"friends\", 0, -1)"
      ],
      "metadata": {
        "colab": {
          "base_uri": "https://localhost:8080/"
        },
        "id": "ocRBd51N971c",
        "outputId": "b330757b-e56b-4002-e6ba-51626dd44217"
      },
      "execution_count": null,
      "outputs": [
        {
          "output_type": "execute_result",
          "data": {
            "text/plain": [
              "['Emanuele', 'Cristina', 'Aymane']"
            ]
          },
          "metadata": {},
          "execution_count": 81
        }
      ]
    },
    {
      "cell_type": "markdown",
      "source": [
        "## Sets\n",
        "I set di Redis sono collezioni non ordinate di stringhe. <br>\n",
        "\n",
        "Non ammettono valori duplicati: aggiungere un elemento già presente farà sempre avere una copia di quell'elemento. Nella pratica significa che non è necessario fare alcun controllo esistenziale con `EXISTS`. <br>\n",
        "\n",
        "La grandezza massima dei set è uguale a quella delle liste: 2^32 - 1 *membri*. "
      ],
      "metadata": {
        "id": "gEY55nxxJ-8o"
      }
    },
    {
      "cell_type": "markdown",
      "source": [
        "Il comando `SADD` permette di aggiungere i *membri* specificati al set memorizzato nella `key`"
      ],
      "metadata": {
        "id": "EcdLkOEGAuz6"
      }
    },
    {
      "cell_type": "code",
      "source": [
        "r.sadd(\"hobbies\", \"swimming\", \"programming\")"
      ],
      "metadata": {
        "colab": {
          "base_uri": "https://localhost:8080/"
        },
        "id": "Sx17Xz4FKJ4s",
        "outputId": "cb8ea6e9-c229-49ce-eb07-ae4e7b2e3f1b"
      },
      "execution_count": null,
      "outputs": [
        {
          "output_type": "execute_result",
          "data": {
            "text/plain": [
              "2"
            ]
          },
          "metadata": {},
          "execution_count": 82
        }
      ]
    },
    {
      "cell_type": "markdown",
      "source": [
        "Il comando `SMEMBERS` restituisce tutti i *membri*, valori del set memorizzato nella `key`"
      ],
      "metadata": {
        "id": "L9KjMfd8BSS6"
      }
    },
    {
      "cell_type": "code",
      "source": [
        "r.smembers(\"hobbies\")"
      ],
      "metadata": {
        "colab": {
          "base_uri": "https://localhost:8080/"
        },
        "id": "h2lzoNOxKzgA",
        "outputId": "9661b72e-6fa4-48a4-fa30-033ddc5ca758"
      },
      "execution_count": null,
      "outputs": [
        {
          "output_type": "execute_result",
          "data": {
            "text/plain": [
              "{'programming', 'swimming'}"
            ]
          },
          "metadata": {},
          "execution_count": 83
        }
      ]
    },
    {
      "cell_type": "markdown",
      "source": [
        "Provando ad aggiungere un elemento già presente nel set *hobbies* verrà restituito 0, che indica che non è stato aggiunto nulla."
      ],
      "metadata": {
        "id": "Oot5FKhhBsIs"
      }
    },
    {
      "cell_type": "code",
      "source": [
        "r.sadd(\"hobbies\", \"swimming\")"
      ],
      "metadata": {
        "colab": {
          "base_uri": "https://localhost:8080/"
        },
        "id": "VUszvbDELAii",
        "outputId": "1f70e54d-ff61-43a5-b1f7-48361e152639"
      },
      "execution_count": null,
      "outputs": [
        {
          "output_type": "execute_result",
          "data": {
            "text/plain": [
              "0"
            ]
          },
          "metadata": {},
          "execution_count": 84
        }
      ]
    },
    {
      "cell_type": "markdown",
      "source": [
        "Il comando `SREM` rimuove tutti i *membri* specificati dal set memorizzato nella `key`"
      ],
      "metadata": {
        "id": "VHPavUAzCEhm"
      }
    },
    {
      "cell_type": "code",
      "source": [
        "r.srem(\"hobbies\", \"swimming\")\n",
        "r.smembers(\"hobbies\")"
      ],
      "metadata": {
        "colab": {
          "base_uri": "https://localhost:8080/"
        },
        "id": "OUeRRGAPLL3g",
        "outputId": "4ef853ef-eaba-4acb-aed0-0bb33785a12b"
      },
      "execution_count": null,
      "outputs": [
        {
          "output_type": "execute_result",
          "data": {
            "text/plain": [
              "{'programming'}"
            ]
          },
          "metadata": {},
          "execution_count": 85
        }
      ]
    },
    {
      "cell_type": "markdown",
      "source": [
        "## Hashes\n",
        "Gli hash di Redis sono associazioni tra `fields` e `values` e sono quindi perfetti per rappresentare oggetti. (Ad esempio un utente con un numero di campi come nome, cognome, età e così via)\n",
        "\n",
        "Anche se gli hash sono usati principalmente per rappresentare oggetti, sono in grado di memorizzare molti elementi e possono quindi essere usati anche per altri compiti.\n",
        "\n",
        "Ogni hash può immagazzinare fino a 2^32 - 1 coppie field-value"
      ],
      "metadata": {
        "id": "gTdI-xYyLWga"
      }
    },
    {
      "cell_type": "markdown",
      "source": [
        "Il comando `HSET` imposta un `value` al `field` nell'hash memorizzato nella `key`\n",
        "\n",
        "`key` *person* <br>\n",
        "`field` *name* <br>\n",
        "`value` *Filippo* <br>"
      ],
      "metadata": {
        "id": "S8V5ihQKLZ9s"
      }
    },
    {
      "cell_type": "code",
      "source": [
        "r.hset(\"person\", \"name\", \"Filippo\")"
      ],
      "metadata": {
        "colab": {
          "base_uri": "https://localhost:8080/"
        },
        "id": "Leyq-a4XLYEZ",
        "outputId": "b04174e5-ce6c-4769-af4c-cba658b15c83"
      },
      "execution_count": null,
      "outputs": [
        {
          "output_type": "execute_result",
          "data": {
            "text/plain": [
              "1"
            ]
          },
          "metadata": {},
          "execution_count": 86
        }
      ]
    },
    {
      "cell_type": "code",
      "source": [
        "r.hset(\"person\", \"surname\", \"Zhao\")"
      ],
      "metadata": {
        "colab": {
          "base_uri": "https://localhost:8080/"
        },
        "id": "tKGT0Dvqkcqv",
        "outputId": "6ea21197-4a8d-4900-bdd1-0e7e65389bfa"
      },
      "execution_count": null,
      "outputs": [
        {
          "output_type": "execute_result",
          "data": {
            "text/plain": [
              "1"
            ]
          },
          "metadata": {},
          "execution_count": 87
        }
      ]
    },
    {
      "cell_type": "markdown",
      "source": [
        "Il comando `HGET` restituisce il `value` di un `field` hash"
      ],
      "metadata": {
        "id": "gLcBKJw6L-Ha"
      }
    },
    {
      "cell_type": "code",
      "source": [
        "r.hget(\"person\", \"name\")"
      ],
      "metadata": {
        "colab": {
          "base_uri": "https://localhost:8080/",
          "height": 36
        },
        "id": "OyHMs9tcL9dj",
        "outputId": "73dd4cb4-66ea-40dc-b10a-22220236caf6"
      },
      "execution_count": null,
      "outputs": [
        {
          "output_type": "execute_result",
          "data": {
            "application/vnd.google.colaboratory.intrinsic+json": {
              "type": "string"
            },
            "text/plain": [
              "'Filippo'"
            ]
          },
          "metadata": {},
          "execution_count": 88
        }
      ]
    },
    {
      "cell_type": "markdown",
      "source": [
        "Proviamo ad aggiungere il `field` *age* con `value` *18* alla `key` *person*"
      ],
      "metadata": {
        "id": "pJKec3WNMKjM"
      }
    },
    {
      "cell_type": "code",
      "source": [
        "r.hset(\"person\", \"age\", 18)\n",
        "r.hget(\"person\", \"age\")"
      ],
      "metadata": {
        "colab": {
          "base_uri": "https://localhost:8080/",
          "height": 36
        },
        "id": "c0bPULsWMfWs",
        "outputId": "85214294-1dfa-459c-f57c-10b142e89709"
      },
      "execution_count": null,
      "outputs": [
        {
          "output_type": "execute_result",
          "data": {
            "application/vnd.google.colaboratory.intrinsic+json": {
              "type": "string"
            },
            "text/plain": [
              "'18'"
            ]
          },
          "metadata": {},
          "execution_count": 89
        }
      ]
    },
    {
      "cell_type": "markdown",
      "source": [
        "Il comando `HGETALL` restituisce tutti i `fields` e `values` dell'hash memorizzato nella `key`"
      ],
      "metadata": {
        "id": "KcJVZRatMcQ3"
      }
    },
    {
      "cell_type": "code",
      "source": [
        "r.hgetall(\"person\")"
      ],
      "metadata": {
        "colab": {
          "base_uri": "https://localhost:8080/"
        },
        "id": "pmeoCLpoMLyl",
        "outputId": "bdefe36e-0ffa-47c4-c21c-ed4b73da63d0"
      },
      "execution_count": null,
      "outputs": [
        {
          "output_type": "execute_result",
          "data": {
            "text/plain": [
              "{'age': '18', 'name': 'Filippo', 'surname': 'Zhao'}"
            ]
          },
          "metadata": {},
          "execution_count": 90
        }
      ]
    },
    {
      "cell_type": "markdown",
      "source": [
        "Il comando `HDEL` rimuove i `fields` specificati dall'hash memorizzato nella `key`"
      ],
      "metadata": {
        "id": "sLWOZj0bM7MY"
      }
    },
    {
      "cell_type": "code",
      "source": [
        "r.hdel(\"person\", \"age\")"
      ],
      "metadata": {
        "colab": {
          "base_uri": "https://localhost:8080/"
        },
        "id": "6ynZym6qMmgW",
        "outputId": "9e6c988c-d200-4c5b-d30b-bfe1bf6d6b94"
      },
      "execution_count": null,
      "outputs": [
        {
          "output_type": "execute_result",
          "data": {
            "text/plain": [
              "1"
            ]
          },
          "metadata": {},
          "execution_count": 91
        }
      ]
    },
    {
      "cell_type": "markdown",
      "source": [
        "Inserendo un `field` già presente nella stessa `key` verrà modificato il suo `value`"
      ],
      "metadata": {
        "id": "kgUTmJWoaVv4"
      }
    },
    {
      "cell_type": "code",
      "source": [
        "r.hset(\"person\", \"surname\", \"Rossi\")"
      ],
      "metadata": {
        "colab": {
          "base_uri": "https://localhost:8080/"
        },
        "id": "kv3o8WR3lAum",
        "outputId": "2a4723dd-dbec-4ac0-aa33-105d276150c5"
      },
      "execution_count": null,
      "outputs": [
        {
          "output_type": "execute_result",
          "data": {
            "text/plain": [
              "0"
            ]
          },
          "metadata": {},
          "execution_count": 92
        }
      ]
    },
    {
      "cell_type": "markdown",
      "source": [
        "Il `field` *age* non risulterà più presente nella `key` *person*"
      ],
      "metadata": {
        "id": "R5t5I39dNWeq"
      }
    },
    {
      "cell_type": "code",
      "source": [
        "r.hgetall(\"person\")"
      ],
      "metadata": {
        "colab": {
          "base_uri": "https://localhost:8080/"
        },
        "id": "XKIY5lMfNHuU",
        "outputId": "8e3d29d6-8254-4245-e9f8-914e6cb2abf6"
      },
      "execution_count": null,
      "outputs": [
        {
          "output_type": "execute_result",
          "data": {
            "text/plain": [
              "{'name': 'Filippo', 'surname': 'Rossi'}"
            ]
          },
          "metadata": {},
          "execution_count": 93
        }
      ]
    },
    {
      "cell_type": "markdown",
      "source": [
        "Il comando `HEXISTS` serve a determinare se un `field` hash esiste ed è memorizzato nella `key`"
      ],
      "metadata": {
        "id": "ag5pBybENiqO"
      }
    },
    {
      "cell_type": "code",
      "source": [
        "r.hexists(\"person\", \"age\")"
      ],
      "metadata": {
        "colab": {
          "base_uri": "https://localhost:8080/"
        },
        "id": "TNxx0HBfNDVy",
        "outputId": "d6292af3-6bdd-49c5-d409-734cc220a86e"
      },
      "execution_count": null,
      "outputs": [
        {
          "output_type": "execute_result",
          "data": {
            "text/plain": [
              "False"
            ]
          },
          "metadata": {},
          "execution_count": 94
        }
      ]
    },
    {
      "cell_type": "markdown",
      "source": [
        "## Esercizio\n",
        "Creare un database chiamato regione dove inserire i nomi delle regioni e i rispettivi capoluoghi di regione. <br> Inserire inoltre per ogni regione le province con il numero di abitanti di quella provincia. <br> Scrivere poi il codice per avere: \n",
        "1. gli abitanti di una certa provincia inserito dall'utente <br>\n",
        "2. il capoluogo di regione di una certa regione <br>\n",
        "3. gli abitanti di una regione inserita dall'utente\n",
        "\n"
      ],
      "metadata": {
        "id": "EKFAcktJmXUK"
      }
    }
  ],
  "metadata": {
    "colab": {
      "collapsed_sections": [],
      "name": "Redis.ipynb",
      "provenance": []
    },
    "kernelspec": {
      "display_name": "Python 3",
      "name": "python3"
    },
    "language_info": {
      "name": "python"
    }
  },
  "nbformat": 4,
  "nbformat_minor": 0
}