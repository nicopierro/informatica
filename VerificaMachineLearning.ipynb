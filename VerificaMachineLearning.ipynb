{
  "nbformat": 4,
  "nbformat_minor": 0,
  "metadata": {
    "colab": {
      "name": "VerificaMachineLearning.ipynb",
      "provenance": [],
      "collapsed_sections": [
        "C1Jn_O8ChoDg",
        "xMoNr0cGiSFR",
        "DFgko6f4kWXY",
        "XC6MC07Gkqnq",
        "pTl9Tdcll3fg",
        "7iuHUVOYmVHR",
        "6FUwYQ5Nmtjh",
        "qpkSRvYfmqe4"
      ]
    },
    "kernelspec": {
      "name": "python3",
      "display_name": "Python 3"
    },
    "language_info": {
      "name": "python"
    }
  },
  "cells": [
    {
      "cell_type": "markdown",
      "source": [
        "# Verifica Machine Learning (K-NN  e decision tree)\n",
        "Autore: Pierro Nicolò <br>\n",
        "Classe: 5EINF <br>\n",
        "Data: 11/02/2022"
      ],
      "metadata": {
        "id": "lnT1dRoNgMp6"
      }
    },
    {
      "cell_type": "code",
      "execution_count": null,
      "metadata": {
        "id": "QR_ILr46eHu2"
      },
      "outputs": [],
      "source": [
        "# import di pandas\n",
        "import pandas as pd\n",
        "\n",
        "# lettura csv\n",
        "df = pd.read_csv('/content/accent-mfcc-data-1.csv')"
      ]
    },
    {
      "cell_type": "code",
      "source": [
        "# visualizzazione\n",
        "df"
      ],
      "metadata": {
        "colab": {
          "base_uri": "https://localhost:8080/",
          "height": 424
        },
        "id": "w1ijP9KhfBxq",
        "outputId": "5b8c4735-a388-42e7-ac76-a044dbb10919"
      },
      "execution_count": null,
      "outputs": [
        {
          "output_type": "execute_result",
          "data": {
            "text/html": [
              "\n",
              "  <div id=\"df-ef75807a-2cf2-4efa-ade1-64647ee56d7f\">\n",
              "    <div class=\"colab-df-container\">\n",
              "      <div>\n",
              "<style scoped>\n",
              "    .dataframe tbody tr th:only-of-type {\n",
              "        vertical-align: middle;\n",
              "    }\n",
              "\n",
              "    .dataframe tbody tr th {\n",
              "        vertical-align: top;\n",
              "    }\n",
              "\n",
              "    .dataframe thead th {\n",
              "        text-align: right;\n",
              "    }\n",
              "</style>\n",
              "<table border=\"1\" class=\"dataframe\">\n",
              "  <thead>\n",
              "    <tr style=\"text-align: right;\">\n",
              "      <th></th>\n",
              "      <th>language</th>\n",
              "      <th>X1</th>\n",
              "      <th>X2</th>\n",
              "      <th>X3</th>\n",
              "      <th>X4</th>\n",
              "      <th>X5</th>\n",
              "      <th>X6</th>\n",
              "      <th>X7</th>\n",
              "      <th>X8</th>\n",
              "      <th>X9</th>\n",
              "      <th>X10</th>\n",
              "      <th>X11</th>\n",
              "      <th>X12</th>\n",
              "    </tr>\n",
              "  </thead>\n",
              "  <tbody>\n",
              "    <tr>\n",
              "      <th>0</th>\n",
              "      <td>ES</td>\n",
              "      <td>7.071476</td>\n",
              "      <td>-6.512900</td>\n",
              "      <td>7.650800</td>\n",
              "      <td>11.150783</td>\n",
              "      <td>-7.657312</td>\n",
              "      <td>12.484021</td>\n",
              "      <td>-11.709772</td>\n",
              "      <td>3.426596</td>\n",
              "      <td>1.462715</td>\n",
              "      <td>-2.812753</td>\n",
              "      <td>0.866538</td>\n",
              "      <td>-5.244274</td>\n",
              "    </tr>\n",
              "    <tr>\n",
              "      <th>1</th>\n",
              "      <td>ES</td>\n",
              "      <td>10.982967</td>\n",
              "      <td>-5.157445</td>\n",
              "      <td>3.952060</td>\n",
              "      <td>11.529381</td>\n",
              "      <td>-7.638047</td>\n",
              "      <td>12.136098</td>\n",
              "      <td>-12.036247</td>\n",
              "      <td>3.491943</td>\n",
              "      <td>0.595441</td>\n",
              "      <td>-4.508811</td>\n",
              "      <td>2.332147</td>\n",
              "      <td>-6.221857</td>\n",
              "    </tr>\n",
              "    <tr>\n",
              "      <th>2</th>\n",
              "      <td>ES</td>\n",
              "      <td>7.827108</td>\n",
              "      <td>-5.477472</td>\n",
              "      <td>7.816257</td>\n",
              "      <td>9.187592</td>\n",
              "      <td>-7.172511</td>\n",
              "      <td>11.715299</td>\n",
              "      <td>-13.847214</td>\n",
              "      <td>4.574075</td>\n",
              "      <td>-1.687559</td>\n",
              "      <td>-7.204041</td>\n",
              "      <td>-0.011847</td>\n",
              "      <td>-6.463144</td>\n",
              "    </tr>\n",
              "    <tr>\n",
              "      <th>3</th>\n",
              "      <td>ES</td>\n",
              "      <td>6.744083</td>\n",
              "      <td>-5.688920</td>\n",
              "      <td>6.546789</td>\n",
              "      <td>9.000183</td>\n",
              "      <td>-6.924963</td>\n",
              "      <td>11.710766</td>\n",
              "      <td>-12.374388</td>\n",
              "      <td>6.169879</td>\n",
              "      <td>-0.544747</td>\n",
              "      <td>-6.019237</td>\n",
              "      <td>1.358559</td>\n",
              "      <td>-6.356441</td>\n",
              "    </tr>\n",
              "    <tr>\n",
              "      <th>4</th>\n",
              "      <td>ES</td>\n",
              "      <td>5.836843</td>\n",
              "      <td>-5.326557</td>\n",
              "      <td>7.472265</td>\n",
              "      <td>8.847440</td>\n",
              "      <td>-6.773244</td>\n",
              "      <td>12.677218</td>\n",
              "      <td>-12.315061</td>\n",
              "      <td>4.416344</td>\n",
              "      <td>0.193500</td>\n",
              "      <td>-3.644812</td>\n",
              "      <td>2.151239</td>\n",
              "      <td>-6.816310</td>\n",
              "    </tr>\n",
              "    <tr>\n",
              "      <th>...</th>\n",
              "      <td>...</td>\n",
              "      <td>...</td>\n",
              "      <td>...</td>\n",
              "      <td>...</td>\n",
              "      <td>...</td>\n",
              "      <td>...</td>\n",
              "      <td>...</td>\n",
              "      <td>...</td>\n",
              "      <td>...</td>\n",
              "      <td>...</td>\n",
              "      <td>...</td>\n",
              "      <td>...</td>\n",
              "      <td>...</td>\n",
              "    </tr>\n",
              "    <tr>\n",
              "      <th>324</th>\n",
              "      <td>US</td>\n",
              "      <td>-0.525273</td>\n",
              "      <td>-3.868338</td>\n",
              "      <td>3.548304</td>\n",
              "      <td>1.496249</td>\n",
              "      <td>3.490753</td>\n",
              "      <td>5.849887</td>\n",
              "      <td>-7.747027</td>\n",
              "      <td>9.738836</td>\n",
              "      <td>-11.754543</td>\n",
              "      <td>7.129909</td>\n",
              "      <td>0.209947</td>\n",
              "      <td>-1.946914</td>\n",
              "    </tr>\n",
              "    <tr>\n",
              "      <th>325</th>\n",
              "      <td>US</td>\n",
              "      <td>-2.094001</td>\n",
              "      <td>-1.073113</td>\n",
              "      <td>1.217397</td>\n",
              "      <td>-0.550790</td>\n",
              "      <td>2.666547</td>\n",
              "      <td>7.449942</td>\n",
              "      <td>-6.418064</td>\n",
              "      <td>10.907098</td>\n",
              "      <td>-11.134323</td>\n",
              "      <td>6.728373</td>\n",
              "      <td>2.461446</td>\n",
              "      <td>-0.026113</td>\n",
              "    </tr>\n",
              "    <tr>\n",
              "      <th>326</th>\n",
              "      <td>US</td>\n",
              "      <td>2.116909</td>\n",
              "      <td>-4.441482</td>\n",
              "      <td>5.350392</td>\n",
              "      <td>3.675396</td>\n",
              "      <td>2.715876</td>\n",
              "      <td>3.682670</td>\n",
              "      <td>-4.500850</td>\n",
              "      <td>11.798565</td>\n",
              "      <td>-12.031005</td>\n",
              "      <td>7.566142</td>\n",
              "      <td>-0.606010</td>\n",
              "      <td>-2.245129</td>\n",
              "    </tr>\n",
              "    <tr>\n",
              "      <th>327</th>\n",
              "      <td>US</td>\n",
              "      <td>0.299616</td>\n",
              "      <td>0.324844</td>\n",
              "      <td>3.299919</td>\n",
              "      <td>2.044040</td>\n",
              "      <td>3.634828</td>\n",
              "      <td>6.693840</td>\n",
              "      <td>-5.676224</td>\n",
              "      <td>12.000518</td>\n",
              "      <td>-11.912901</td>\n",
              "      <td>4.664406</td>\n",
              "      <td>1.197789</td>\n",
              "      <td>-2.230275</td>\n",
              "    </tr>\n",
              "    <tr>\n",
              "      <th>328</th>\n",
              "      <td>US</td>\n",
              "      <td>3.214254</td>\n",
              "      <td>-3.135152</td>\n",
              "      <td>1.122691</td>\n",
              "      <td>4.712444</td>\n",
              "      <td>5.926518</td>\n",
              "      <td>6.915566</td>\n",
              "      <td>-5.799727</td>\n",
              "      <td>10.858532</td>\n",
              "      <td>-11.659845</td>\n",
              "      <td>10.605734</td>\n",
              "      <td>0.349482</td>\n",
              "      <td>-5.983281</td>\n",
              "    </tr>\n",
              "  </tbody>\n",
              "</table>\n",
              "<p>329 rows × 13 columns</p>\n",
              "</div>\n",
              "      <button class=\"colab-df-convert\" onclick=\"convertToInteractive('df-ef75807a-2cf2-4efa-ade1-64647ee56d7f')\"\n",
              "              title=\"Convert this dataframe to an interactive table.\"\n",
              "              style=\"display:none;\">\n",
              "        \n",
              "  <svg xmlns=\"http://www.w3.org/2000/svg\" height=\"24px\"viewBox=\"0 0 24 24\"\n",
              "       width=\"24px\">\n",
              "    <path d=\"M0 0h24v24H0V0z\" fill=\"none\"/>\n",
              "    <path d=\"M18.56 5.44l.94 2.06.94-2.06 2.06-.94-2.06-.94-.94-2.06-.94 2.06-2.06.94zm-11 1L8.5 8.5l.94-2.06 2.06-.94-2.06-.94L8.5 2.5l-.94 2.06-2.06.94zm10 10l.94 2.06.94-2.06 2.06-.94-2.06-.94-.94-2.06-.94 2.06-2.06.94z\"/><path d=\"M17.41 7.96l-1.37-1.37c-.4-.4-.92-.59-1.43-.59-.52 0-1.04.2-1.43.59L10.3 9.45l-7.72 7.72c-.78.78-.78 2.05 0 2.83L4 21.41c.39.39.9.59 1.41.59.51 0 1.02-.2 1.41-.59l7.78-7.78 2.81-2.81c.8-.78.8-2.07 0-2.86zM5.41 20L4 18.59l7.72-7.72 1.47 1.35L5.41 20z\"/>\n",
              "  </svg>\n",
              "      </button>\n",
              "      \n",
              "  <style>\n",
              "    .colab-df-container {\n",
              "      display:flex;\n",
              "      flex-wrap:wrap;\n",
              "      gap: 12px;\n",
              "    }\n",
              "\n",
              "    .colab-df-convert {\n",
              "      background-color: #E8F0FE;\n",
              "      border: none;\n",
              "      border-radius: 50%;\n",
              "      cursor: pointer;\n",
              "      display: none;\n",
              "      fill: #1967D2;\n",
              "      height: 32px;\n",
              "      padding: 0 0 0 0;\n",
              "      width: 32px;\n",
              "    }\n",
              "\n",
              "    .colab-df-convert:hover {\n",
              "      background-color: #E2EBFA;\n",
              "      box-shadow: 0px 1px 2px rgba(60, 64, 67, 0.3), 0px 1px 3px 1px rgba(60, 64, 67, 0.15);\n",
              "      fill: #174EA6;\n",
              "    }\n",
              "\n",
              "    [theme=dark] .colab-df-convert {\n",
              "      background-color: #3B4455;\n",
              "      fill: #D2E3FC;\n",
              "    }\n",
              "\n",
              "    [theme=dark] .colab-df-convert:hover {\n",
              "      background-color: #434B5C;\n",
              "      box-shadow: 0px 1px 3px 1px rgba(0, 0, 0, 0.15);\n",
              "      filter: drop-shadow(0px 1px 2px rgba(0, 0, 0, 0.3));\n",
              "      fill: #FFFFFF;\n",
              "    }\n",
              "  </style>\n",
              "\n",
              "      <script>\n",
              "        const buttonEl =\n",
              "          document.querySelector('#df-ef75807a-2cf2-4efa-ade1-64647ee56d7f button.colab-df-convert');\n",
              "        buttonEl.style.display =\n",
              "          google.colab.kernel.accessAllowed ? 'block' : 'none';\n",
              "\n",
              "        async function convertToInteractive(key) {\n",
              "          const element = document.querySelector('#df-ef75807a-2cf2-4efa-ade1-64647ee56d7f');\n",
              "          const dataTable =\n",
              "            await google.colab.kernel.invokeFunction('convertToInteractive',\n",
              "                                                     [key], {});\n",
              "          if (!dataTable) return;\n",
              "\n",
              "          const docLinkHtml = 'Like what you see? Visit the ' +\n",
              "            '<a target=\"_blank\" href=https://colab.research.google.com/notebooks/data_table.ipynb>data table notebook</a>'\n",
              "            + ' to learn more about interactive tables.';\n",
              "          element.innerHTML = '';\n",
              "          dataTable['output_type'] = 'display_data';\n",
              "          await google.colab.output.renderOutput(dataTable, element);\n",
              "          const docLink = document.createElement('div');\n",
              "          docLink.innerHTML = docLinkHtml;\n",
              "          element.appendChild(docLink);\n",
              "        }\n",
              "      </script>\n",
              "    </div>\n",
              "  </div>\n",
              "  "
            ],
            "text/plain": [
              "    language         X1        X2  ...        X10       X11       X12\n",
              "0         ES   7.071476 -6.512900  ...  -2.812753  0.866538 -5.244274\n",
              "1         ES  10.982967 -5.157445  ...  -4.508811  2.332147 -6.221857\n",
              "2         ES   7.827108 -5.477472  ...  -7.204041 -0.011847 -6.463144\n",
              "3         ES   6.744083 -5.688920  ...  -6.019237  1.358559 -6.356441\n",
              "4         ES   5.836843 -5.326557  ...  -3.644812  2.151239 -6.816310\n",
              "..       ...        ...       ...  ...        ...       ...       ...\n",
              "324       US  -0.525273 -3.868338  ...   7.129909  0.209947 -1.946914\n",
              "325       US  -2.094001 -1.073113  ...   6.728373  2.461446 -0.026113\n",
              "326       US   2.116909 -4.441482  ...   7.566142 -0.606010 -2.245129\n",
              "327       US   0.299616  0.324844  ...   4.664406  1.197789 -2.230275\n",
              "328       US   3.214254 -3.135152  ...  10.605734  0.349482 -5.983281\n",
              "\n",
              "[329 rows x 13 columns]"
            ]
          },
          "metadata": {},
          "execution_count": 2
        }
      ]
    },
    {
      "cell_type": "code",
      "source": [
        "# visualizziamo le persone per ogni lingua\n",
        "print(df.groupby('language').size())"
      ],
      "metadata": {
        "colab": {
          "base_uri": "https://localhost:8080/"
        },
        "id": "-R09oR1efDmB",
        "outputId": "975d3d5b-83c1-434a-a023-48a931f27a63"
      },
      "execution_count": null,
      "outputs": [
        {
          "output_type": "stream",
          "name": "stdout",
          "text": [
            "language\n",
            "ES     29\n",
            "FR     30\n",
            "GE     30\n",
            "IT     30\n",
            "UK     45\n",
            "US    165\n",
            "dtype: int64\n"
          ]
        }
      ]
    },
    {
      "cell_type": "code",
      "source": [
        "# per maggior chiarezza, visualizziamo anche il grafico\n",
        "%matplotlib inline\n",
        "import seaborn as sns\n",
        "import matplotlib.pyplot as plt\n",
        "\n",
        "\n",
        "sns.countplot(x=\"language\", data=df)\n",
        "plt.title(\"Accents Dataset\")\n",
        "plt.xlabel(\"Languages\")\n",
        "plt.ylabel(\"Counts\")\n",
        "plt.show()"
      ],
      "metadata": {
        "colab": {
          "base_uri": "https://localhost:8080/",
          "height": 295
        },
        "id": "GWa2UzQcfj5h",
        "outputId": "840c916c-a61d-46e6-a4f8-952ea146e124"
      },
      "execution_count": null,
      "outputs": [
        {
          "output_type": "display_data",
          "data": {
            "image/png": "[encoded data removed]",
            "text/plain": [
              "<Figure size 432x288 with 1 Axes>"
            ]
          },
          "metadata": {
            "needs_background": "light"
          }
        }
      ]
    },
    {
      "cell_type": "code",
      "source": [
        "# traformiamo il dataframe in una matrice numpy e separiamo il target (la classe, prima colonna, che chiamiamo y)\n",
        "# dal resto dei dati (le osservazioni, che chiameremo x)\n",
        "import numpy as np\n",
        "dfnp = df.to_numpy()\n",
        "\n",
        "x=dfnp[:,1:] # prendiamo tutti i dati tranne la prima colonna, osservazioni\n",
        "y=dfnp[:,0] # prendiamo solo la prima colonna, target language"
      ],
      "metadata": {
        "id": "lG-B3rbKf6CB"
      },
      "execution_count": null,
      "outputs": []
    },
    {
      "cell_type": "code",
      "source": [
        "# vediamo i dati presenti in x e y\n",
        "print(x[:10])\n",
        "print(f'y = {y[:10]}')"
      ],
      "metadata": {
        "colab": {
          "base_uri": "https://localhost:8080/"
        },
        "id": "QrJ_ORQdgF5p",
        "outputId": "1d569233-ce87-434d-ee1e-3f48ad68e6fe"
      },
      "execution_count": null,
      "outputs": [
        {
          "output_type": "stream",
          "name": "stdout",
          "text": [
            "[[7.07147563279846 -6.51289966399678 7.65079980498752 11.1507832007291\n",
            "  -7.65731234058068 12.4840205599929 -11.7097718857424 3.42659638843557\n",
            "  1.46271520252172 -2.81275273412956 0.866537751632946 -5.24427382038509]\n",
            " [10.9829671733676 -5.15744504970454 3.95206022055212 11.5293811273129\n",
            "  -7.63804669170403 12.1360978188533 -12.0362473181582 3.49194278632722\n",
            "  0.595440752357685 -4.50881099351802 2.33214701045696 -6.22185741204842]\n",
            " [7.82710836372117 -5.4774719375507 7.81625728354177 9.18759183446928\n",
            "  -7.17251058863673 11.7152993936345 -13.8472137647846 4.57407482690652\n",
            "  -1.68755928601376 -7.20404059404916 -0.0118469028342711\n",
            "  -6.46314403041117]\n",
            " [6.74408266350702 -5.68892029059513 6.54678865900131 9.00018318158033\n",
            "  -6.92496340078943 11.710765707178 -12.3743884463117 6.16987885877346\n",
            "  -0.544746654449008 -6.01923700122678 1.35855949477968 -6.35644130804511]\n",
            " [5.83684250980682 -5.32655674992234 7.4722647123844 8.84743979530141\n",
            "  -6.77324443641384 12.6772177022118 -12.3150606993062 4.41634401027015\n",
            "  0.193499859703288 -3.6448119000719 2.15123861667119 -6.81630976946318]\n",
            " [6.26708877521173 -4.22773802771982 7.22774080341415 10.0694181264418\n",
            "  -6.95387058136825 9.38477050978184 -15.3415381099221 6.71853321639703\n",
            "  -0.450951561924955 -7.17758524476969 2.53871288959457 -3.55053616672548]\n",
            " [10.421390959921 -4.26105285733239 7.47247218031419 9.17296126288463\n",
            "  -7.4190834347818 11.3887717744723 -14.5089586423527 6.55709310237008\n",
            "  0.0141102660405277 -8.55991015751888 2.5964145600032 -4.76350834189944]\n",
            " [8.78729307194009 -5.52466662162611 8.75221532378824 10.001286136164\n",
            "  -8.81064703237427 11.8916190344042 -13.2654905516799 6.96857834987611\n",
            "  0.903084613382524 -5.96950802128757 1.76050711639704 -6.10170631078892]\n",
            " [6.75466873114216 -4.6215686833778 10.1726246288567 14.3119377323524\n",
            "  -7.48551222902424 10.1260991877187 -12.3354028244226 5.02238012418246\n",
            "  -0.454546815549509 -9.48712866625829 1.31320337433791 -3.97176185149286]\n",
            " [9.80357677497061 -4.48560517101498 9.09275348349136 12.236940063672\n",
            "  -9.27652350981552 9.97229623944254 -14.0033464049568 6.09932943738871\n",
            "  -0.420891712411646 -9.93510576486665 2.55685070282917 -5.88719697038317]]\n",
            "y = ['ES' 'ES' 'ES' 'ES' 'ES' 'ES' 'ES' 'ES' 'ES' 'ES']\n"
          ]
        }
      ]
    },
    {
      "cell_type": "code",
      "source": [
        "# ora contiamo le classi che sono presenti nella y per vedere se corrispondono a quanto trovato nel dataframe\n",
        "# Print class frequencies through collections counter\n",
        "import collections\n",
        "collections.Counter(y)"
      ],
      "metadata": {
        "colab": {
          "base_uri": "https://localhost:8080/"
        },
        "id": "FW8Z88_ggRVE",
        "outputId": "896239bf-9ca6-42bf-da0f-9cd4dece9b4a"
      },
      "execution_count": null,
      "outputs": [
        {
          "output_type": "execute_result",
          "data": {
            "text/plain": [
              "Counter({'ES': 29, 'FR': 30, 'GE': 30, 'IT': 30, 'UK': 45, 'US': 165})"
            ]
          },
          "metadata": {},
          "execution_count": 7
        }
      ]
    },
    {
      "cell_type": "code",
      "source": [
        "# suddividiamo ora i dati in due dataset, uno per 'allenare' il metodo (training set) \n",
        "# e l'altro per testarne l'efficacia (test set). Facciamo in modo che il training set sia il 70% del totale\n",
        "\n",
        "from sklearn.model_selection import train_test_split # suddivide le osservazioni nei due insiemi\n",
        "\n",
        "X_train, X_test, y_train, y_test = train_test_split(x, y, \n",
        "                                                    test_size = 0.30, # by default is 75%-25%\n",
        "                                                    # shuffle is set True by default,\n",
        "                                                    stratify = y, # per mantenere le proporzioni che ci sono nei dati di partenza\n",
        "                                                    random_state = 123) # fix random seed for replicability"
      ],
      "metadata": {
        "id": "5gVWpJrbgtch"
      },
      "execution_count": null,
      "outputs": []
    },
    {
      "cell_type": "code",
      "source": [
        "# visualizziamo gli shape dei vari dataset X_train, X_test, y_train e y_test\n",
        "X_train.shape,y_train.shape,X_test.shape,y_test.shape"
      ],
      "metadata": {
        "colab": {
          "base_uri": "https://localhost:8080/"
        },
        "id": "e4ceIBKkhNhA",
        "outputId": "9d9957f5-64fe-456b-ea35-fac176e16783"
      },
      "execution_count": null,
      "outputs": [
        {
          "output_type": "execute_result",
          "data": {
            "text/plain": [
              "((230, 12), (230,), (99, 12), (99,))"
            ]
          },
          "metadata": {},
          "execution_count": 9
        }
      ]
    },
    {
      "cell_type": "markdown",
      "source": [
        "## K-NN"
      ],
      "metadata": {
        "id": "C1Jn_O8ChoDg"
      }
    },
    {
      "cell_type": "code",
      "source": [
        "# importiamo il metodo di classificazione K-NN\n",
        "from sklearn.neighbors import KNeighborsClassifier"
      ],
      "metadata": {
        "id": "EqS5pGgmhV75"
      },
      "execution_count": null,
      "outputs": []
    },
    {
      "cell_type": "markdown",
      "source": [
        "### K = 3"
      ],
      "metadata": {
        "id": "xMoNr0cGiSFR"
      }
    },
    {
      "cell_type": "code",
      "source": [
        "# inizializziamo il metodo con K = 3\n",
        "neigh = KNeighborsClassifier(n_neighbors=3)\n",
        "\n",
        "# \"alleniamo\" il metodo con i dati del training set\n",
        "neigh.fit(X_train, y_train)\n",
        "\n",
        "# proviamo a fare una previsione sui dati del test set\n",
        "predict = neigh.predict(X_test)\n",
        "\n",
        "# e visualizziamo il risultato (solo le prime dieci lingue)\n",
        "print(f'dati predetti dal metodo =                {predict[:10]}')\n",
        "print(f'dati reali presenti nel dataset di test = {y_test[:10]}')"
      ],
      "metadata": {
        "colab": {
          "base_uri": "https://localhost:8080/"
        },
        "id": "fsgX_Ew1htMx",
        "outputId": "547ba592-5d00-4c4e-de21-118e485f108b"
      },
      "execution_count": null,
      "outputs": [
        {
          "output_type": "stream",
          "name": "stdout",
          "text": [
            "dati predetti dal metodo =                ['US' 'FR' 'US' 'GE' 'FR' 'US' 'US' 'IT' 'ES' 'US']\n",
            "dati reali presenti nel dataset di test = ['US' 'US' 'US' 'GE' 'FR' 'US' 'US' 'IT' 'ES' 'US']\n"
          ]
        }
      ]
    },
    {
      "cell_type": "code",
      "source": [
        "# visualizziamo la confusion matrix\n",
        "from mlxtend.plotting import plot_confusion_matrix\n",
        "from matplotlib import pyplot as plt\n",
        "from sklearn.metrics import confusion_matrix, classification_report\n",
        "\n",
        "plot_confusion_matrix(confusion_matrix(y_test, predict), cmap=plt.cm.Dark2)\n",
        "plt.show()"
      ],
      "metadata": {
        "colab": {
          "base_uri": "https://localhost:8080/",
          "height": 279
        },
        "id": "IBKivOlwh0qh",
        "outputId": "5c0516fd-59b3-4e01-86e7-d57456df4311"
      },
      "execution_count": null,
      "outputs": [
        {
          "output_type": "display_data",
          "data": {
            "image/png": "[encoded data removed]",
            "text/plain": [
              "<Figure size 432x288 with 1 Axes>"
            ]
          },
          "metadata": {
            "needs_background": "light"
          }
        }
      ]
    },
    {
      "cell_type": "code",
      "source": [
        "# visualizziamo adesso gli indicatori\n",
        "print(classification_report(y_test, predict))"
      ],
      "metadata": {
        "colab": {
          "base_uri": "https://localhost:8080/"
        },
        "id": "PU3cTQR5iufA",
        "outputId": "7c9bcf93-88f4-4252-e154-111925cf4832"
      },
      "execution_count": null,
      "outputs": [
        {
          "output_type": "stream",
          "name": "stdout",
          "text": [
            "              precision    recall  f1-score   support\n",
            "\n",
            "          ES       0.67      0.89      0.76         9\n",
            "          FR       0.70      0.78      0.74         9\n",
            "          GE       0.67      0.89      0.76         9\n",
            "          IT       0.67      0.44      0.53         9\n",
            "          UK       0.83      0.77      0.80        13\n",
            "          US       0.91      0.86      0.89        50\n",
            "\n",
            "    accuracy                           0.81        99\n",
            "   macro avg       0.74      0.77      0.75        99\n",
            "weighted avg       0.82      0.81      0.81        99\n",
            "\n"
          ]
        }
      ]
    },
    {
      "cell_type": "markdown",
      "source": [
        "Usando K = 3 il metodo è preciso all'**81%**"
      ],
      "metadata": {
        "id": "LKk6YedQkQqp"
      }
    },
    {
      "cell_type": "markdown",
      "source": [
        "### K = 5"
      ],
      "metadata": {
        "id": "DFgko6f4kWXY"
      }
    },
    {
      "cell_type": "code",
      "source": [
        "# inizializziamo il metodo con K = 5\n",
        "neigh = KNeighborsClassifier(n_neighbors=5)\n",
        "\n",
        "# \"alleniamo\" il metodo con i dati del training set\n",
        "neigh.fit(X_train, y_train)\n",
        "\n",
        "# proviamo a fare una previsione sui dati del test set\n",
        "predict = neigh.predict(X_test)\n",
        "\n",
        "# e visualizziamo il risultato (solo le prime dieci lingue)\n",
        "print(f'dati predetti dal metodo =                {predict[:10]}')\n",
        "print(f'dati reali presenti nel dataset di test = {y_test[:10]}')"
      ],
      "metadata": {
        "colab": {
          "base_uri": "https://localhost:8080/"
        },
        "id": "UF-J_wRmkX3M",
        "outputId": "16bb5a4d-4f28-4a62-e782-2017db89676c"
      },
      "execution_count": null,
      "outputs": [
        {
          "output_type": "stream",
          "name": "stdout",
          "text": [
            "dati predetti dal metodo =                ['US' 'FR' 'GE' 'GE' 'FR' 'US' 'US' 'IT' 'ES' 'US']\n",
            "dati reali presenti nel dataset di test = ['US' 'US' 'US' 'GE' 'FR' 'US' 'US' 'IT' 'ES' 'US']\n"
          ]
        }
      ]
    },
    {
      "cell_type": "code",
      "source": [
        "# visualizziamo la confusion matrix\n",
        "from mlxtend.plotting import plot_confusion_matrix\n",
        "from matplotlib import pyplot as plt\n",
        "from sklearn.metrics import confusion_matrix, classification_report\n",
        "\n",
        "plot_confusion_matrix(confusion_matrix(y_test, predict), cmap=plt.cm.Dark2)\n",
        "plt.show()"
      ],
      "metadata": {
        "colab": {
          "base_uri": "https://localhost:8080/"
        },
        "id": "KD04zFmeka64",
        "outputId": "e6b23bfe-a0b0-47f7-a27c-080a99a7756f"
      },
      "execution_count": null,
      "outputs": [
        {
          "output_type": "display_data",
          "data": {
            "image/png": "[encoded data removed]",
            "text/plain": [
              "<Figure size 432x288 with 1 Axes>"
            ]
          },
          "metadata": {
            "needs_background": "light"
          }
        }
      ]
    },
    {
      "cell_type": "code",
      "source": [
        "# visualizziamo adesso gli indicatori\n",
        "print(classification_report(y_test, predict))"
      ],
      "metadata": {
        "colab": {
          "base_uri": "https://localhost:8080/"
        },
        "id": "0JGpu4ApkeeA",
        "outputId": "e42a389f-6a07-44a1-ea2d-b00b4d540b97"
      },
      "execution_count": null,
      "outputs": [
        {
          "output_type": "stream",
          "name": "stdout",
          "text": [
            "              precision    recall  f1-score   support\n",
            "\n",
            "          ES       0.67      0.89      0.76         9\n",
            "          FR       0.73      0.89      0.80         9\n",
            "          GE       0.55      0.67      0.60         9\n",
            "          IT       0.71      0.56      0.63         9\n",
            "          UK       0.90      0.69      0.78        13\n",
            "          US       0.88      0.84      0.86        50\n",
            "\n",
            "    accuracy                           0.79        99\n",
            "   macro avg       0.74      0.76      0.74        99\n",
            "weighted avg       0.80      0.79      0.79        99\n",
            "\n"
          ]
        }
      ]
    },
    {
      "cell_type": "markdown",
      "source": [
        "Usando K = 5 il metodo è preciso all'**79%**"
      ],
      "metadata": {
        "id": "hd71jWfsklzg"
      }
    },
    {
      "cell_type": "markdown",
      "source": [
        "### K = 7"
      ],
      "metadata": {
        "id": "XC6MC07Gkqnq"
      }
    },
    {
      "cell_type": "code",
      "source": [
        "# inizializziamo il metodo con K = 7\n",
        "neigh = KNeighborsClassifier(n_neighbors=7)\n",
        "\n",
        "# \"alleniamo\" il metodo con i dati del training set\n",
        "neigh.fit(X_train, y_train)\n",
        "\n",
        "# proviamo a fare una previsione sui dati del test set\n",
        "predict = neigh.predict(X_test)\n",
        "\n",
        "# e visualizziamo il risultato (solo le prime dieci lingue)\n",
        "print(f'dati predetti dal metodo =                {predict[:10]}')\n",
        "print(f'dati reali presenti nel dataset di test = {y_test[:10]}')"
      ],
      "metadata": {
        "colab": {
          "base_uri": "https://localhost:8080/"
        },
        "id": "KkKqLGUfkwfI",
        "outputId": "f0639f6f-85a8-4a11-dfbe-329d9481e810"
      },
      "execution_count": null,
      "outputs": [
        {
          "output_type": "stream",
          "name": "stdout",
          "text": [
            "dati predetti dal metodo =                ['US' 'FR' 'GE' 'GE' 'FR' 'US' 'US' 'IT' 'ES' 'US']\n",
            "dati reali presenti nel dataset di test = ['US' 'US' 'US' 'GE' 'FR' 'US' 'US' 'IT' 'ES' 'US']\n"
          ]
        }
      ]
    },
    {
      "cell_type": "code",
      "source": [
        "# visualizziamo la confusion matrix\n",
        "from mlxtend.plotting import plot_confusion_matrix\n",
        "from matplotlib import pyplot as plt\n",
        "from sklearn.metrics import confusion_matrix, classification_report\n",
        "\n",
        "plot_confusion_matrix(confusion_matrix(y_test, predict), cmap=plt.cm.Dark2)\n",
        "plt.show()"
      ],
      "metadata": {
        "colab": {
          "base_uri": "https://localhost:8080/",
          "height": 279
        },
        "id": "yK46oNOWk_1Z",
        "outputId": "5cc3d92a-f299-49c7-a356-9565522f26b0"
      },
      "execution_count": null,
      "outputs": [
        {
          "output_type": "display_data",
          "data": {
            "image/png": "[encoded data removed]",
            "text/plain": [
              "<Figure size 432x288 with 1 Axes>"
            ]
          },
          "metadata": {
            "needs_background": "light"
          }
        }
      ]
    },
    {
      "cell_type": "code",
      "source": [
        "# visualizziamo adesso gli indicatori\n",
        "print(classification_report(y_test, predict))"
      ],
      "metadata": {
        "colab": {
          "base_uri": "https://localhost:8080/"
        },
        "id": "VYFGuAZMlAao",
        "outputId": "20b62325-ef2d-47e5-8fb1-115213c5c0da"
      },
      "execution_count": null,
      "outputs": [
        {
          "output_type": "stream",
          "name": "stdout",
          "text": [
            "              precision    recall  f1-score   support\n",
            "\n",
            "          ES       0.70      0.78      0.74         9\n",
            "          FR       0.58      0.78      0.67         9\n",
            "          GE       0.67      0.67      0.67         9\n",
            "          IT       0.67      0.44      0.53         9\n",
            "          UK       0.77      0.77      0.77        13\n",
            "          US       0.88      0.86      0.87        50\n",
            "\n",
            "    accuracy                           0.78        99\n",
            "   macro avg       0.71      0.72      0.71        99\n",
            "weighted avg       0.78      0.78      0.78        99\n",
            "\n"
          ]
        }
      ]
    },
    {
      "cell_type": "markdown",
      "source": [
        "Usando K = 7 il metodo è preciso al **78%**"
      ],
      "metadata": {
        "id": "Mb4x3j-RlqiR"
      }
    },
    {
      "cell_type": "markdown",
      "source": [
        "### Analisi dei risultati del metodo K-NN - considerazioni\n",
        "Il metodo K-NN sembra diventare sempre meno accurato all'aumentare del valore di K. <br> Pertanto, valori più bassi sembrano garantire una maggiore accuratezza."
      ],
      "metadata": {
        "id": "3YmkJmJ5p5BR"
      }
    },
    {
      "cell_type": "markdown",
      "source": [
        "## Decision tree"
      ],
      "metadata": {
        "id": "pTl9Tdcll3fg"
      }
    },
    {
      "cell_type": "code",
      "source": [
        "# importiamo il metodo di classificazione decision tree\n",
        "from sklearn import tree"
      ],
      "metadata": {
        "id": "S0WSnCvJl8E4"
      },
      "execution_count": null,
      "outputs": []
    },
    {
      "cell_type": "markdown",
      "source": [
        "### Prova 1"
      ],
      "metadata": {
        "id": "7iuHUVOYmVHR"
      }
    },
    {
      "cell_type": "code",
      "source": [
        "# inizializziamo il metodo con i seguenti parametri:\n",
        "tree_clf = tree.DecisionTreeClassifier(criterion=\"gini\", # criteri per stabilire come splittare\n",
        "                                       max_depth=8, # profondità dell'albero per evitare l'overfitting\n",
        "                                       min_samples_split=25, # dimensione minima del sottogruppo a cui fermarsi (no more split)\n",
        "                                       max_leaf_nodes=10\n",
        "                                      )"
      ],
      "metadata": {
        "id": "4YeAc9QKmEz5"
      },
      "execution_count": null,
      "outputs": []
    },
    {
      "cell_type": "code",
      "source": [
        "tree_clf.fit(X_train,y_train)"
      ],
      "metadata": {
        "colab": {
          "base_uri": "https://localhost:8080/"
        },
        "id": "fSg2yDSao6Vj",
        "outputId": "ce263fd4-d13b-405e-8de2-1b0bfb704c7e"
      },
      "execution_count": null,
      "outputs": [
        {
          "output_type": "execute_result",
          "data": {
            "text/plain": [
              "DecisionTreeClassifier(max_depth=8, max_leaf_nodes=10, min_samples_split=25)"
            ]
          },
          "metadata": {},
          "execution_count": 22
        }
      ]
    },
    {
      "cell_type": "code",
      "source": [
        "# visualizziamo la confusion matrix\n",
        "from mlxtend.plotting import plot_confusion_matrix\n",
        "from matplotlib import pyplot as plt\n",
        "from sklearn.metrics import confusion_matrix, classification_report\n",
        "\n",
        "plot_confusion_matrix(confusion_matrix(y_test, predict), cmap=plt.cm.Dark2)\n",
        "plt.show()"
      ],
      "metadata": {
        "colab": {
          "base_uri": "https://localhost:8080/",
          "height": 279
        },
        "id": "ZPlYIiJZmUww",
        "outputId": "9becd860-7a85-427d-8b97-bd884168b70d"
      },
      "execution_count": null,
      "outputs": [
        {
          "output_type": "display_data",
          "data": {
            "image/png": "[encoded data removed]",
            "text/plain": [
              "<Figure size 432x288 with 1 Axes>"
            ]
          },
          "metadata": {
            "needs_background": "light"
          }
        }
      ]
    },
    {
      "cell_type": "code",
      "source": [
        "# visualizziamo adesso gli indicatori\n",
        "print(classification_report(y_test, predict))"
      ],
      "metadata": {
        "colab": {
          "base_uri": "https://localhost:8080/"
        },
        "id": "wtEnQUCWmep4",
        "outputId": "887d970d-47cf-44ee-901a-05d7a688c505"
      },
      "execution_count": null,
      "outputs": [
        {
          "output_type": "stream",
          "name": "stdout",
          "text": [
            "              precision    recall  f1-score   support\n",
            "\n",
            "          ES       0.70      0.78      0.74         9\n",
            "          FR       0.58      0.78      0.67         9\n",
            "          GE       0.67      0.67      0.67         9\n",
            "          IT       0.67      0.44      0.53         9\n",
            "          UK       0.77      0.77      0.77        13\n",
            "          US       0.88      0.86      0.87        50\n",
            "\n",
            "    accuracy                           0.78        99\n",
            "   macro avg       0.71      0.72      0.71        99\n",
            "weighted avg       0.78      0.78      0.78        99\n",
            "\n"
          ]
        }
      ]
    },
    {
      "cell_type": "code",
      "source": [
        "# e poi in forma grafica\n",
        "features=list(df.columns.values)\n",
        "\n",
        "import graphviz\n",
        "dot_data = tree.export_graphviz(tree_clf, out_file=None, \n",
        "                     feature_names=features[0:-1],  \n",
        "                     class_names=['ES','FR', 'GE', 'IT', 'UK', 'US'],  \n",
        "                     filled=True, rounded=True,  \n",
        "                     special_characters=True)  \n",
        "graph = graphviz.Source(dot_data)\n",
        "graph.render('accents')\n",
        "graph"
      ],
      "metadata": {
        "colab": {
          "base_uri": "https://localhost:8080/",
          "height": 1000
        },
        "id": "zyh-KkxInBmY",
        "outputId": "b77eec2a-794a-475c-9901-df242fb04549"
      },
      "execution_count": null,
      "outputs": [
        {
          "output_type": "execute_result",
          "data": {
            "text/plain": [
              "<graphviz.files.Source at 0x7f79528cfcd0>"
            ],
            "image/svg+xml": "<?xml version=\"1.0\" encoding=\"UTF-8\" standalone=\"no\"?>\n<!DOCTYPE svg PUBLIC \"-//W3C//DTD SVG 1.1//EN\"\n \"http://www.w3.org/Graphics/SVG/1.1/DTD/svg11.dtd\">\n<!-- Generated by graphviz version 2.40.1 (20161225.0304)\n -->\n<!-- Title: Tree Pages: 1 -->\n<svg width=\"940pt\" height=\"909pt\"\n viewBox=\"0.00 0.00 940.00 909.00\" xmlns=\"http://www.w3.org/2000/svg\" xmlns:xlink=\"http://www.w3.org/1999/xlink\">\n<g id=\"graph0\" class=\"graph\" transform=\"scale(1 1) rotate(0) translate(4 905)\">\n<title>Tree</title>\n<polygon fill=\"#ffffff\" stroke=\"transparent\" points=\"-4,4 -4,-905 936,-905 936,4 -4,4\"/>\n<!-- 0 -->\n<g id=\"node1\" class=\"node\">\n<title>0</title>\n<path fill=\"#f4acd6\" stroke=\"#000000\" d=\"M660,-901C660,-901 464,-901 464,-901 458,-901 452,-895 452,-889 452,-889 452,-830 452,-830 452,-824 458,-818 464,-818 464,-818 660,-818 660,-818 666,-818 672,-824 672,-830 672,-830 672,-889 672,-889 672,-895 666,-901 660,-901\"/>\n<text text-anchor=\"start\" x=\"524.5\" y=\"-885.8\" font-family=\"Helvetica,sans-Serif\" font-size=\"14.00\" fill=\"#000000\">X9 ≤ &#45;7.356</text>\n<text text-anchor=\"start\" x=\"524\" y=\"-870.8\" font-family=\"Helvetica,sans-Serif\" font-size=\"14.00\" fill=\"#000000\">gini = 0.698</text>\n<text text-anchor=\"start\" x=\"514\" y=\"-855.8\" font-family=\"Helvetica,sans-Serif\" font-size=\"14.00\" fill=\"#000000\">samples = 230</text>\n<text text-anchor=\"start\" x=\"460\" y=\"-840.8\" font-family=\"Helvetica,sans-Serif\" font-size=\"14.00\" fill=\"#000000\">value = [20, 21, 21, 21, 32, 115]</text>\n<text text-anchor=\"start\" x=\"527\" y=\"-825.8\" font-family=\"Helvetica,sans-Serif\" font-size=\"14.00\" fill=\"#000000\">class = US</text>\n</g>\n<!-- 1 -->\n<g id=\"node2\" class=\"node\">\n<title>1</title>\n<path fill=\"#f1bb94\" stroke=\"#000000\" d=\"M531,-774.5C531,-774.5 385,-774.5 385,-774.5 379,-774.5 373,-768.5 373,-762.5 373,-762.5 373,-718.5 373,-718.5 373,-712.5 379,-706.5 385,-706.5 385,-706.5 531,-706.5 531,-706.5 537,-706.5 543,-712.5 543,-718.5 543,-718.5 543,-762.5 543,-762.5 543,-768.5 537,-774.5 531,-774.5\"/>\n<text text-anchor=\"start\" x=\"420\" y=\"-759.3\" font-family=\"Helvetica,sans-Serif\" font-size=\"14.00\" fill=\"#000000\">gini = 0.432</text>\n<text text-anchor=\"start\" x=\"414\" y=\"-744.3\" font-family=\"Helvetica,sans-Serif\" font-size=\"14.00\" fill=\"#000000\">samples = 19</text>\n<text text-anchor=\"start\" x=\"381\" y=\"-729.3\" font-family=\"Helvetica,sans-Serif\" font-size=\"14.00\" fill=\"#000000\">value = [13, 0, 0, 0, 6, 0]</text>\n<text text-anchor=\"start\" x=\"423\" y=\"-714.3\" font-family=\"Helvetica,sans-Serif\" font-size=\"14.00\" fill=\"#000000\">class = ES</text>\n</g>\n<!-- 0&#45;&gt;1 -->\n<g id=\"edge1\" class=\"edge\">\n<title>0&#45;&gt;1</title>\n<path fill=\"none\" stroke=\"#000000\" d=\"M525.6258,-817.8796C515.6314,-806.4436 504.788,-794.0363 494.7714,-782.575\"/>\n<polygon fill=\"#000000\" stroke=\"#000000\" points=\"497.2055,-780.0414 487.9895,-774.8149 491.9347,-784.6479 497.2055,-780.0414\"/>\n<text text-anchor=\"middle\" x=\"486.3117\" y=\"-796.0586\" font-family=\"Helvetica,sans-Serif\" font-size=\"14.00\" fill=\"#000000\">True</text>\n</g>\n<!-- 2 -->\n<g id=\"node3\" class=\"node\">\n<title>2</title>\n<path fill=\"#f2a0d0\" stroke=\"#000000\" d=\"M761,-782C761,-782 573,-782 573,-782 567,-782 561,-776 561,-770 561,-770 561,-711 561,-711 561,-705 567,-699 573,-699 573,-699 761,-699 761,-699 767,-699 773,-705 773,-711 773,-711 773,-770 773,-770 773,-776 767,-782 761,-782\"/>\n<text text-anchor=\"start\" x=\"625.5\" y=\"-766.8\" font-family=\"Helvetica,sans-Serif\" font-size=\"14.00\" fill=\"#000000\">X11 ≤ &#45;2.521</text>\n<text text-anchor=\"start\" x=\"629\" y=\"-751.8\" font-family=\"Helvetica,sans-Serif\" font-size=\"14.00\" fill=\"#000000\">gini = 0.657</text>\n<text text-anchor=\"start\" x=\"619\" y=\"-736.8\" font-family=\"Helvetica,sans-Serif\" font-size=\"14.00\" fill=\"#000000\">samples = 211</text>\n<text text-anchor=\"start\" x=\"569\" y=\"-721.8\" font-family=\"Helvetica,sans-Serif\" font-size=\"14.00\" fill=\"#000000\">value = [7, 21, 21, 21, 26, 115]</text>\n<text text-anchor=\"start\" x=\"632\" y=\"-706.8\" font-family=\"Helvetica,sans-Serif\" font-size=\"14.00\" fill=\"#000000\">class = US</text>\n</g>\n<!-- 0&#45;&gt;2 -->\n<g id=\"edge2\" class=\"edge\">\n<title>0&#45;&gt;2</title>\n<path fill=\"none\" stroke=\"#000000\" d=\"M598.7239,-817.8796C606.6707,-808.8733 615.149,-799.2644 623.3326,-789.9897\"/>\n<polygon fill=\"#000000\" stroke=\"#000000\" points=\"626.1275,-792.1122 630.1193,-782.2981 620.8787,-787.4808 626.1275,-792.1122\"/>\n<text text-anchor=\"middle\" x=\"631.6788\" y=\"-803.5494\" font-family=\"Helvetica,sans-Serif\" font-size=\"14.00\" fill=\"#000000\">False</text>\n</g>\n<!-- 3 -->\n<g id=\"node4\" class=\"node\">\n<title>3</title>\n<path fill=\"#f7c2e1\" stroke=\"#000000\" d=\"M654.5,-663C654.5,-663 475.5,-663 475.5,-663 469.5,-663 463.5,-657 463.5,-651 463.5,-651 463.5,-592 463.5,-592 463.5,-586 469.5,-580 475.5,-580 475.5,-580 654.5,-580 654.5,-580 660.5,-580 666.5,-586 666.5,-592 666.5,-592 666.5,-651 666.5,-651 666.5,-657 660.5,-663 654.5,-663\"/>\n<text text-anchor=\"start\" x=\"508.5\" y=\"-647.8\" font-family=\"Helvetica,sans-Serif\" font-size=\"14.00\" fill=\"#000000\">language ≤ 7.641</text>\n<text text-anchor=\"start\" x=\"527\" y=\"-632.8\" font-family=\"Helvetica,sans-Serif\" font-size=\"14.00\" fill=\"#000000\">gini = 0.745</text>\n<text text-anchor=\"start\" x=\"517\" y=\"-617.8\" font-family=\"Helvetica,sans-Serif\" font-size=\"14.00\" fill=\"#000000\">samples = 155</text>\n<text text-anchor=\"start\" x=\"471.5\" y=\"-602.8\" font-family=\"Helvetica,sans-Serif\" font-size=\"14.00\" fill=\"#000000\">value = [7, 20, 20, 16, 26, 66]</text>\n<text text-anchor=\"start\" x=\"530\" y=\"-587.8\" font-family=\"Helvetica,sans-Serif\" font-size=\"14.00\" fill=\"#000000\">class = US</text>\n</g>\n<!-- 2&#45;&gt;3 -->\n<g id=\"edge3\" class=\"edge\">\n<title>2&#45;&gt;3</title>\n<path fill=\"none\" stroke=\"#000000\" d=\"M631.3253,-698.8796C623.6057,-689.8733 615.3695,-680.2644 607.4197,-670.9897\"/>\n<polygon fill=\"#000000\" stroke=\"#000000\" points=\"609.9923,-668.6129 600.8269,-663.2981 604.6775,-673.1684 609.9923,-668.6129\"/>\n</g>\n<!-- 4 -->\n<g id=\"node19\" class=\"node\">\n<title>4</title>\n<path fill=\"#e954aa\" stroke=\"#000000\" d=\"M843,-655.5C843,-655.5 697,-655.5 697,-655.5 691,-655.5 685,-649.5 685,-643.5 685,-643.5 685,-599.5 685,-599.5 685,-593.5 691,-587.5 697,-587.5 697,-587.5 843,-587.5 843,-587.5 849,-587.5 855,-593.5 855,-599.5 855,-599.5 855,-643.5 855,-643.5 855,-649.5 849,-655.5 843,-655.5\"/>\n<text text-anchor=\"start\" x=\"732\" y=\"-640.3\" font-family=\"Helvetica,sans-Serif\" font-size=\"14.00\" fill=\"#000000\">gini = 0.226</text>\n<text text-anchor=\"start\" x=\"726\" y=\"-625.3\" font-family=\"Helvetica,sans-Serif\" font-size=\"14.00\" fill=\"#000000\">samples = 56</text>\n<text text-anchor=\"start\" x=\"693\" y=\"-610.3\" font-family=\"Helvetica,sans-Serif\" font-size=\"14.00\" fill=\"#000000\">value = [0, 1, 1, 5, 0, 49]</text>\n<text text-anchor=\"start\" x=\"735\" y=\"-595.3\" font-family=\"Helvetica,sans-Serif\" font-size=\"14.00\" fill=\"#000000\">class = US</text>\n</g>\n<!-- 2&#45;&gt;4 -->\n<g id=\"edge18\" class=\"edge\">\n<title>2&#45;&gt;4</title>\n<path fill=\"none\" stroke=\"#000000\" d=\"M703.0244,-698.8796C712.9227,-687.4436 723.6619,-675.0363 733.5822,-663.575\"/>\n<polygon fill=\"#000000\" stroke=\"#000000\" points=\"736.4007,-665.6666 740.2988,-655.8149 731.1079,-661.0855 736.4007,-665.6666\"/>\n</g>\n<!-- 5 -->\n<g id=\"node5\" class=\"node\">\n<title>5</title>\n<path fill=\"#fceaf5\" stroke=\"#000000\" d=\"M550.5,-544C550.5,-544 371.5,-544 371.5,-544 365.5,-544 359.5,-538 359.5,-532 359.5,-532 359.5,-473 359.5,-473 359.5,-467 365.5,-461 371.5,-461 371.5,-461 550.5,-461 550.5,-461 556.5,-461 562.5,-467 562.5,-473 562.5,-473 562.5,-532 562.5,-532 562.5,-538 556.5,-544 550.5,-544\"/>\n<text text-anchor=\"start\" x=\"430\" y=\"-528.8\" font-family=\"Helvetica,sans-Serif\" font-size=\"14.00\" fill=\"#000000\">X3 ≤ 7.19</text>\n<text text-anchor=\"start\" x=\"423\" y=\"-513.8\" font-family=\"Helvetica,sans-Serif\" font-size=\"14.00\" fill=\"#000000\">gini = 0.785</text>\n<text text-anchor=\"start\" x=\"413\" y=\"-498.8\" font-family=\"Helvetica,sans-Serif\" font-size=\"14.00\" fill=\"#000000\">samples = 111</text>\n<text text-anchor=\"start\" x=\"367.5\" y=\"-483.8\" font-family=\"Helvetica,sans-Serif\" font-size=\"14.00\" fill=\"#000000\">value = [5, 10, 20, 15, 26, 35]</text>\n<text text-anchor=\"start\" x=\"426\" y=\"-468.8\" font-family=\"Helvetica,sans-Serif\" font-size=\"14.00\" fill=\"#000000\">class = US</text>\n</g>\n<!-- 3&#45;&gt;5 -->\n<g id=\"edge4\" class=\"edge\">\n<title>3&#45;&gt;5</title>\n<path fill=\"none\" stroke=\"#000000\" d=\"M528.6258,-579.8796C520.7548,-570.8733 512.3571,-561.2644 504.2515,-551.9897\"/>\n<polygon fill=\"#000000\" stroke=\"#000000\" points=\"506.7454,-549.5246 497.5294,-544.2981 501.4746,-554.131 506.7454,-549.5246\"/>\n</g>\n<!-- 6 -->\n<g id=\"node16\" class=\"node\">\n<title>6</title>\n<path fill=\"#ef85c2\" stroke=\"#000000\" d=\"M747.5,-544C747.5,-544 592.5,-544 592.5,-544 586.5,-544 580.5,-538 580.5,-532 580.5,-532 580.5,-473 580.5,-473 580.5,-467 586.5,-461 592.5,-461 592.5,-461 747.5,-461 747.5,-461 753.5,-461 759.5,-467 759.5,-473 759.5,-473 759.5,-532 759.5,-532 759.5,-538 753.5,-544 747.5,-544\"/>\n<text text-anchor=\"start\" x=\"635\" y=\"-528.8\" font-family=\"Helvetica,sans-Serif\" font-size=\"14.00\" fill=\"#000000\">X7 ≤ 5.494</text>\n<text text-anchor=\"start\" x=\"632\" y=\"-513.8\" font-family=\"Helvetica,sans-Serif\" font-size=\"14.00\" fill=\"#000000\">gini = 0.449</text>\n<text text-anchor=\"start\" x=\"626\" y=\"-498.8\" font-family=\"Helvetica,sans-Serif\" font-size=\"14.00\" fill=\"#000000\">samples = 44</text>\n<text text-anchor=\"start\" x=\"588.5\" y=\"-483.8\" font-family=\"Helvetica,sans-Serif\" font-size=\"14.00\" fill=\"#000000\">value = [2, 10, 0, 1, 0, 31]</text>\n<text text-anchor=\"start\" x=\"635\" y=\"-468.8\" font-family=\"Helvetica,sans-Serif\" font-size=\"14.00\" fill=\"#000000\">class = US</text>\n</g>\n<!-- 3&#45;&gt;6 -->\n<g id=\"edge15\" class=\"edge\">\n<title>3&#45;&gt;6</title>\n<path fill=\"none\" stroke=\"#000000\" d=\"M601.7239,-579.8796C609.6707,-570.8733 618.149,-561.2644 626.3326,-551.9897\"/>\n<polygon fill=\"#000000\" stroke=\"#000000\" points=\"629.1275,-554.1122 633.1193,-544.2981 623.8787,-549.4808 629.1275,-554.1122\"/>\n</g>\n<!-- 9 -->\n<g id=\"node6\" class=\"node\">\n<title>9</title>\n<path fill=\"#d5fae4\" stroke=\"#000000\" d=\"M340.5,-425C340.5,-425 185.5,-425 185.5,-425 179.5,-425 173.5,-419 173.5,-413 173.5,-413 173.5,-354 173.5,-354 173.5,-348 179.5,-342 185.5,-342 185.5,-342 340.5,-342 340.5,-342 346.5,-342 352.5,-348 352.5,-354 352.5,-354 352.5,-413 352.5,-413 352.5,-419 346.5,-425 340.5,-425\"/>\n<text text-anchor=\"start\" x=\"228\" y=\"-409.8\" font-family=\"Helvetica,sans-Serif\" font-size=\"14.00\" fill=\"#000000\">X5 ≤ 9.709</text>\n<text text-anchor=\"start\" x=\"225\" y=\"-394.8\" font-family=\"Helvetica,sans-Serif\" font-size=\"14.00\" fill=\"#000000\">gini = 0.747</text>\n<text text-anchor=\"start\" x=\"219\" y=\"-379.8\" font-family=\"Helvetica,sans-Serif\" font-size=\"14.00\" fill=\"#000000\">samples = 49</text>\n<text text-anchor=\"start\" x=\"181.5\" y=\"-364.8\" font-family=\"Helvetica,sans-Serif\" font-size=\"14.00\" fill=\"#000000\">value = [0, 8, 19, 5, 6, 11]</text>\n<text text-anchor=\"start\" x=\"227.5\" y=\"-349.8\" font-family=\"Helvetica,sans-Serif\" font-size=\"14.00\" fill=\"#000000\">class = GE</text>\n</g>\n<!-- 5&#45;&gt;9 -->\n<g id=\"edge5\" class=\"edge\">\n<title>5&#45;&gt;9</title>\n<path fill=\"none\" stroke=\"#000000\" d=\"M391.7492,-460.8796C375.3203,-451.0056 357.6864,-440.4075 340.9011,-430.3193\"/>\n<polygon fill=\"#000000\" stroke=\"#000000\" points=\"342.5858,-427.2484 332.2117,-425.0969 338.9798,-433.2482 342.5858,-427.2484\"/>\n</g>\n<!-- 10 -->\n<g id=\"node9\" class=\"node\">\n<title>10</title>\n<path fill=\"#fdecf6\" stroke=\"#000000\" d=\"M545.5,-425C545.5,-425 382.5,-425 382.5,-425 376.5,-425 370.5,-419 370.5,-413 370.5,-413 370.5,-354 370.5,-354 370.5,-348 376.5,-342 382.5,-342 382.5,-342 545.5,-342 545.5,-342 551.5,-342 557.5,-348 557.5,-354 557.5,-354 557.5,-413 557.5,-413 557.5,-419 551.5,-425 545.5,-425\"/>\n<text text-anchor=\"start\" x=\"426.5\" y=\"-409.8\" font-family=\"Helvetica,sans-Serif\" font-size=\"14.00\" fill=\"#000000\">X9 ≤ &#45;2.207</text>\n<text text-anchor=\"start\" x=\"426\" y=\"-394.8\" font-family=\"Helvetica,sans-Serif\" font-size=\"14.00\" fill=\"#000000\">gini = 0.712</text>\n<text text-anchor=\"start\" x=\"420\" y=\"-379.8\" font-family=\"Helvetica,sans-Serif\" font-size=\"14.00\" fill=\"#000000\">samples = 62</text>\n<text text-anchor=\"start\" x=\"378.5\" y=\"-364.8\" font-family=\"Helvetica,sans-Serif\" font-size=\"14.00\" fill=\"#000000\">value = [5, 2, 1, 10, 20, 24]</text>\n<text text-anchor=\"start\" x=\"429\" y=\"-349.8\" font-family=\"Helvetica,sans-Serif\" font-size=\"14.00\" fill=\"#000000\">class = US</text>\n</g>\n<!-- 5&#45;&gt;10 -->\n<g id=\"edge8\" class=\"edge\">\n<title>5&#45;&gt;10</title>\n<path fill=\"none\" stroke=\"#000000\" d=\"M462.0493,-460.8796C462.2559,-452.6838 462.4751,-443.9891 462.689,-435.5013\"/>\n<polygon fill=\"#000000\" stroke=\"#000000\" points=\"466.193,-435.3831 462.9463,-425.2981 459.1953,-435.2067 466.193,-435.3831\"/>\n</g>\n<!-- 11 -->\n<g id=\"node7\" class=\"node\">\n<title>11</title>\n<path fill=\"#fcebf5\" stroke=\"#000000\" d=\"M150,-298.5C150,-298.5 12,-298.5 12,-298.5 6,-298.5 0,-292.5 0,-286.5 0,-286.5 0,-242.5 0,-242.5 0,-236.5 6,-230.5 12,-230.5 12,-230.5 150,-230.5 150,-230.5 156,-230.5 162,-236.5 162,-242.5 162,-242.5 162,-286.5 162,-286.5 162,-292.5 156,-298.5 150,-298.5\"/>\n<text text-anchor=\"start\" x=\"43\" y=\"-283.3\" font-family=\"Helvetica,sans-Serif\" font-size=\"14.00\" fill=\"#000000\">gini = 0.549</text>\n<text text-anchor=\"start\" x=\"37\" y=\"-268.3\" font-family=\"Helvetica,sans-Serif\" font-size=\"14.00\" fill=\"#000000\">samples = 18</text>\n<text text-anchor=\"start\" x=\"8\" y=\"-253.3\" font-family=\"Helvetica,sans-Serif\" font-size=\"14.00\" fill=\"#000000\">value = [0, 8, 0, 0, 1, 9]</text>\n<text text-anchor=\"start\" x=\"46\" y=\"-238.3\" font-family=\"Helvetica,sans-Serif\" font-size=\"14.00\" fill=\"#000000\">class = US</text>\n</g>\n<!-- 9&#45;&gt;11 -->\n<g id=\"edge6\" class=\"edge\">\n<title>9&#45;&gt;11</title>\n<path fill=\"none\" stroke=\"#000000\" d=\"M199.3452,-341.8796C180.5889,-329.6158 160.1239,-316.2348 141.567,-304.1015\"/>\n<polygon fill=\"#000000\" stroke=\"#000000\" points=\"143.4733,-301.1662 133.1882,-298.623 139.6425,-307.025 143.4733,-301.1662\"/>\n</g>\n<!-- 12 -->\n<g id=\"node8\" class=\"node\">\n<title>12</title>\n<path fill=\"#94f1bb\" stroke=\"#000000\" d=\"M338,-298.5C338,-298.5 192,-298.5 192,-298.5 186,-298.5 180,-292.5 180,-286.5 180,-286.5 180,-242.5 180,-242.5 180,-236.5 186,-230.5 192,-230.5 192,-230.5 338,-230.5 338,-230.5 344,-230.5 350,-236.5 350,-242.5 350,-242.5 350,-286.5 350,-286.5 350,-292.5 344,-298.5 338,-298.5\"/>\n<text text-anchor=\"start\" x=\"227\" y=\"-283.3\" font-family=\"Helvetica,sans-Serif\" font-size=\"14.00\" fill=\"#000000\">gini = 0.568</text>\n<text text-anchor=\"start\" x=\"221\" y=\"-268.3\" font-family=\"Helvetica,sans-Serif\" font-size=\"14.00\" fill=\"#000000\">samples = 31</text>\n<text text-anchor=\"start\" x=\"188\" y=\"-253.3\" font-family=\"Helvetica,sans-Serif\" font-size=\"14.00\" fill=\"#000000\">value = [0, 0, 19, 5, 5, 2]</text>\n<text text-anchor=\"start\" x=\"229.5\" y=\"-238.3\" font-family=\"Helvetica,sans-Serif\" font-size=\"14.00\" fill=\"#000000\">class = GE</text>\n</g>\n<!-- 9&#45;&gt;12 -->\n<g id=\"edge7\" class=\"edge\">\n<title>9&#45;&gt;12</title>\n<path fill=\"none\" stroke=\"#000000\" d=\"M263.6995,-341.8796C263.8788,-331.2134 264.0722,-319.7021 264.2538,-308.9015\"/>\n<polygon fill=\"#000000\" stroke=\"#000000\" points=\"267.7546,-308.8724 264.4233,-298.8149 260.7556,-308.7547 267.7546,-308.8724\"/>\n</g>\n<!-- 13 -->\n<g id=\"node10\" class=\"node\">\n<title>13</title>\n<path fill=\"#e1cff9\" stroke=\"#000000\" d=\"M539.5,-306C539.5,-306 384.5,-306 384.5,-306 378.5,-306 372.5,-300 372.5,-294 372.5,-294 372.5,-235 372.5,-235 372.5,-229 378.5,-223 384.5,-223 384.5,-223 539.5,-223 539.5,-223 545.5,-223 551.5,-229 551.5,-235 551.5,-235 551.5,-294 551.5,-294 551.5,-300 545.5,-306 539.5,-306\"/>\n<text text-anchor=\"start\" x=\"405.5\" y=\"-290.8\" font-family=\"Helvetica,sans-Serif\" font-size=\"14.00\" fill=\"#000000\">language ≤ 3.034</text>\n<text text-anchor=\"start\" x=\"424\" y=\"-275.8\" font-family=\"Helvetica,sans-Serif\" font-size=\"14.00\" fill=\"#000000\">gini = 0.659</text>\n<text text-anchor=\"start\" x=\"418\" y=\"-260.8\" font-family=\"Helvetica,sans-Serif\" font-size=\"14.00\" fill=\"#000000\">samples = 42</text>\n<text text-anchor=\"start\" x=\"380.5\" y=\"-245.8\" font-family=\"Helvetica,sans-Serif\" font-size=\"14.00\" fill=\"#000000\">value = [5, 2, 0, 2, 20, 13]</text>\n<text text-anchor=\"start\" x=\"427\" y=\"-230.8\" font-family=\"Helvetica,sans-Serif\" font-size=\"14.00\" fill=\"#000000\">class = UK</text>\n</g>\n<!-- 10&#45;&gt;13 -->\n<g id=\"edge9\" class=\"edge\">\n<title>10&#45;&gt;13</title>\n<path fill=\"none\" stroke=\"#000000\" d=\"M463.3005,-341.8796C463.1628,-333.6838 463.0166,-324.9891 462.874,-316.5013\"/>\n<polygon fill=\"#000000\" stroke=\"#000000\" points=\"466.3701,-316.2378 462.7025,-306.2981 459.3711,-316.3555 466.3701,-316.2378\"/>\n</g>\n<!-- 14 -->\n<g id=\"node15\" class=\"node\">\n<title>14</title>\n<path fill=\"#f8cee6\" stroke=\"#000000\" d=\"M728,-298.5C728,-298.5 582,-298.5 582,-298.5 576,-298.5 570,-292.5 570,-286.5 570,-286.5 570,-242.5 570,-242.5 570,-236.5 576,-230.5 582,-230.5 582,-230.5 728,-230.5 728,-230.5 734,-230.5 740,-236.5 740,-242.5 740,-242.5 740,-286.5 740,-286.5 740,-292.5 734,-298.5 728,-298.5\"/>\n<text text-anchor=\"start\" x=\"617\" y=\"-283.3\" font-family=\"Helvetica,sans-Serif\" font-size=\"14.00\" fill=\"#000000\">gini = 0.535</text>\n<text text-anchor=\"start\" x=\"611\" y=\"-268.3\" font-family=\"Helvetica,sans-Serif\" font-size=\"14.00\" fill=\"#000000\">samples = 20</text>\n<text text-anchor=\"start\" x=\"578\" y=\"-253.3\" font-family=\"Helvetica,sans-Serif\" font-size=\"14.00\" fill=\"#000000\">value = [0, 0, 1, 8, 0, 11]</text>\n<text text-anchor=\"start\" x=\"620\" y=\"-238.3\" font-family=\"Helvetica,sans-Serif\" font-size=\"14.00\" fill=\"#000000\">class = US</text>\n</g>\n<!-- 10&#45;&gt;14 -->\n<g id=\"edge14\" class=\"edge\">\n<title>10&#45;&gt;14</title>\n<path fill=\"none\" stroke=\"#000000\" d=\"M530.8025,-341.8796C550.5751,-329.5606 572.1569,-316.1143 591.7009,-303.9376\"/>\n<polygon fill=\"#000000\" stroke=\"#000000\" points=\"593.5944,-306.8817 600.2311,-298.623 589.8928,-300.9405 593.5944,-306.8817\"/>\n</g>\n<!-- 15 -->\n<g id=\"node11\" class=\"node\">\n<title>15</title>\n<path fill=\"#8139e5\" stroke=\"#000000\" d=\"M441,-179.5C441,-179.5 295,-179.5 295,-179.5 289,-179.5 283,-173.5 283,-167.5 283,-167.5 283,-123.5 283,-123.5 283,-117.5 289,-111.5 295,-111.5 295,-111.5 441,-111.5 441,-111.5 447,-111.5 453,-117.5 453,-123.5 453,-123.5 453,-167.5 453,-167.5 453,-173.5 447,-179.5 441,-179.5\"/>\n<text text-anchor=\"start\" x=\"338.5\" y=\"-164.3\" font-family=\"Helvetica,sans-Serif\" font-size=\"14.00\" fill=\"#000000\">gini = 0.0</text>\n<text text-anchor=\"start\" x=\"324\" y=\"-149.3\" font-family=\"Helvetica,sans-Serif\" font-size=\"14.00\" fill=\"#000000\">samples = 11</text>\n<text text-anchor=\"start\" x=\"291\" y=\"-134.3\" font-family=\"Helvetica,sans-Serif\" font-size=\"14.00\" fill=\"#000000\">value = [0, 0, 0, 0, 11, 0]</text>\n<text text-anchor=\"start\" x=\"333\" y=\"-119.3\" font-family=\"Helvetica,sans-Serif\" font-size=\"14.00\" fill=\"#000000\">class = UK</text>\n</g>\n<!-- 13&#45;&gt;15 -->\n<g id=\"edge10\" class=\"edge\">\n<title>13&#45;&gt;15</title>\n<path fill=\"none\" stroke=\"#000000\" d=\"M429.1234,-222.8796C420.1768,-211.5536 410.4776,-199.2748 401.4971,-187.9058\"/>\n<polygon fill=\"#000000\" stroke=\"#000000\" points=\"404.051,-185.4926 395.1059,-179.8149 398.558,-189.8316 404.051,-185.4926\"/>\n</g>\n<!-- 16 -->\n<g id=\"node12\" class=\"node\">\n<title>16</title>\n<path fill=\"#fadbed\" stroke=\"#000000\" d=\"M629,-187C629,-187 483,-187 483,-187 477,-187 471,-181 471,-175 471,-175 471,-116 471,-116 471,-110 477,-104 483,-104 483,-104 629,-104 629,-104 635,-104 641,-110 641,-116 641,-116 641,-175 641,-175 641,-181 635,-187 629,-187\"/>\n<text text-anchor=\"start\" x=\"518.5\" y=\"-171.8\" font-family=\"Helvetica,sans-Serif\" font-size=\"14.00\" fill=\"#000000\">X6 ≤ &#45;9.826</text>\n<text text-anchor=\"start\" x=\"518\" y=\"-156.8\" font-family=\"Helvetica,sans-Serif\" font-size=\"14.00\" fill=\"#000000\">gini = 0.706</text>\n<text text-anchor=\"start\" x=\"512\" y=\"-141.8\" font-family=\"Helvetica,sans-Serif\" font-size=\"14.00\" fill=\"#000000\">samples = 31</text>\n<text text-anchor=\"start\" x=\"479\" y=\"-126.8\" font-family=\"Helvetica,sans-Serif\" font-size=\"14.00\" fill=\"#000000\">value = [5, 2, 0, 2, 9, 13]</text>\n<text text-anchor=\"start\" x=\"521\" y=\"-111.8\" font-family=\"Helvetica,sans-Serif\" font-size=\"14.00\" fill=\"#000000\">class = US</text>\n</g>\n<!-- 13&#45;&gt;16 -->\n<g id=\"edge11\" class=\"edge\">\n<title>13&#45;&gt;16</title>\n<path fill=\"none\" stroke=\"#000000\" d=\"M494.8766,-222.8796C501.9197,-213.9633 509.4293,-204.4565 516.6874,-195.268\"/>\n<polygon fill=\"#000000\" stroke=\"#000000\" points=\"519.5309,-197.3147 522.983,-187.2981 514.0379,-192.9757 519.5309,-197.3147\"/>\n</g>\n<!-- 17 -->\n<g id=\"node13\" class=\"node\">\n<title>17</title>\n<path fill=\"#f3a3d1\" stroke=\"#000000\" d=\"M537,-68C537,-68 391,-68 391,-68 385,-68 379,-62 379,-56 379,-56 379,-12 379,-12 379,-6 385,0 391,0 391,0 537,0 537,0 543,0 549,-6 549,-12 549,-12 549,-56 549,-56 549,-62 543,-68 537,-68\"/>\n<text text-anchor=\"start\" x=\"430.5\" y=\"-52.8\" font-family=\"Helvetica,sans-Serif\" font-size=\"14.00\" fill=\"#000000\">gini = 0.57</text>\n<text text-anchor=\"start\" x=\"420\" y=\"-37.8\" font-family=\"Helvetica,sans-Serif\" font-size=\"14.00\" fill=\"#000000\">samples = 20</text>\n<text text-anchor=\"start\" x=\"387\" y=\"-22.8\" font-family=\"Helvetica,sans-Serif\" font-size=\"14.00\" fill=\"#000000\">value = [5, 1, 0, 1, 1, 12]</text>\n<text text-anchor=\"start\" x=\"429\" y=\"-7.8\" font-family=\"Helvetica,sans-Serif\" font-size=\"14.00\" fill=\"#000000\">class = US</text>\n</g>\n<!-- 16&#45;&gt;17 -->\n<g id=\"edge12\" class=\"edge\">\n<title>16&#45;&gt;17</title>\n<path fill=\"none\" stroke=\"#000000\" d=\"M521.7426,-103.9815C514.2351,-94.8828 506.2804,-85.242 498.7536,-76.1199\"/>\n<polygon fill=\"#000000\" stroke=\"#000000\" points=\"501.3354,-73.7495 492.2714,-68.2637 495.9361,-78.2045 501.3354,-73.7495\"/>\n</g>\n<!-- 18 -->\n<g id=\"node14\" class=\"node\">\n<title>18</title>\n<path fill=\"#a774ed\" stroke=\"#000000\" d=\"M717,-68C717,-68 579,-68 579,-68 573,-68 567,-62 567,-56 567,-56 567,-12 567,-12 567,-6 573,0 579,0 579,0 717,0 717,0 723,0 729,-6 729,-12 729,-12 729,-56 729,-56 729,-62 723,-68 717,-68\"/>\n<text text-anchor=\"start\" x=\"610\" y=\"-52.8\" font-family=\"Helvetica,sans-Serif\" font-size=\"14.00\" fill=\"#000000\">gini = 0.446</text>\n<text text-anchor=\"start\" x=\"604\" y=\"-37.8\" font-family=\"Helvetica,sans-Serif\" font-size=\"14.00\" fill=\"#000000\">samples = 11</text>\n<text text-anchor=\"start\" x=\"575\" y=\"-22.8\" font-family=\"Helvetica,sans-Serif\" font-size=\"14.00\" fill=\"#000000\">value = [0, 1, 0, 1, 8, 1]</text>\n<text text-anchor=\"start\" x=\"613\" y=\"-7.8\" font-family=\"Helvetica,sans-Serif\" font-size=\"14.00\" fill=\"#000000\">class = UK</text>\n</g>\n<!-- 16&#45;&gt;18 -->\n<g id=\"edge13\" class=\"edge\">\n<title>16&#45;&gt;18</title>\n<path fill=\"none\" stroke=\"#000000\" d=\"M590.2574,-103.9815C597.7649,-94.8828 605.7196,-85.242 613.2464,-76.1199\"/>\n<polygon fill=\"#000000\" stroke=\"#000000\" points=\"616.0639,-78.2045 619.7286,-68.2637 610.6646,-73.7495 616.0639,-78.2045\"/>\n</g>\n<!-- 7 -->\n<g id=\"node17\" class=\"node\">\n<title>7</title>\n<path fill=\"#e748a4\" stroke=\"#000000\" d=\"M740,-417.5C740,-417.5 594,-417.5 594,-417.5 588,-417.5 582,-411.5 582,-405.5 582,-405.5 582,-361.5 582,-361.5 582,-355.5 588,-349.5 594,-349.5 594,-349.5 740,-349.5 740,-349.5 746,-349.5 752,-355.5 752,-361.5 752,-361.5 752,-405.5 752,-405.5 752,-411.5 746,-417.5 740,-417.5\"/>\n<text text-anchor=\"start\" x=\"629\" y=\"-402.3\" font-family=\"Helvetica,sans-Serif\" font-size=\"14.00\" fill=\"#000000\">gini = 0.135</text>\n<text text-anchor=\"start\" x=\"623\" y=\"-387.3\" font-family=\"Helvetica,sans-Serif\" font-size=\"14.00\" fill=\"#000000\">samples = 28</text>\n<text text-anchor=\"start\" x=\"590\" y=\"-372.3\" font-family=\"Helvetica,sans-Serif\" font-size=\"14.00\" fill=\"#000000\">value = [0, 1, 0, 1, 0, 26]</text>\n<text text-anchor=\"start\" x=\"632\" y=\"-357.3\" font-family=\"Helvetica,sans-Serif\" font-size=\"14.00\" fill=\"#000000\">class = US</text>\n</g>\n<!-- 6&#45;&gt;7 -->\n<g id=\"edge16\" class=\"edge\">\n<title>6&#45;&gt;7</title>\n<path fill=\"none\" stroke=\"#000000\" d=\"M668.9507,-460.8796C668.6818,-450.2134 668.3916,-438.7021 668.1194,-427.9015\"/>\n<polygon fill=\"#000000\" stroke=\"#000000\" points=\"671.6161,-427.7235 667.8651,-417.8149 664.6183,-427.9 671.6161,-427.7235\"/>\n</g>\n<!-- 8 -->\n<g id=\"node18\" class=\"node\">\n<title>8</title>\n<path fill=\"#dbf6b7\" stroke=\"#000000\" d=\"M920,-417.5C920,-417.5 782,-417.5 782,-417.5 776,-417.5 770,-411.5 770,-405.5 770,-405.5 770,-361.5 770,-361.5 770,-355.5 776,-349.5 782,-349.5 782,-349.5 920,-349.5 920,-349.5 926,-349.5 932,-355.5 932,-361.5 932,-361.5 932,-405.5 932,-405.5 932,-411.5 926,-417.5 920,-417.5\"/>\n<text text-anchor=\"start\" x=\"817.5\" y=\"-402.3\" font-family=\"Helvetica,sans-Serif\" font-size=\"14.00\" fill=\"#000000\">gini = 0.57</text>\n<text text-anchor=\"start\" x=\"807\" y=\"-387.3\" font-family=\"Helvetica,sans-Serif\" font-size=\"14.00\" fill=\"#000000\">samples = 16</text>\n<text text-anchor=\"start\" x=\"778\" y=\"-372.3\" font-family=\"Helvetica,sans-Serif\" font-size=\"14.00\" fill=\"#000000\">value = [2, 9, 0, 0, 0, 5]</text>\n<text text-anchor=\"start\" x=\"816\" y=\"-357.3\" font-family=\"Helvetica,sans-Serif\" font-size=\"14.00\" fill=\"#000000\">class = FR</text>\n</g>\n<!-- 6&#45;&gt;8 -->\n<g id=\"edge17\" class=\"edge\">\n<title>6&#45;&gt;8</title>\n<path fill=\"none\" stroke=\"#000000\" d=\"M733.305,-460.8796C751.7903,-448.7263 771.9443,-435.4759 790.2665,-423.4297\"/>\n<polygon fill=\"#000000\" stroke=\"#000000\" points=\"792.6655,-426.0412 799.0986,-417.623 788.8199,-420.1921 792.6655,-426.0412\"/>\n</g>\n</g>\n</svg>\n"
          },
          "metadata": {},
          "execution_count": 25
        }
      ]
    },
    {
      "cell_type": "markdown",
      "source": [
        "Il metodo, con questi parametri, è accurato al 78%"
      ],
      "metadata": {
        "id": "dxeKn5aMq3-w"
      }
    },
    {
      "cell_type": "markdown",
      "source": [
        "### Prova 2"
      ],
      "metadata": {
        "id": "6FUwYQ5Nmtjh"
      }
    },
    {
      "cell_type": "code",
      "source": [
        "# inizializziamo il metodo con i seguenti parametri:\n",
        "tree_clf = tree.DecisionTreeClassifier(criterion=\"gini\", # criteri per stabilire come splittare\n",
        "                                       max_depth=4, # profondità dell'albero per evitare l'overfitting\n",
        "                                       min_samples_split=30, # dimensione minima del sottogruppo a cui fermarsi (no more split)\n",
        "                                       max_leaf_nodes=6, # numero dei nodi foglia\n",
        "                                       min_samples_leaf=4 # numero di campioni per essere una foglia\n",
        "                                      )"
      ],
      "metadata": {
        "id": "60JVKXpbmo3g"
      },
      "execution_count": null,
      "outputs": []
    },
    {
      "cell_type": "code",
      "source": [
        "tree_clf.fit(X_train,y_train)"
      ],
      "metadata": {
        "colab": {
          "base_uri": "https://localhost:8080/"
        },
        "id": "g4GvweRho91A",
        "outputId": "43b38e0d-0675-4e07-c2fe-f5f8edc2626b"
      },
      "execution_count": null,
      "outputs": [
        {
          "output_type": "execute_result",
          "data": {
            "text/plain": [
              "DecisionTreeClassifier(max_depth=4, max_leaf_nodes=6, min_samples_leaf=4,\n",
              "                       min_samples_split=30)"
            ]
          },
          "metadata": {},
          "execution_count": 27
        }
      ]
    },
    {
      "cell_type": "code",
      "source": [
        "# valutiamo il nostro metodo: più o meno accurato, qualche errore\n",
        "\n",
        "# visualizziamo la confusion matrix\n",
        "from mlxtend.plotting import plot_confusion_matrix\n",
        "from matplotlib import pyplot as plt\n",
        "from sklearn.metrics import confusion_matrix, classification_report\n",
        "\n",
        "plot_confusion_matrix(confusion_matrix(y_test, predict), cmap=plt.cm.Dark2)\n",
        "plt.show()"
      ],
      "metadata": {
        "colab": {
          "base_uri": "https://localhost:8080/",
          "height": 279
        },
        "id": "ZgHks-Jomjdo",
        "outputId": "94ee623d-3aa4-45af-a1d5-59563c105461"
      },
      "execution_count": null,
      "outputs": [
        {
          "output_type": "display_data",
          "data": {
            "image/png": "[encoded data removed]",
            "text/plain": [
              "<Figure size 432x288 with 1 Axes>"
            ]
          },
          "metadata": {
            "needs_background": "light"
          }
        }
      ]
    },
    {
      "cell_type": "code",
      "source": [
        "# visualizziamo adesso gli indicatori\n",
        "print(classification_report(y_test, predict))"
      ],
      "metadata": {
        "colab": {
          "base_uri": "https://localhost:8080/"
        },
        "id": "lLGQ6VuMme5w",
        "outputId": "ddf20035-e924-4de7-f873-c550ac480feb"
      },
      "execution_count": null,
      "outputs": [
        {
          "output_type": "stream",
          "name": "stdout",
          "text": [
            "              precision    recall  f1-score   support\n",
            "\n",
            "          ES       0.70      0.78      0.74         9\n",
            "          FR       0.58      0.78      0.67         9\n",
            "          GE       0.67      0.67      0.67         9\n",
            "          IT       0.67      0.44      0.53         9\n",
            "          UK       0.77      0.77      0.77        13\n",
            "          US       0.88      0.86      0.87        50\n",
            "\n",
            "    accuracy                           0.78        99\n",
            "   macro avg       0.71      0.72      0.71        99\n",
            "weighted avg       0.78      0.78      0.78        99\n",
            "\n"
          ]
        }
      ]
    },
    {
      "cell_type": "code",
      "source": [
        "# e poi in forma grafica\n",
        "features=list(df.columns.values)\n",
        "\n",
        "import graphviz\n",
        "dot_data = tree.export_graphviz(tree_clf, out_file=None, \n",
        "                     feature_names=features[0:-1],  \n",
        "                     class_names=['ES','FR', 'GE', 'IT', 'UK', 'US'],  \n",
        "                     filled=True, rounded=True,  \n",
        "                     special_characters=True)  \n",
        "graph = graphviz.Source(dot_data)\n",
        "graph.render('accents')\n",
        "graph"
      ],
      "metadata": {
        "colab": {
          "base_uri": "https://localhost:8080/",
          "height": 757
        },
        "id": "8ZBNHFaEnCZo",
        "outputId": "80630e61-cb56-4644-dda6-15183cb2e507"
      },
      "execution_count": null,
      "outputs": [
        {
          "output_type": "execute_result",
          "data": {
            "text/plain": [
              "<graphviz.files.Source at 0x7f79520f3b50>"
            ],
            "image/svg+xml": "<?xml version=\"1.0\" encoding=\"UTF-8\" standalone=\"no\"?>\n<!DOCTYPE svg PUBLIC \"-//W3C//DTD SVG 1.1//EN\"\n \"http://www.w3.org/Graphics/SVG/1.1/DTD/svg11.dtd\">\n<!-- Generated by graphviz version 2.40.1 (20161225.0304)\n -->\n<!-- Title: Tree Pages: 1 -->\n<svg width=\"767pt\" height=\"552pt\"\n viewBox=\"0.00 0.00 766.50 552.00\" xmlns=\"http://www.w3.org/2000/svg\" xmlns:xlink=\"http://www.w3.org/1999/xlink\">\n<g id=\"graph0\" class=\"graph\" transform=\"scale(1 1) rotate(0) translate(4 548)\">\n<title>Tree</title>\n<polygon fill=\"#ffffff\" stroke=\"transparent\" points=\"-4,4 -4,-548 762.5,-548 762.5,4 -4,4\"/>\n<!-- 0 -->\n<g id=\"node1\" class=\"node\">\n<title>0</title>\n<path fill=\"#f4acd6\" stroke=\"#000000\" d=\"M486.5,-544C486.5,-544 290.5,-544 290.5,-544 284.5,-544 278.5,-538 278.5,-532 278.5,-532 278.5,-473 278.5,-473 278.5,-467 284.5,-461 290.5,-461 290.5,-461 486.5,-461 486.5,-461 492.5,-461 498.5,-467 498.5,-473 498.5,-473 498.5,-532 498.5,-532 498.5,-538 492.5,-544 486.5,-544\"/>\n<text text-anchor=\"start\" x=\"351\" y=\"-528.8\" font-family=\"Helvetica,sans-Serif\" font-size=\"14.00\" fill=\"#000000\">X9 ≤ &#45;7.356</text>\n<text text-anchor=\"start\" x=\"350.5\" y=\"-513.8\" font-family=\"Helvetica,sans-Serif\" font-size=\"14.00\" fill=\"#000000\">gini = 0.698</text>\n<text text-anchor=\"start\" x=\"340.5\" y=\"-498.8\" font-family=\"Helvetica,sans-Serif\" font-size=\"14.00\" fill=\"#000000\">samples = 230</text>\n<text text-anchor=\"start\" x=\"286.5\" y=\"-483.8\" font-family=\"Helvetica,sans-Serif\" font-size=\"14.00\" fill=\"#000000\">value = [20, 21, 21, 21, 32, 115]</text>\n<text text-anchor=\"start\" x=\"353.5\" y=\"-468.8\" font-family=\"Helvetica,sans-Serif\" font-size=\"14.00\" fill=\"#000000\">class = US</text>\n</g>\n<!-- 1 -->\n<g id=\"node2\" class=\"node\">\n<title>1</title>\n<path fill=\"#f1bb94\" stroke=\"#000000\" d=\"M357.5,-417.5C357.5,-417.5 211.5,-417.5 211.5,-417.5 205.5,-417.5 199.5,-411.5 199.5,-405.5 199.5,-405.5 199.5,-361.5 199.5,-361.5 199.5,-355.5 205.5,-349.5 211.5,-349.5 211.5,-349.5 357.5,-349.5 357.5,-349.5 363.5,-349.5 369.5,-355.5 369.5,-361.5 369.5,-361.5 369.5,-405.5 369.5,-405.5 369.5,-411.5 363.5,-417.5 357.5,-417.5\"/>\n<text text-anchor=\"start\" x=\"246.5\" y=\"-402.3\" font-family=\"Helvetica,sans-Serif\" font-size=\"14.00\" fill=\"#000000\">gini = 0.432</text>\n<text text-anchor=\"start\" x=\"240.5\" y=\"-387.3\" font-family=\"Helvetica,sans-Serif\" font-size=\"14.00\" fill=\"#000000\">samples = 19</text>\n<text text-anchor=\"start\" x=\"207.5\" y=\"-372.3\" font-family=\"Helvetica,sans-Serif\" font-size=\"14.00\" fill=\"#000000\">value = [13, 0, 0, 0, 6, 0]</text>\n<text text-anchor=\"start\" x=\"249.5\" y=\"-357.3\" font-family=\"Helvetica,sans-Serif\" font-size=\"14.00\" fill=\"#000000\">class = ES</text>\n</g>\n<!-- 0&#45;&gt;1 -->\n<g id=\"edge1\" class=\"edge\">\n<title>0&#45;&gt;1</title>\n<path fill=\"none\" stroke=\"#000000\" d=\"M352.1258,-460.8796C342.1314,-449.4436 331.288,-437.0363 321.2714,-425.575\"/>\n<polygon fill=\"#000000\" stroke=\"#000000\" points=\"323.7055,-423.0414 314.4895,-417.8149 318.4347,-427.6479 323.7055,-423.0414\"/>\n<text text-anchor=\"middle\" x=\"312.8117\" y=\"-439.0586\" font-family=\"Helvetica,sans-Serif\" font-size=\"14.00\" fill=\"#000000\">True</text>\n</g>\n<!-- 2 -->\n<g id=\"node3\" class=\"node\">\n<title>2</title>\n<path fill=\"#f2a0d0\" stroke=\"#000000\" d=\"M587.5,-425C587.5,-425 399.5,-425 399.5,-425 393.5,-425 387.5,-419 387.5,-413 387.5,-413 387.5,-354 387.5,-354 387.5,-348 393.5,-342 399.5,-342 399.5,-342 587.5,-342 587.5,-342 593.5,-342 599.5,-348 599.5,-354 599.5,-354 599.5,-413 599.5,-413 599.5,-419 593.5,-425 587.5,-425\"/>\n<text text-anchor=\"start\" x=\"452\" y=\"-409.8\" font-family=\"Helvetica,sans-Serif\" font-size=\"14.00\" fill=\"#000000\">X11 ≤ &#45;2.521</text>\n<text text-anchor=\"start\" x=\"455.5\" y=\"-394.8\" font-family=\"Helvetica,sans-Serif\" font-size=\"14.00\" fill=\"#000000\">gini = 0.657</text>\n<text text-anchor=\"start\" x=\"445.5\" y=\"-379.8\" font-family=\"Helvetica,sans-Serif\" font-size=\"14.00\" fill=\"#000000\">samples = 211</text>\n<text text-anchor=\"start\" x=\"395.5\" y=\"-364.8\" font-family=\"Helvetica,sans-Serif\" font-size=\"14.00\" fill=\"#000000\">value = [7, 21, 21, 21, 26, 115]</text>\n<text text-anchor=\"start\" x=\"458.5\" y=\"-349.8\" font-family=\"Helvetica,sans-Serif\" font-size=\"14.00\" fill=\"#000000\">class = US</text>\n</g>\n<!-- 0&#45;&gt;2 -->\n<g id=\"edge2\" class=\"edge\">\n<title>0&#45;&gt;2</title>\n<path fill=\"none\" stroke=\"#000000\" d=\"M425.2239,-460.8796C433.1707,-451.8733 441.649,-442.2644 449.8326,-432.9897\"/>\n<polygon fill=\"#000000\" stroke=\"#000000\" points=\"452.6275,-435.1122 456.6193,-425.2981 447.3787,-430.4808 452.6275,-435.1122\"/>\n<text text-anchor=\"middle\" x=\"458.1788\" y=\"-446.5494\" font-family=\"Helvetica,sans-Serif\" font-size=\"14.00\" fill=\"#000000\">False</text>\n</g>\n<!-- 3 -->\n<g id=\"node4\" class=\"node\">\n<title>3</title>\n<path fill=\"#f7c2e1\" stroke=\"#000000\" d=\"M481,-306C481,-306 302,-306 302,-306 296,-306 290,-300 290,-294 290,-294 290,-235 290,-235 290,-229 296,-223 302,-223 302,-223 481,-223 481,-223 487,-223 493,-229 493,-235 493,-235 493,-294 493,-294 493,-300 487,-306 481,-306\"/>\n<text text-anchor=\"start\" x=\"335\" y=\"-290.8\" font-family=\"Helvetica,sans-Serif\" font-size=\"14.00\" fill=\"#000000\">language ≤ 7.641</text>\n<text text-anchor=\"start\" x=\"353.5\" y=\"-275.8\" font-family=\"Helvetica,sans-Serif\" font-size=\"14.00\" fill=\"#000000\">gini = 0.745</text>\n<text text-anchor=\"start\" x=\"343.5\" y=\"-260.8\" font-family=\"Helvetica,sans-Serif\" font-size=\"14.00\" fill=\"#000000\">samples = 155</text>\n<text text-anchor=\"start\" x=\"298\" y=\"-245.8\" font-family=\"Helvetica,sans-Serif\" font-size=\"14.00\" fill=\"#000000\">value = [7, 20, 20, 16, 26, 66]</text>\n<text text-anchor=\"start\" x=\"356.5\" y=\"-230.8\" font-family=\"Helvetica,sans-Serif\" font-size=\"14.00\" fill=\"#000000\">class = US</text>\n</g>\n<!-- 2&#45;&gt;3 -->\n<g id=\"edge3\" class=\"edge\">\n<title>2&#45;&gt;3</title>\n<path fill=\"none\" stroke=\"#000000\" d=\"M457.8253,-341.8796C450.1057,-332.8733 441.8695,-323.2644 433.9197,-313.9897\"/>\n<polygon fill=\"#000000\" stroke=\"#000000\" points=\"436.4923,-311.6129 427.3269,-306.2981 431.1775,-316.1684 436.4923,-311.6129\"/>\n</g>\n<!-- 4 -->\n<g id=\"node11\" class=\"node\">\n<title>4</title>\n<path fill=\"#e954aa\" stroke=\"#000000\" d=\"M669.5,-298.5C669.5,-298.5 523.5,-298.5 523.5,-298.5 517.5,-298.5 511.5,-292.5 511.5,-286.5 511.5,-286.5 511.5,-242.5 511.5,-242.5 511.5,-236.5 517.5,-230.5 523.5,-230.5 523.5,-230.5 669.5,-230.5 669.5,-230.5 675.5,-230.5 681.5,-236.5 681.5,-242.5 681.5,-242.5 681.5,-286.5 681.5,-286.5 681.5,-292.5 675.5,-298.5 669.5,-298.5\"/>\n<text text-anchor=\"start\" x=\"558.5\" y=\"-283.3\" font-family=\"Helvetica,sans-Serif\" font-size=\"14.00\" fill=\"#000000\">gini = 0.226</text>\n<text text-anchor=\"start\" x=\"552.5\" y=\"-268.3\" font-family=\"Helvetica,sans-Serif\" font-size=\"14.00\" fill=\"#000000\">samples = 56</text>\n<text text-anchor=\"start\" x=\"519.5\" y=\"-253.3\" font-family=\"Helvetica,sans-Serif\" font-size=\"14.00\" fill=\"#000000\">value = [0, 1, 1, 5, 0, 49]</text>\n<text text-anchor=\"start\" x=\"561.5\" y=\"-238.3\" font-family=\"Helvetica,sans-Serif\" font-size=\"14.00\" fill=\"#000000\">class = US</text>\n</g>\n<!-- 2&#45;&gt;4 -->\n<g id=\"edge10\" class=\"edge\">\n<title>2&#45;&gt;4</title>\n<path fill=\"none\" stroke=\"#000000\" d=\"M529.5244,-341.8796C539.4227,-330.4436 550.1619,-318.0363 560.0822,-306.575\"/>\n<polygon fill=\"#000000\" stroke=\"#000000\" points=\"562.9007,-308.6666 566.7988,-298.8149 557.6079,-304.0855 562.9007,-308.6666\"/>\n</g>\n<!-- 5 -->\n<g id=\"node5\" class=\"node\">\n<title>5</title>\n<path fill=\"#fceaf5\" stroke=\"#000000\" d=\"M377,-187C377,-187 198,-187 198,-187 192,-187 186,-181 186,-175 186,-175 186,-116 186,-116 186,-110 192,-104 198,-104 198,-104 377,-104 377,-104 383,-104 389,-110 389,-116 389,-116 389,-175 389,-175 389,-181 383,-187 377,-187\"/>\n<text text-anchor=\"start\" x=\"256.5\" y=\"-171.8\" font-family=\"Helvetica,sans-Serif\" font-size=\"14.00\" fill=\"#000000\">X3 ≤ 7.19</text>\n<text text-anchor=\"start\" x=\"249.5\" y=\"-156.8\" font-family=\"Helvetica,sans-Serif\" font-size=\"14.00\" fill=\"#000000\">gini = 0.785</text>\n<text text-anchor=\"start\" x=\"239.5\" y=\"-141.8\" font-family=\"Helvetica,sans-Serif\" font-size=\"14.00\" fill=\"#000000\">samples = 111</text>\n<text text-anchor=\"start\" x=\"194\" y=\"-126.8\" font-family=\"Helvetica,sans-Serif\" font-size=\"14.00\" fill=\"#000000\">value = [5, 10, 20, 15, 26, 35]</text>\n<text text-anchor=\"start\" x=\"252.5\" y=\"-111.8\" font-family=\"Helvetica,sans-Serif\" font-size=\"14.00\" fill=\"#000000\">class = US</text>\n</g>\n<!-- 3&#45;&gt;5 -->\n<g id=\"edge4\" class=\"edge\">\n<title>3&#45;&gt;5</title>\n<path fill=\"none\" stroke=\"#000000\" d=\"M355.1258,-222.8796C347.2548,-213.8733 338.8571,-204.2644 330.7515,-194.9897\"/>\n<polygon fill=\"#000000\" stroke=\"#000000\" points=\"333.2454,-192.5246 324.0294,-187.2981 327.9746,-197.131 333.2454,-192.5246\"/>\n</g>\n<!-- 6 -->\n<g id=\"node8\" class=\"node\">\n<title>6</title>\n<path fill=\"#ef85c2\" stroke=\"#000000\" d=\"M574,-187C574,-187 419,-187 419,-187 413,-187 407,-181 407,-175 407,-175 407,-116 407,-116 407,-110 413,-104 419,-104 419,-104 574,-104 574,-104 580,-104 586,-110 586,-116 586,-116 586,-175 586,-175 586,-181 580,-187 574,-187\"/>\n<text text-anchor=\"start\" x=\"461.5\" y=\"-171.8\" font-family=\"Helvetica,sans-Serif\" font-size=\"14.00\" fill=\"#000000\">X7 ≤ 5.494</text>\n<text text-anchor=\"start\" x=\"458.5\" y=\"-156.8\" font-family=\"Helvetica,sans-Serif\" font-size=\"14.00\" fill=\"#000000\">gini = 0.449</text>\n<text text-anchor=\"start\" x=\"452.5\" y=\"-141.8\" font-family=\"Helvetica,sans-Serif\" font-size=\"14.00\" fill=\"#000000\">samples = 44</text>\n<text text-anchor=\"start\" x=\"415\" y=\"-126.8\" font-family=\"Helvetica,sans-Serif\" font-size=\"14.00\" fill=\"#000000\">value = [2, 10, 0, 1, 0, 31]</text>\n<text text-anchor=\"start\" x=\"461.5\" y=\"-111.8\" font-family=\"Helvetica,sans-Serif\" font-size=\"14.00\" fill=\"#000000\">class = US</text>\n</g>\n<!-- 3&#45;&gt;6 -->\n<g id=\"edge7\" class=\"edge\">\n<title>3&#45;&gt;6</title>\n<path fill=\"none\" stroke=\"#000000\" d=\"M428.2239,-222.8796C436.1707,-213.8733 444.649,-204.2644 452.8326,-194.9897\"/>\n<polygon fill=\"#000000\" stroke=\"#000000\" points=\"455.6275,-197.1122 459.6193,-187.2981 450.3787,-192.4808 455.6275,-197.1122\"/>\n</g>\n<!-- 9 -->\n<g id=\"node6\" class=\"node\">\n<title>9</title>\n<path fill=\"#d5fae4\" stroke=\"#000000\" d=\"M167,-68C167,-68 12,-68 12,-68 6,-68 0,-62 0,-56 0,-56 0,-12 0,-12 0,-6 6,0 12,0 12,0 167,0 167,0 173,0 179,-6 179,-12 179,-12 179,-56 179,-56 179,-62 173,-68 167,-68\"/>\n<text text-anchor=\"start\" x=\"51.5\" y=\"-52.8\" font-family=\"Helvetica,sans-Serif\" font-size=\"14.00\" fill=\"#000000\">gini = 0.747</text>\n<text text-anchor=\"start\" x=\"45.5\" y=\"-37.8\" font-family=\"Helvetica,sans-Serif\" font-size=\"14.00\" fill=\"#000000\">samples = 49</text>\n<text text-anchor=\"start\" x=\"8\" y=\"-22.8\" font-family=\"Helvetica,sans-Serif\" font-size=\"14.00\" fill=\"#000000\">value = [0, 8, 19, 5, 6, 11]</text>\n<text text-anchor=\"start\" x=\"54\" y=\"-7.8\" font-family=\"Helvetica,sans-Serif\" font-size=\"14.00\" fill=\"#000000\">class = GE</text>\n</g>\n<!-- 5&#45;&gt;9 -->\n<g id=\"edge5\" class=\"edge\">\n<title>5&#45;&gt;9</title>\n<path fill=\"none\" stroke=\"#000000\" d=\"M213.7721,-103.9815C195.889,-93.911 176.8268,-83.1764 159.1393,-73.2161\"/>\n<polygon fill=\"#000000\" stroke=\"#000000\" points=\"160.4595,-69.9428 150.0287,-68.0856 157.0248,-76.0422 160.4595,-69.9428\"/>\n</g>\n<!-- 10 -->\n<g id=\"node7\" class=\"node\">\n<title>10</title>\n<path fill=\"#fdecf6\" stroke=\"#000000\" d=\"M372,-68C372,-68 209,-68 209,-68 203,-68 197,-62 197,-56 197,-56 197,-12 197,-12 197,-6 203,0 209,0 209,0 372,0 372,0 378,0 384,-6 384,-12 384,-12 384,-56 384,-56 384,-62 378,-68 372,-68\"/>\n<text text-anchor=\"start\" x=\"252.5\" y=\"-52.8\" font-family=\"Helvetica,sans-Serif\" font-size=\"14.00\" fill=\"#000000\">gini = 0.712</text>\n<text text-anchor=\"start\" x=\"246.5\" y=\"-37.8\" font-family=\"Helvetica,sans-Serif\" font-size=\"14.00\" fill=\"#000000\">samples = 62</text>\n<text text-anchor=\"start\" x=\"205\" y=\"-22.8\" font-family=\"Helvetica,sans-Serif\" font-size=\"14.00\" fill=\"#000000\">value = [5, 2, 1, 10, 20, 24]</text>\n<text text-anchor=\"start\" x=\"255.5\" y=\"-7.8\" font-family=\"Helvetica,sans-Serif\" font-size=\"14.00\" fill=\"#000000\">class = US</text>\n</g>\n<!-- 5&#45;&gt;10 -->\n<g id=\"edge6\" class=\"edge\">\n<title>5&#45;&gt;10</title>\n<path fill=\"none\" stroke=\"#000000\" d=\"M288.6171,-103.9815C288.8421,-95.618 289.0795,-86.7965 289.307,-78.3409\"/>\n<polygon fill=\"#000000\" stroke=\"#000000\" points=\"292.8078,-78.3542 289.5781,-68.2637 285.8103,-78.1659 292.8078,-78.3542\"/>\n</g>\n<!-- 7 -->\n<g id=\"node9\" class=\"node\">\n<title>7</title>\n<path fill=\"#e748a4\" stroke=\"#000000\" d=\"M566.5,-68C566.5,-68 420.5,-68 420.5,-68 414.5,-68 408.5,-62 408.5,-56 408.5,-56 408.5,-12 408.5,-12 408.5,-6 414.5,0 420.5,0 420.5,0 566.5,0 566.5,0 572.5,0 578.5,-6 578.5,-12 578.5,-12 578.5,-56 578.5,-56 578.5,-62 572.5,-68 566.5,-68\"/>\n<text text-anchor=\"start\" x=\"455.5\" y=\"-52.8\" font-family=\"Helvetica,sans-Serif\" font-size=\"14.00\" fill=\"#000000\">gini = 0.135</text>\n<text text-anchor=\"start\" x=\"449.5\" y=\"-37.8\" font-family=\"Helvetica,sans-Serif\" font-size=\"14.00\" fill=\"#000000\">samples = 28</text>\n<text text-anchor=\"start\" x=\"416.5\" y=\"-22.8\" font-family=\"Helvetica,sans-Serif\" font-size=\"14.00\" fill=\"#000000\">value = [0, 1, 0, 1, 0, 26]</text>\n<text text-anchor=\"start\" x=\"458.5\" y=\"-7.8\" font-family=\"Helvetica,sans-Serif\" font-size=\"14.00\" fill=\"#000000\">class = US</text>\n</g>\n<!-- 6&#45;&gt;7 -->\n<g id=\"edge8\" class=\"edge\">\n<title>6&#45;&gt;7</title>\n<path fill=\"none\" stroke=\"#000000\" d=\"M495.3829,-103.9815C495.1579,-95.618 494.9205,-86.7965 494.693,-78.3409\"/>\n<polygon fill=\"#000000\" stroke=\"#000000\" points=\"498.1897,-78.1659 494.4219,-68.2637 491.1922,-78.3542 498.1897,-78.1659\"/>\n</g>\n<!-- 8 -->\n<g id=\"node10\" class=\"node\">\n<title>8</title>\n<path fill=\"#dbf6b7\" stroke=\"#000000\" d=\"M746.5,-68C746.5,-68 608.5,-68 608.5,-68 602.5,-68 596.5,-62 596.5,-56 596.5,-56 596.5,-12 596.5,-12 596.5,-6 602.5,0 608.5,0 608.5,0 746.5,0 746.5,0 752.5,0 758.5,-6 758.5,-12 758.5,-12 758.5,-56 758.5,-56 758.5,-62 752.5,-68 746.5,-68\"/>\n<text text-anchor=\"start\" x=\"644\" y=\"-52.8\" font-family=\"Helvetica,sans-Serif\" font-size=\"14.00\" fill=\"#000000\">gini = 0.57</text>\n<text text-anchor=\"start\" x=\"633.5\" y=\"-37.8\" font-family=\"Helvetica,sans-Serif\" font-size=\"14.00\" fill=\"#000000\">samples = 16</text>\n<text text-anchor=\"start\" x=\"604.5\" y=\"-22.8\" font-family=\"Helvetica,sans-Serif\" font-size=\"14.00\" fill=\"#000000\">value = [2, 9, 0, 0, 0, 5]</text>\n<text text-anchor=\"start\" x=\"642.5\" y=\"-7.8\" font-family=\"Helvetica,sans-Serif\" font-size=\"14.00\" fill=\"#000000\">class = FR</text>\n</g>\n<!-- 6&#45;&gt;8 -->\n<g id=\"edge9\" class=\"edge\">\n<title>6&#45;&gt;8</title>\n<path fill=\"none\" stroke=\"#000000\" d=\"M563.8977,-103.9815C580.0955,-94.0034 597.3513,-83.3733 613.3945,-73.4904\"/>\n<polygon fill=\"#000000\" stroke=\"#000000\" points=\"615.4897,-76.3105 622.1682,-68.0856 611.8183,-70.3506 615.4897,-76.3105\"/>\n</g>\n</g>\n</svg>\n"
          },
          "metadata": {},
          "execution_count": 30
        }
      ]
    },
    {
      "cell_type": "markdown",
      "source": [
        "Il metodo, con questi parametri, è accurato al 78%"
      ],
      "metadata": {
        "id": "Qz7r7IgAquTZ"
      }
    },
    {
      "cell_type": "markdown",
      "source": [
        "### Prova 3"
      ],
      "metadata": {
        "id": "qpkSRvYfmqe4"
      }
    },
    {
      "cell_type": "code",
      "source": [
        "# inizializziamo il metodo con i seguenti parametri:\n",
        "# criterio: indice di Gini\n",
        "# profondità massima dell'albero: 8\n",
        "# dimensione minima per lo split: 25\n",
        "# numero di campioni delle foglie: 10\n",
        "tree_clf = tree.DecisionTreeClassifier(criterion=\"gini\", # criteri per stabilire come splittare\n",
        "                                       max_depth=12, # profondità dell'albero per evitare l'overfitting\n",
        "                                       min_samples_split=35, # dimensione minima del sottogruppo a cui fermarsi (no more split)\n",
        "                                       max_leaf_nodes=5\n",
        "                                      )"
      ],
      "metadata": {
        "id": "gwYvc5QYmqJA"
      },
      "execution_count": null,
      "outputs": []
    },
    {
      "cell_type": "code",
      "source": [
        "tree_clf.fit(X_train,y_train)"
      ],
      "metadata": {
        "colab": {
          "base_uri": "https://localhost:8080/"
        },
        "id": "DRweBCpNo_PQ",
        "outputId": "2f9ed501-4d2d-4387-ea3b-4a02a8eebb12"
      },
      "execution_count": null,
      "outputs": [
        {
          "output_type": "execute_result",
          "data": {
            "text/plain": [
              "DecisionTreeClassifier(max_depth=12, max_leaf_nodes=5, min_samples_split=35)"
            ]
          },
          "metadata": {},
          "execution_count": 32
        }
      ]
    },
    {
      "cell_type": "code",
      "source": [
        "# valutiamo il nostro metodo: più o meno accurato, qualche errore\n",
        "\n",
        "# visualizziamo la confusion matrix\n",
        "from mlxtend.plotting import plot_confusion_matrix\n",
        "from matplotlib import pyplot as plt\n",
        "from sklearn.metrics import confusion_matrix, classification_report\n",
        "\n",
        "plot_confusion_matrix(confusion_matrix(y_test, predict), cmap=plt.cm.Dark2)\n",
        "plt.show()"
      ],
      "metadata": {
        "colab": {
          "base_uri": "https://localhost:8080/",
          "height": 279
        },
        "id": "uhrZA3AkmiDA",
        "outputId": "f8364543-fca8-4d52-d7cc-bfcaee025f6b"
      },
      "execution_count": null,
      "outputs": [
        {
          "output_type": "display_data",
          "data": {
            "image/png": "[encoded data removed]",
            "text/plain": [
              "<Figure size 432x288 with 1 Axes>"
            ]
          },
          "metadata": {
            "needs_background": "light"
          }
        }
      ]
    },
    {
      "cell_type": "code",
      "source": [
        "# visualizziamo adesso gli indicatori\n",
        "print(classification_report(y_test, predict))"
      ],
      "metadata": {
        "colab": {
          "base_uri": "https://localhost:8080/"
        },
        "id": "zcJcutyZmfJI",
        "outputId": "987c9ed6-f0e4-48fc-dc58-9eb25b9c6f0b"
      },
      "execution_count": null,
      "outputs": [
        {
          "output_type": "stream",
          "name": "stdout",
          "text": [
            "              precision    recall  f1-score   support\n",
            "\n",
            "          ES       0.70      0.78      0.74         9\n",
            "          FR       0.58      0.78      0.67         9\n",
            "          GE       0.67      0.67      0.67         9\n",
            "          IT       0.67      0.44      0.53         9\n",
            "          UK       0.77      0.77      0.77        13\n",
            "          US       0.88      0.86      0.87        50\n",
            "\n",
            "    accuracy                           0.78        99\n",
            "   macro avg       0.71      0.72      0.71        99\n",
            "weighted avg       0.78      0.78      0.78        99\n",
            "\n"
          ]
        }
      ]
    },
    {
      "cell_type": "code",
      "source": [
        "# e poi in forma grafica\n",
        "features=list(df.columns.values)\n",
        "\n",
        "import graphviz\n",
        "dot_data = tree.export_graphviz(tree_clf, out_file=None, \n",
        "                     feature_names=features[0:-1],  \n",
        "                     class_names=['ES','FR', 'GE', 'IT', 'UK', 'US'],  \n",
        "                     filled=True, rounded=True,  \n",
        "                     special_characters=True)  \n",
        "graph = graphviz.Source(dot_data)\n",
        "graph.render('accents')\n",
        "graph"
      ],
      "metadata": {
        "colab": {
          "base_uri": "https://localhost:8080/",
          "height": 757
        },
        "id": "NQyQq5_lnDAR",
        "outputId": "ff0d52c7-c70e-49ec-e101-74f05dadb607"
      },
      "execution_count": null,
      "outputs": [
        {
          "output_type": "execute_result",
          "data": {
            "text/plain": [
              "<graphviz.files.Source at 0x7f795203c350>"
            ],
            "image/svg+xml": "<?xml version=\"1.0\" encoding=\"UTF-8\" standalone=\"no\"?>\n<!DOCTYPE svg PUBLIC \"-//W3C//DTD SVG 1.1//EN\"\n \"http://www.w3.org/Graphics/SVG/1.1/DTD/svg11.dtd\">\n<!-- Generated by graphviz version 2.40.1 (20161225.0304)\n -->\n<!-- Title: Tree Pages: 1 -->\n<svg width=\"504pt\" height=\"552pt\"\n viewBox=\"0.00 0.00 503.50 552.00\" xmlns=\"http://www.w3.org/2000/svg\" xmlns:xlink=\"http://www.w3.org/1999/xlink\">\n<g id=\"graph0\" class=\"graph\" transform=\"scale(1 1) rotate(0) translate(4 548)\">\n<title>Tree</title>\n<polygon fill=\"#ffffff\" stroke=\"transparent\" points=\"-4,4 -4,-548 499.5,-548 499.5,4 -4,4\"/>\n<!-- 0 -->\n<g id=\"node1\" class=\"node\">\n<title>0</title>\n<path fill=\"#f4acd6\" stroke=\"#000000\" d=\"M300.5,-544C300.5,-544 104.5,-544 104.5,-544 98.5,-544 92.5,-538 92.5,-532 92.5,-532 92.5,-473 92.5,-473 92.5,-467 98.5,-461 104.5,-461 104.5,-461 300.5,-461 300.5,-461 306.5,-461 312.5,-467 312.5,-473 312.5,-473 312.5,-532 312.5,-532 312.5,-538 306.5,-544 300.5,-544\"/>\n<text text-anchor=\"start\" x=\"165\" y=\"-528.8\" font-family=\"Helvetica,sans-Serif\" font-size=\"14.00\" fill=\"#000000\">X9 ≤ &#45;7.356</text>\n<text text-anchor=\"start\" x=\"164.5\" y=\"-513.8\" font-family=\"Helvetica,sans-Serif\" font-size=\"14.00\" fill=\"#000000\">gini = 0.698</text>\n<text text-anchor=\"start\" x=\"154.5\" y=\"-498.8\" font-family=\"Helvetica,sans-Serif\" font-size=\"14.00\" fill=\"#000000\">samples = 230</text>\n<text text-anchor=\"start\" x=\"100.5\" y=\"-483.8\" font-family=\"Helvetica,sans-Serif\" font-size=\"14.00\" fill=\"#000000\">value = [20, 21, 21, 21, 32, 115]</text>\n<text text-anchor=\"start\" x=\"167.5\" y=\"-468.8\" font-family=\"Helvetica,sans-Serif\" font-size=\"14.00\" fill=\"#000000\">class = US</text>\n</g>\n<!-- 1 -->\n<g id=\"node2\" class=\"node\">\n<title>1</title>\n<path fill=\"#f1bb94\" stroke=\"#000000\" d=\"M171.5,-417.5C171.5,-417.5 25.5,-417.5 25.5,-417.5 19.5,-417.5 13.5,-411.5 13.5,-405.5 13.5,-405.5 13.5,-361.5 13.5,-361.5 13.5,-355.5 19.5,-349.5 25.5,-349.5 25.5,-349.5 171.5,-349.5 171.5,-349.5 177.5,-349.5 183.5,-355.5 183.5,-361.5 183.5,-361.5 183.5,-405.5 183.5,-405.5 183.5,-411.5 177.5,-417.5 171.5,-417.5\"/>\n<text text-anchor=\"start\" x=\"60.5\" y=\"-402.3\" font-family=\"Helvetica,sans-Serif\" font-size=\"14.00\" fill=\"#000000\">gini = 0.432</text>\n<text text-anchor=\"start\" x=\"54.5\" y=\"-387.3\" font-family=\"Helvetica,sans-Serif\" font-size=\"14.00\" fill=\"#000000\">samples = 19</text>\n<text text-anchor=\"start\" x=\"21.5\" y=\"-372.3\" font-family=\"Helvetica,sans-Serif\" font-size=\"14.00\" fill=\"#000000\">value = [13, 0, 0, 0, 6, 0]</text>\n<text text-anchor=\"start\" x=\"63.5\" y=\"-357.3\" font-family=\"Helvetica,sans-Serif\" font-size=\"14.00\" fill=\"#000000\">class = ES</text>\n</g>\n<!-- 0&#45;&gt;1 -->\n<g id=\"edge1\" class=\"edge\">\n<title>0&#45;&gt;1</title>\n<path fill=\"none\" stroke=\"#000000\" d=\"M166.1258,-460.8796C156.1314,-449.4436 145.288,-437.0363 135.2714,-425.575\"/>\n<polygon fill=\"#000000\" stroke=\"#000000\" points=\"137.7055,-423.0414 128.4895,-417.8149 132.4347,-427.6479 137.7055,-423.0414\"/>\n<text text-anchor=\"middle\" x=\"126.8117\" y=\"-439.0586\" font-family=\"Helvetica,sans-Serif\" font-size=\"14.00\" fill=\"#000000\">True</text>\n</g>\n<!-- 2 -->\n<g id=\"node3\" class=\"node\">\n<title>2</title>\n<path fill=\"#f2a0d0\" stroke=\"#000000\" d=\"M401.5,-425C401.5,-425 213.5,-425 213.5,-425 207.5,-425 201.5,-419 201.5,-413 201.5,-413 201.5,-354 201.5,-354 201.5,-348 207.5,-342 213.5,-342 213.5,-342 401.5,-342 401.5,-342 407.5,-342 413.5,-348 413.5,-354 413.5,-354 413.5,-413 413.5,-413 413.5,-419 407.5,-425 401.5,-425\"/>\n<text text-anchor=\"start\" x=\"266\" y=\"-409.8\" font-family=\"Helvetica,sans-Serif\" font-size=\"14.00\" fill=\"#000000\">X11 ≤ &#45;2.521</text>\n<text text-anchor=\"start\" x=\"269.5\" y=\"-394.8\" font-family=\"Helvetica,sans-Serif\" font-size=\"14.00\" fill=\"#000000\">gini = 0.657</text>\n<text text-anchor=\"start\" x=\"259.5\" y=\"-379.8\" font-family=\"Helvetica,sans-Serif\" font-size=\"14.00\" fill=\"#000000\">samples = 211</text>\n<text text-anchor=\"start\" x=\"209.5\" y=\"-364.8\" font-family=\"Helvetica,sans-Serif\" font-size=\"14.00\" fill=\"#000000\">value = [7, 21, 21, 21, 26, 115]</text>\n<text text-anchor=\"start\" x=\"272.5\" y=\"-349.8\" font-family=\"Helvetica,sans-Serif\" font-size=\"14.00\" fill=\"#000000\">class = US</text>\n</g>\n<!-- 0&#45;&gt;2 -->\n<g id=\"edge2\" class=\"edge\">\n<title>0&#45;&gt;2</title>\n<path fill=\"none\" stroke=\"#000000\" d=\"M239.2239,-460.8796C247.1707,-451.8733 255.649,-442.2644 263.8326,-432.9897\"/>\n<polygon fill=\"#000000\" stroke=\"#000000\" points=\"266.6275,-435.1122 270.6193,-425.2981 261.3787,-430.4808 266.6275,-435.1122\"/>\n<text text-anchor=\"middle\" x=\"272.1788\" y=\"-446.5494\" font-family=\"Helvetica,sans-Serif\" font-size=\"14.00\" fill=\"#000000\">False</text>\n</g>\n<!-- 3 -->\n<g id=\"node4\" class=\"node\">\n<title>3</title>\n<path fill=\"#f7c2e1\" stroke=\"#000000\" d=\"M295,-306C295,-306 116,-306 116,-306 110,-306 104,-300 104,-294 104,-294 104,-235 104,-235 104,-229 110,-223 116,-223 116,-223 295,-223 295,-223 301,-223 307,-229 307,-235 307,-235 307,-294 307,-294 307,-300 301,-306 295,-306\"/>\n<text text-anchor=\"start\" x=\"149\" y=\"-290.8\" font-family=\"Helvetica,sans-Serif\" font-size=\"14.00\" fill=\"#000000\">language ≤ 7.641</text>\n<text text-anchor=\"start\" x=\"167.5\" y=\"-275.8\" font-family=\"Helvetica,sans-Serif\" font-size=\"14.00\" fill=\"#000000\">gini = 0.745</text>\n<text text-anchor=\"start\" x=\"157.5\" y=\"-260.8\" font-family=\"Helvetica,sans-Serif\" font-size=\"14.00\" fill=\"#000000\">samples = 155</text>\n<text text-anchor=\"start\" x=\"112\" y=\"-245.8\" font-family=\"Helvetica,sans-Serif\" font-size=\"14.00\" fill=\"#000000\">value = [7, 20, 20, 16, 26, 66]</text>\n<text text-anchor=\"start\" x=\"170.5\" y=\"-230.8\" font-family=\"Helvetica,sans-Serif\" font-size=\"14.00\" fill=\"#000000\">class = US</text>\n</g>\n<!-- 2&#45;&gt;3 -->\n<g id=\"edge3\" class=\"edge\">\n<title>2&#45;&gt;3</title>\n<path fill=\"none\" stroke=\"#000000\" d=\"M271.8253,-341.8796C264.1057,-332.8733 255.8695,-323.2644 247.9197,-313.9897\"/>\n<polygon fill=\"#000000\" stroke=\"#000000\" points=\"250.4923,-311.6129 241.3269,-306.2981 245.1775,-316.1684 250.4923,-311.6129\"/>\n</g>\n<!-- 4 -->\n<g id=\"node9\" class=\"node\">\n<title>4</title>\n<path fill=\"#e954aa\" stroke=\"#000000\" d=\"M483.5,-298.5C483.5,-298.5 337.5,-298.5 337.5,-298.5 331.5,-298.5 325.5,-292.5 325.5,-286.5 325.5,-286.5 325.5,-242.5 325.5,-242.5 325.5,-236.5 331.5,-230.5 337.5,-230.5 337.5,-230.5 483.5,-230.5 483.5,-230.5 489.5,-230.5 495.5,-236.5 495.5,-242.5 495.5,-242.5 495.5,-286.5 495.5,-286.5 495.5,-292.5 489.5,-298.5 483.5,-298.5\"/>\n<text text-anchor=\"start\" x=\"372.5\" y=\"-283.3\" font-family=\"Helvetica,sans-Serif\" font-size=\"14.00\" fill=\"#000000\">gini = 0.226</text>\n<text text-anchor=\"start\" x=\"366.5\" y=\"-268.3\" font-family=\"Helvetica,sans-Serif\" font-size=\"14.00\" fill=\"#000000\">samples = 56</text>\n<text text-anchor=\"start\" x=\"333.5\" y=\"-253.3\" font-family=\"Helvetica,sans-Serif\" font-size=\"14.00\" fill=\"#000000\">value = [0, 1, 1, 5, 0, 49]</text>\n<text text-anchor=\"start\" x=\"375.5\" y=\"-238.3\" font-family=\"Helvetica,sans-Serif\" font-size=\"14.00\" fill=\"#000000\">class = US</text>\n</g>\n<!-- 2&#45;&gt;4 -->\n<g id=\"edge8\" class=\"edge\">\n<title>2&#45;&gt;4</title>\n<path fill=\"none\" stroke=\"#000000\" d=\"M343.5244,-341.8796C353.4227,-330.4436 364.1619,-318.0363 374.0822,-306.575\"/>\n<polygon fill=\"#000000\" stroke=\"#000000\" points=\"376.9007,-308.6666 380.7988,-298.8149 371.6079,-304.0855 376.9007,-308.6666\"/>\n</g>\n<!-- 5 -->\n<g id=\"node5\" class=\"node\">\n<title>5</title>\n<path fill=\"#fceaf5\" stroke=\"#000000\" d=\"M191,-179.5C191,-179.5 12,-179.5 12,-179.5 6,-179.5 0,-173.5 0,-167.5 0,-167.5 0,-123.5 0,-123.5 0,-117.5 6,-111.5 12,-111.5 12,-111.5 191,-111.5 191,-111.5 197,-111.5 203,-117.5 203,-123.5 203,-123.5 203,-167.5 203,-167.5 203,-173.5 197,-179.5 191,-179.5\"/>\n<text text-anchor=\"start\" x=\"63.5\" y=\"-164.3\" font-family=\"Helvetica,sans-Serif\" font-size=\"14.00\" fill=\"#000000\">gini = 0.785</text>\n<text text-anchor=\"start\" x=\"53.5\" y=\"-149.3\" font-family=\"Helvetica,sans-Serif\" font-size=\"14.00\" fill=\"#000000\">samples = 111</text>\n<text text-anchor=\"start\" x=\"8\" y=\"-134.3\" font-family=\"Helvetica,sans-Serif\" font-size=\"14.00\" fill=\"#000000\">value = [5, 10, 20, 15, 26, 35]</text>\n<text text-anchor=\"start\" x=\"66.5\" y=\"-119.3\" font-family=\"Helvetica,sans-Serif\" font-size=\"14.00\" fill=\"#000000\">class = US</text>\n</g>\n<!-- 3&#45;&gt;5 -->\n<g id=\"edge4\" class=\"edge\">\n<title>3&#45;&gt;5</title>\n<path fill=\"none\" stroke=\"#000000\" d=\"M169.1258,-222.8796C159.1314,-211.4436 148.288,-199.0363 138.2714,-187.575\"/>\n<polygon fill=\"#000000\" stroke=\"#000000\" points=\"140.7055,-185.0414 131.4895,-179.8149 135.4347,-189.6479 140.7055,-185.0414\"/>\n</g>\n<!-- 6 -->\n<g id=\"node6\" class=\"node\">\n<title>6</title>\n<path fill=\"#ef85c2\" stroke=\"#000000\" d=\"M388,-187C388,-187 233,-187 233,-187 227,-187 221,-181 221,-175 221,-175 221,-116 221,-116 221,-110 227,-104 233,-104 233,-104 388,-104 388,-104 394,-104 400,-110 400,-116 400,-116 400,-175 400,-175 400,-181 394,-187 388,-187\"/>\n<text text-anchor=\"start\" x=\"275.5\" y=\"-171.8\" font-family=\"Helvetica,sans-Serif\" font-size=\"14.00\" fill=\"#000000\">X7 ≤ 5.494</text>\n<text text-anchor=\"start\" x=\"272.5\" y=\"-156.8\" font-family=\"Helvetica,sans-Serif\" font-size=\"14.00\" fill=\"#000000\">gini = 0.449</text>\n<text text-anchor=\"start\" x=\"266.5\" y=\"-141.8\" font-family=\"Helvetica,sans-Serif\" font-size=\"14.00\" fill=\"#000000\">samples = 44</text>\n<text text-anchor=\"start\" x=\"229\" y=\"-126.8\" font-family=\"Helvetica,sans-Serif\" font-size=\"14.00\" fill=\"#000000\">value = [2, 10, 0, 1, 0, 31]</text>\n<text text-anchor=\"start\" x=\"275.5\" y=\"-111.8\" font-family=\"Helvetica,sans-Serif\" font-size=\"14.00\" fill=\"#000000\">class = US</text>\n</g>\n<!-- 3&#45;&gt;6 -->\n<g id=\"edge5\" class=\"edge\">\n<title>3&#45;&gt;6</title>\n<path fill=\"none\" stroke=\"#000000\" d=\"M242.2239,-222.8796C250.1707,-213.8733 258.649,-204.2644 266.8326,-194.9897\"/>\n<polygon fill=\"#000000\" stroke=\"#000000\" points=\"269.6275,-197.1122 273.6193,-187.2981 264.3787,-192.4808 269.6275,-197.1122\"/>\n</g>\n<!-- 7 -->\n<g id=\"node7\" class=\"node\">\n<title>7</title>\n<path fill=\"#e748a4\" stroke=\"#000000\" d=\"M291.5,-68C291.5,-68 145.5,-68 145.5,-68 139.5,-68 133.5,-62 133.5,-56 133.5,-56 133.5,-12 133.5,-12 133.5,-6 139.5,0 145.5,0 145.5,0 291.5,0 291.5,0 297.5,0 303.5,-6 303.5,-12 303.5,-12 303.5,-56 303.5,-56 303.5,-62 297.5,-68 291.5,-68\"/>\n<text text-anchor=\"start\" x=\"180.5\" y=\"-52.8\" font-family=\"Helvetica,sans-Serif\" font-size=\"14.00\" fill=\"#000000\">gini = 0.135</text>\n<text text-anchor=\"start\" x=\"174.5\" y=\"-37.8\" font-family=\"Helvetica,sans-Serif\" font-size=\"14.00\" fill=\"#000000\">samples = 28</text>\n<text text-anchor=\"start\" x=\"141.5\" y=\"-22.8\" font-family=\"Helvetica,sans-Serif\" font-size=\"14.00\" fill=\"#000000\">value = [0, 1, 0, 1, 0, 26]</text>\n<text text-anchor=\"start\" x=\"183.5\" y=\"-7.8\" font-family=\"Helvetica,sans-Serif\" font-size=\"14.00\" fill=\"#000000\">class = US</text>\n</g>\n<!-- 6&#45;&gt;7 -->\n<g id=\"edge6\" class=\"edge\">\n<title>6&#45;&gt;7</title>\n<path fill=\"none\" stroke=\"#000000\" d=\"M276.2426,-103.9815C268.7351,-94.8828 260.7804,-85.242 253.2536,-76.1199\"/>\n<polygon fill=\"#000000\" stroke=\"#000000\" points=\"255.8354,-73.7495 246.7714,-68.2637 250.4361,-78.2045 255.8354,-73.7495\"/>\n</g>\n<!-- 8 -->\n<g id=\"node8\" class=\"node\">\n<title>8</title>\n<path fill=\"#dbf6b7\" stroke=\"#000000\" d=\"M471.5,-68C471.5,-68 333.5,-68 333.5,-68 327.5,-68 321.5,-62 321.5,-56 321.5,-56 321.5,-12 321.5,-12 321.5,-6 327.5,0 333.5,0 333.5,0 471.5,0 471.5,0 477.5,0 483.5,-6 483.5,-12 483.5,-12 483.5,-56 483.5,-56 483.5,-62 477.5,-68 471.5,-68\"/>\n<text text-anchor=\"start\" x=\"369\" y=\"-52.8\" font-family=\"Helvetica,sans-Serif\" font-size=\"14.00\" fill=\"#000000\">gini = 0.57</text>\n<text text-anchor=\"start\" x=\"358.5\" y=\"-37.8\" font-family=\"Helvetica,sans-Serif\" font-size=\"14.00\" fill=\"#000000\">samples = 16</text>\n<text text-anchor=\"start\" x=\"329.5\" y=\"-22.8\" font-family=\"Helvetica,sans-Serif\" font-size=\"14.00\" fill=\"#000000\">value = [2, 9, 0, 0, 0, 5]</text>\n<text text-anchor=\"start\" x=\"367.5\" y=\"-7.8\" font-family=\"Helvetica,sans-Serif\" font-size=\"14.00\" fill=\"#000000\">class = FR</text>\n</g>\n<!-- 6&#45;&gt;8 -->\n<g id=\"edge7\" class=\"edge\">\n<title>6&#45;&gt;8</title>\n<path fill=\"none\" stroke=\"#000000\" d=\"M344.7574,-103.9815C352.2649,-94.8828 360.2196,-85.242 367.7464,-76.1199\"/>\n<polygon fill=\"#000000\" stroke=\"#000000\" points=\"370.5639,-78.2045 374.2286,-68.2637 365.1646,-73.7495 370.5639,-78.2045\"/>\n</g>\n</g>\n</svg>\n"
          },
          "metadata": {},
          "execution_count": 35
        }
      ]
    },
    {
      "cell_type": "markdown",
      "source": [
        "Il metodo, con questi parametri, è accurato al **78%**"
      ],
      "metadata": {
        "id": "f2hS9hJ2qqQh"
      }
    },
    {
      "cell_type": "markdown",
      "source": [
        "### Analisi dei risultati del metodo decision tree - considerazioni\n",
        "\n",
        "Il metodo decision tree ha dato gli stessi risultati in termini di accuratezza (78%), seppur avendo eseguito le diverse prove utilizzando parametri di `mad_depth`, `min_samples_split`, `max_leaf_nodes` e `min_samples_leaf` diversi. <br> La differenza tra gli alberi delle diverse prove è evidente confrontando la loro rappresentazione grafica."
      ],
      "metadata": {
        "id": "haULnR2_rDYp"
      }
    },
    {
      "cell_type": "markdown",
      "source": [
        "## Confronto dei risultati dei due metodi - considerazioni finali\n",
        "In termini di accuratezza, il metodo migliore risulta essere K-NN con K = 3 (accuretezza dell'81%). <br>\n",
        "Tuttavia, usare un valore di K basso è rischioso perché, prendendo in considerazione un numero minore di elementi per fare una predizione, aumenta l'influenza di ogni elemento sulla predizione e più in generale essa viene eseguita utilizzando una varietà di dati inferiore. <br>\n",
        "In questo caso è meglio farlo perché la predizione risulta più accurata, ma non è detto che ciò valga in ogni caso. Per gli accenti però, è così. <br>\n",
        "Cambiare leggermente i parametri con il metodo del decision tree non sembra influenzare l'accuratezza della precisione nonostante gli alberi siano profondamente diversi tra loro in termini di forma e di estensione. E' possibile affermare che questo metodo risulta però più stabile del K-NN che invece vede alterati i suoi valori di accuratezza al variare dei parametri (K).\n",
        "Pertanto, prima di usare quel metodo è necessario eseguire molte prove con valori di K diversi per capire quale meglio si adatti al dataset utilizzato mentre il decision tree è più affidabile e stabile in questo senso."
      ],
      "metadata": {
        "id": "vxmGfmNNsl1A"
      }
    }
  ]
}