{
  "cells": [
    {
      "cell_type": "markdown",
      "metadata": {
        "id": "3rAsJVfbyijH"
      },
      "source": [
        "# Esercizio"
      ]
    },
    {
      "cell_type": "markdown",
      "metadata": {
        "id": "Vu3cBgwOyijJ"
      },
      "source": [
        "Data Set Information:\n",
        "\n",
        "I dati sono stati estratti da immagini prese da esemplari autentici e falsificati di banconote. Per la digitalizzazione è stata utilizzata una telecamera industriale solitamente utilizzata per l'ispezione delle stampe. Le immagini finali hanno una risoluzione di 400x400 pixel. Grazie all'obiettivo dell'oggetto e alla distanza dall'oggetto indagato sono state ottenute immagini in scala di grigi con una risoluzione di circa 660 dpi. Per estrarre le caratteristiche dalle immagini è stato utilizzato lo strumento Wavelet Transform.\n",
        "\n",
        "Attribute Information:\n",
        "\n",
        "1. varianza dell'immagine trasformata (variabile continua)\n",
        "2. asimmetria dell'immagine trasformata (variabile continua)\n",
        "3. curtosi dell'immagine trasformata (variabile continua)\n",
        "4. entropia dell'immagine (variabile continua)\n",
        "5. classe (variabile intera: 0 la banconota è autentica, 1 la banconota è falsa)\n",
        "\n",
        "Utilizzare il metodo di classificazione decision tree per determinare se la seguente banconota è vera o è falsa:"
      ]
    },
    {
      "cell_type": "code",
      "execution_count": 30,
      "metadata": {
        "colab": {
          "base_uri": "https://localhost:8080/"
        },
        "id": "Vivlw8YHyijJ",
        "outputId": "bee602ef-8165-4596-b050-3c48e8efe7ba"
      },
      "outputs": [
        {
          "output_type": "stream",
          "name": "stdout",
          "text": [
            "  Variance    Skewness    Curtosis    Entropy\n",
            "----------  ----------  ----------  ---------\n",
            "   -3.0866     -6.6362     10.5405   -0.89182\n"
          ]
        }
      ],
      "source": [
        "from tabulate import tabulate\n",
        "\n",
        "info = ['Variance', 'Skewness', 'Curtosis', 'Entropy']\n",
        "daScoprire = [-3.0866, -6.6362, 10.5405, -0.89182] \n",
        "print(tabulate([daScoprire], headers=info))"
      ]
    },
    {
      "cell_type": "code",
      "source": [
        "from google.colab import drive\n",
        "drive.mount('/content/drive')"
      ],
      "metadata": {
        "colab": {
          "base_uri": "https://localhost:8080/"
        },
        "id": "4X1WhwFG-UpR",
        "outputId": "86b0ef7a-8c51-45fd-a8bc-c09e9db1ea42"
      },
      "execution_count": 31,
      "outputs": [
        {
          "output_type": "stream",
          "name": "stdout",
          "text": [
            "Drive already mounted at /content/drive; to attempt to forcibly remount, call drive.mount(\"/content/drive\", force_remount=True).\n"
          ]
        }
      ]
    },
    {
      "cell_type": "code",
      "execution_count": 54,
      "metadata": {
        "id": "ZM-WCnw2yijL"
      },
      "outputs": [],
      "source": [
        "# importiamo Pandas e il datafarame dal file data/bill.csv\n",
        "import pandas as pd\n",
        "\n",
        "#import the dataset\n",
        "df = pd.read_csv('/content/drive/MyDrive/Colab Notebooks/ML 101.2/data/bills.csv')"
      ]
    },
    {
      "cell_type": "code",
      "execution_count": 55,
      "metadata": {
        "colab": {
          "base_uri": "https://localhost:8080/",
          "height": 424
        },
        "id": "-y58Ob-LyijL",
        "outputId": "4ae6b26d-fa38-43b9-827f-db30a9d2cb03"
      },
      "outputs": [
        {
          "output_type": "execute_result",
          "data": {
            "text/html": [
              "\n",
              "  <div id=\"df-7ec7450c-880a-4ea9-b5a3-b81871c83e9d\">\n",
              "    <div class=\"colab-df-container\">\n",
              "      <div>\n",
              "<style scoped>\n",
              "    .dataframe tbody tr th:only-of-type {\n",
              "        vertical-align: middle;\n",
              "    }\n",
              "\n",
              "    .dataframe tbody tr th {\n",
              "        vertical-align: top;\n",
              "    }\n",
              "\n",
              "    .dataframe thead th {\n",
              "        text-align: right;\n",
              "    }\n",
              "</style>\n",
              "<table border=\"1\" class=\"dataframe\">\n",
              "  <thead>\n",
              "    <tr style=\"text-align: right;\">\n",
              "      <th></th>\n",
              "      <th>Variance</th>\n",
              "      <th>Skewness</th>\n",
              "      <th>Curtosis</th>\n",
              "      <th>Entropy</th>\n",
              "      <th>Class</th>\n",
              "    </tr>\n",
              "  </thead>\n",
              "  <tbody>\n",
              "    <tr>\n",
              "      <th>0</th>\n",
              "      <td>3.62160</td>\n",
              "      <td>8.66610</td>\n",
              "      <td>-2.8073</td>\n",
              "      <td>-0.44699</td>\n",
              "      <td>0</td>\n",
              "    </tr>\n",
              "    <tr>\n",
              "      <th>1</th>\n",
              "      <td>4.54590</td>\n",
              "      <td>8.16740</td>\n",
              "      <td>-2.4586</td>\n",
              "      <td>-1.46210</td>\n",
              "      <td>0</td>\n",
              "    </tr>\n",
              "    <tr>\n",
              "      <th>2</th>\n",
              "      <td>3.86600</td>\n",
              "      <td>-2.63830</td>\n",
              "      <td>1.9242</td>\n",
              "      <td>0.10645</td>\n",
              "      <td>0</td>\n",
              "    </tr>\n",
              "    <tr>\n",
              "      <th>3</th>\n",
              "      <td>3.45660</td>\n",
              "      <td>9.52280</td>\n",
              "      <td>-4.0112</td>\n",
              "      <td>-3.59440</td>\n",
              "      <td>0</td>\n",
              "    </tr>\n",
              "    <tr>\n",
              "      <th>4</th>\n",
              "      <td>0.32924</td>\n",
              "      <td>-4.45520</td>\n",
              "      <td>4.5718</td>\n",
              "      <td>-0.98880</td>\n",
              "      <td>0</td>\n",
              "    </tr>\n",
              "    <tr>\n",
              "      <th>...</th>\n",
              "      <td>...</td>\n",
              "      <td>...</td>\n",
              "      <td>...</td>\n",
              "      <td>...</td>\n",
              "      <td>...</td>\n",
              "    </tr>\n",
              "    <tr>\n",
              "      <th>1367</th>\n",
              "      <td>0.40614</td>\n",
              "      <td>1.34920</td>\n",
              "      <td>-1.4501</td>\n",
              "      <td>-0.55949</td>\n",
              "      <td>1</td>\n",
              "    </tr>\n",
              "    <tr>\n",
              "      <th>1368</th>\n",
              "      <td>-1.38870</td>\n",
              "      <td>-4.87730</td>\n",
              "      <td>6.4774</td>\n",
              "      <td>0.34179</td>\n",
              "      <td>1</td>\n",
              "    </tr>\n",
              "    <tr>\n",
              "      <th>1369</th>\n",
              "      <td>-3.75030</td>\n",
              "      <td>-13.45860</td>\n",
              "      <td>17.5932</td>\n",
              "      <td>-2.77710</td>\n",
              "      <td>1</td>\n",
              "    </tr>\n",
              "    <tr>\n",
              "      <th>1370</th>\n",
              "      <td>-3.56370</td>\n",
              "      <td>-8.38270</td>\n",
              "      <td>12.3930</td>\n",
              "      <td>-1.28230</td>\n",
              "      <td>1</td>\n",
              "    </tr>\n",
              "    <tr>\n",
              "      <th>1371</th>\n",
              "      <td>-2.54190</td>\n",
              "      <td>-0.65804</td>\n",
              "      <td>2.6842</td>\n",
              "      <td>1.19520</td>\n",
              "      <td>1</td>\n",
              "    </tr>\n",
              "  </tbody>\n",
              "</table>\n",
              "<p>1372 rows × 5 columns</p>\n",
              "</div>\n",
              "      <button class=\"colab-df-convert\" onclick=\"convertToInteractive('df-7ec7450c-880a-4ea9-b5a3-b81871c83e9d')\"\n",
              "              title=\"Convert this dataframe to an interactive table.\"\n",
              "              style=\"display:none;\">\n",
              "        \n",
              "  <svg xmlns=\"http://www.w3.org/2000/svg\" height=\"24px\"viewBox=\"0 0 24 24\"\n",
              "       width=\"24px\">\n",
              "    <path d=\"M0 0h24v24H0V0z\" fill=\"none\"/>\n",
              "    <path d=\"M18.56 5.44l.94 2.06.94-2.06 2.06-.94-2.06-.94-.94-2.06-.94 2.06-2.06.94zm-11 1L8.5 8.5l.94-2.06 2.06-.94-2.06-.94L8.5 2.5l-.94 2.06-2.06.94zm10 10l.94 2.06.94-2.06 2.06-.94-2.06-.94-.94-2.06-.94 2.06-2.06.94z\"/><path d=\"M17.41 7.96l-1.37-1.37c-.4-.4-.92-.59-1.43-.59-.52 0-1.04.2-1.43.59L10.3 9.45l-7.72 7.72c-.78.78-.78 2.05 0 2.83L4 21.41c.39.39.9.59 1.41.59.51 0 1.02-.2 1.41-.59l7.78-7.78 2.81-2.81c.8-.78.8-2.07 0-2.86zM5.41 20L4 18.59l7.72-7.72 1.47 1.35L5.41 20z\"/>\n",
              "  </svg>\n",
              "      </button>\n",
              "      \n",
              "  <style>\n",
              "    .colab-df-container {\n",
              "      display:flex;\n",
              "      flex-wrap:wrap;\n",
              "      gap: 12px;\n",
              "    }\n",
              "\n",
              "    .colab-df-convert {\n",
              "      background-color: #E8F0FE;\n",
              "      border: none;\n",
              "      border-radius: 50%;\n",
              "      cursor: pointer;\n",
              "      display: none;\n",
              "      fill: #1967D2;\n",
              "      height: 32px;\n",
              "      padding: 0 0 0 0;\n",
              "      width: 32px;\n",
              "    }\n",
              "\n",
              "    .colab-df-convert:hover {\n",
              "      background-color: #E2EBFA;\n",
              "      box-shadow: 0px 1px 2px rgba(60, 64, 67, 0.3), 0px 1px 3px 1px rgba(60, 64, 67, 0.15);\n",
              "      fill: #174EA6;\n",
              "    }\n",
              "\n",
              "    [theme=dark] .colab-df-convert {\n",
              "      background-color: #3B4455;\n",
              "      fill: #D2E3FC;\n",
              "    }\n",
              "\n",
              "    [theme=dark] .colab-df-convert:hover {\n",
              "      background-color: #434B5C;\n",
              "      box-shadow: 0px 1px 3px 1px rgba(0, 0, 0, 0.15);\n",
              "      filter: drop-shadow(0px 1px 2px rgba(0, 0, 0, 0.3));\n",
              "      fill: #FFFFFF;\n",
              "    }\n",
              "  </style>\n",
              "\n",
              "      <script>\n",
              "        const buttonEl =\n",
              "          document.querySelector('#df-7ec7450c-880a-4ea9-b5a3-b81871c83e9d button.colab-df-convert');\n",
              "        buttonEl.style.display =\n",
              "          google.colab.kernel.accessAllowed ? 'block' : 'none';\n",
              "\n",
              "        async function convertToInteractive(key) {\n",
              "          const element = document.querySelector('#df-7ec7450c-880a-4ea9-b5a3-b81871c83e9d');\n",
              "          const dataTable =\n",
              "            await google.colab.kernel.invokeFunction('convertToInteractive',\n",
              "                                                     [key], {});\n",
              "          if (!dataTable) return;\n",
              "\n",
              "          const docLinkHtml = 'Like what you see? Visit the ' +\n",
              "            '<a target=\"_blank\" href=https://colab.research.google.com/notebooks/data_table.ipynb>data table notebook</a>'\n",
              "            + ' to learn more about interactive tables.';\n",
              "          element.innerHTML = '';\n",
              "          dataTable['output_type'] = 'display_data';\n",
              "          await google.colab.output.renderOutput(dataTable, element);\n",
              "          const docLink = document.createElement('div');\n",
              "          docLink.innerHTML = docLinkHtml;\n",
              "          element.appendChild(docLink);\n",
              "        }\n",
              "      </script>\n",
              "    </div>\n",
              "  </div>\n",
              "  "
            ],
            "text/plain": [
              "      Variance  Skewness  Curtosis  Entropy  Class\n",
              "0      3.62160   8.66610   -2.8073 -0.44699      0\n",
              "1      4.54590   8.16740   -2.4586 -1.46210      0\n",
              "2      3.86600  -2.63830    1.9242  0.10645      0\n",
              "3      3.45660   9.52280   -4.0112 -3.59440      0\n",
              "4      0.32924  -4.45520    4.5718 -0.98880      0\n",
              "...        ...       ...       ...      ...    ...\n",
              "1367   0.40614   1.34920   -1.4501 -0.55949      1\n",
              "1368  -1.38870  -4.87730    6.4774  0.34179      1\n",
              "1369  -3.75030 -13.45860   17.5932 -2.77710      1\n",
              "1370  -3.56370  -8.38270   12.3930 -1.28230      1\n",
              "1371  -2.54190  -0.65804    2.6842  1.19520      1\n",
              "\n",
              "[1372 rows x 5 columns]"
            ]
          },
          "metadata": {},
          "execution_count": 55
        }
      ],
      "source": [
        "# visualizziamo il dataframe\n",
        "df"
      ]
    },
    {
      "cell_type": "code",
      "execution_count": 34,
      "metadata": {
        "colab": {
          "base_uri": "https://localhost:8080/"
        },
        "id": "VJbujvqOyijM",
        "outputId": "d08da467-6348-4512-d3ea-0b197d471080"
      },
      "outputs": [
        {
          "output_type": "stream",
          "name": "stdout",
          "text": [
            "Class\n",
            "0    762\n",
            "1    610\n",
            "dtype: int64\n"
          ]
        }
      ],
      "source": [
        "# visualizziamo il numero di banconote per ogni classe\n",
        "print(df.groupby('Class').size())"
      ]
    },
    {
      "cell_type": "code",
      "execution_count": 35,
      "metadata": {
        "colab": {
          "base_uri": "https://localhost:8080/",
          "height": 295
        },
        "id": "He337Kp2yijM",
        "outputId": "40d1b94f-5630-4c2e-a3de-3144e24cf4ec"
      },
      "outputs": [
        {
          "output_type": "display_data",
          "data": {
            "image/png": "[encoded data removed]",
            "text/plain": [
              "<Figure size 432x288 with 1 Axes>"
            ]
          },
          "metadata": {
            "needs_background": "light"
          }
        }
      ],
      "source": [
        "# per maggior chiarezza, visualizziamo anche il grafico delle classi delle banconote\n",
        "%matplotlib inline\n",
        "import seaborn as sns\n",
        "import matplotlib.pyplot as plt\n",
        "\n",
        "\n",
        "sns.countplot(x=\"Class\", data=df)\n",
        "plt.title(\"Bills Dataset\")\n",
        "plt.xlabel(\"Classes\")\n",
        "plt.ylabel(\"Counts\")\n",
        "plt.show()"
      ]
    },
    {
      "cell_type": "code",
      "execution_count": 56,
      "metadata": {
        "id": "4fXW1-3ayijM"
      },
      "outputs": [],
      "source": [
        "# traformiamo il dataframe in una matrice numpy e separiamo il target (la classe, ultima colonna, che chiamiamo y)\n",
        "# dal resto dei dati (le osservazioni, che chiameremo x)\n",
        "import numpy as np\n",
        "dfnp = df.to_numpy()\n",
        "x=dfnp[:,0:-1] \n",
        "y=dfnp[:,-1]"
      ]
    },
    {
      "cell_type": "code",
      "execution_count": 37,
      "metadata": {
        "colab": {
          "base_uri": "https://localhost:8080/"
        },
        "id": "ydSXAeHgyijN",
        "outputId": "17a05396-81f9-4f72-b2c4-b94bca5cd47b"
      },
      "outputs": [
        {
          "output_type": "stream",
          "name": "stdout",
          "text": [
            "[[ 3.6216   8.6661  -2.8073  -0.44699]\n",
            " [ 4.5459   8.1674  -2.4586  -1.4621 ]\n",
            " [ 3.866   -2.6383   1.9242   0.10645]\n",
            " [ 3.4566   9.5228  -4.0112  -3.5944 ]\n",
            " [ 0.32924 -4.4552   4.5718  -0.9888 ]\n",
            " [ 4.3684   9.6718  -3.9606  -3.1625 ]\n",
            " [ 3.5912   3.0129   0.72888  0.56421]\n",
            " [ 2.0922  -6.81     8.4636  -0.60216]\n",
            " [ 3.2032   5.7588  -0.75345 -0.61251]\n",
            " [ 1.5356   9.1772  -2.2718  -0.73535]]\n",
            "y = [0. 0. 0. 0. 0. 0. 0. 0. 0. 0.]\n"
          ]
        }
      ],
      "source": [
        "# vediamo i dati presenti in x e y\n",
        "print(x[:10])\n",
        "print(f'y = {y[:10]}')"
      ]
    },
    {
      "cell_type": "code",
      "execution_count": 38,
      "metadata": {
        "colab": {
          "base_uri": "https://localhost:8080/"
        },
        "id": "KdtDqTagyijO",
        "outputId": "abe9fb82-faae-4101-ac15-40f4a347a9e0"
      },
      "outputs": [
        {
          "output_type": "execute_result",
          "data": {
            "text/plain": [
              "Counter({0.0: 762, 1.0: 610})"
            ]
          },
          "metadata": {},
          "execution_count": 38
        }
      ],
      "source": [
        "# ora contiamo le classi che sono presenti nella y per vedere se corrispondono a quanto trovato nel dataframe\n",
        "import collections\n",
        "collections.Counter(y)"
      ]
    },
    {
      "cell_type": "code",
      "execution_count": 39,
      "metadata": {
        "id": "Fz2IiH7FyijO"
      },
      "outputs": [],
      "source": [
        "#suddividiamo ora i dati in due dataset, uno per 'allenare' il metodo (training set) \n",
        "# e l'altro per testarne l'efficacia (test set). Facciamo in modo che il training set sia il 75% del totale\n",
        "from sklearn.model_selection import train_test_split\n",
        "\n",
        "X_train, X_test, y_train, y_test = train_test_split(x, y, \n",
        "                                                    test_size=0.25, #by default is 75%-25%\n",
        "                                                    #shuffle is set True by default,\n",
        "                                                    stratify=y,\n",
        "                                                    random_state= 123) #fix random seed for replicability"
      ]
    },
    {
      "cell_type": "code",
      "execution_count": 40,
      "metadata": {
        "colab": {
          "base_uri": "https://localhost:8080/"
        },
        "id": "uWMsxAiVyijP",
        "outputId": "539a2132-c92b-4b49-8c98-227c6222007f"
      },
      "outputs": [
        {
          "output_type": "execute_result",
          "data": {
            "text/plain": [
              "((1029, 4), (1029,), (343, 4), (343,))"
            ]
          },
          "metadata": {},
          "execution_count": 40
        }
      ],
      "source": [
        "# visualizziamo gli shape dei vari dataset X_train, X_test, y_train e y_test\n",
        "X_train.shape,y_train.shape,X_test.shape,y_test.shape"
      ]
    },
    {
      "cell_type": "code",
      "execution_count": 41,
      "metadata": {
        "colab": {
          "base_uri": "https://localhost:8080/"
        },
        "id": "h_mrZIXDyijP",
        "outputId": "f51b7c9c-c998-4a16-c16b-6d573cb19515"
      },
      "outputs": [
        {
          "output_type": "stream",
          "name": "stdout",
          "text": [
            "[[  0.16358  -3.3584    1.3749    1.3569 ]\n",
            " [  3.5156   10.1891   -4.2759   -4.978  ]\n",
            " [  1.8993    7.6625    0.15394  -3.1108 ]\n",
            " [  2.2517   -5.1422    4.2916   -1.2487 ]\n",
            " [ -1.7713  -10.7665   10.2184   -1.0043 ]\n",
            " [  3.6244    1.4609    1.3501    1.9284 ]\n",
            " [  2.6606    3.1681    1.9619    0.18662]\n",
            " [  4.9264    5.496    -2.4774   -0.50648]\n",
            " [ -2.7611  -10.5099    9.0239   -1.9547 ]\n",
            " [  4.5597   -2.4211    2.6413    1.6168 ]]\n",
            "y = [1. 0. 0. 0. 1. 0. 0. 0. 1. 0.]\n"
          ]
        }
      ],
      "source": [
        "# visualizziamo anche le prime 10 righe dell'X_train e dell'y_train per vedere i dati\n",
        "# eliminiamo la notazione scientifica per comodità di lettura\n",
        "np.set_printoptions(suppress=True)\n",
        "print(X_train[:10])\n",
        "print(f'y = {y_train[:10]}')"
      ]
    },
    {
      "cell_type": "code",
      "execution_count": 42,
      "metadata": {
        "id": "YtpCU-yUyijP"
      },
      "outputs": [],
      "source": [
        "# importiamo il metodo di classificazione decision tree\n",
        "from sklearn import tree"
      ]
    },
    {
      "cell_type": "code",
      "execution_count": 43,
      "metadata": {
        "id": "Bn-vvhzpyijQ"
      },
      "outputs": [],
      "source": [
        "# inizializziamo il metodo con i seguenti parametri:\n",
        "# criterio: indice di Gini\n",
        "# profondità massima dell'albero: 8\n",
        "# dimensione minima per lo split: 25\n",
        "# numero di campioni delle foglie: 10\n",
        "tree_clf = tree.DecisionTreeClassifier(criterion=\"gini\", # criteri per stabilire come splittare\n",
        "                                       max_depth=8, # profondità dell'albero per evitare l'overfitting\n",
        "                                       min_samples_split=25, # dimensione minima del sottogruppo a cui fermarsi (no more split)\n",
        "                                       max_leaf_nodes=10\n",
        "                                      )\n"
      ]
    },
    {
      "cell_type": "code",
      "execution_count": 44,
      "metadata": {
        "colab": {
          "base_uri": "https://localhost:8080/"
        },
        "id": "CLihuWOKyijQ",
        "outputId": "c7e9a69d-add2-48ad-fa11-83532fb0917d"
      },
      "outputs": [
        {
          "output_type": "execute_result",
          "data": {
            "text/plain": [
              "DecisionTreeClassifier(max_depth=8, max_leaf_nodes=10, min_samples_split=25)"
            ]
          },
          "metadata": {},
          "execution_count": 44
        }
      ],
      "source": [
        "# \"alleniamo\" il metodo con i dati del training set\n",
        "tree_clf.fit(X_train,y_train)"
      ]
    },
    {
      "cell_type": "code",
      "execution_count": 45,
      "metadata": {
        "id": "2CKgH0GLyijQ"
      },
      "outputs": [],
      "source": [
        "# proviamo a fare una previsione sui dati del test set\n",
        "predict = tree_clf.predict(X_test)"
      ]
    },
    {
      "cell_type": "code",
      "execution_count": 46,
      "metadata": {
        "colab": {
          "base_uri": "https://localhost:8080/"
        },
        "id": "5Du3CbUyyijR",
        "outputId": "2e807a4d-d471-4ac3-eca8-82973bb4f972"
      },
      "outputs": [
        {
          "output_type": "stream",
          "name": "stdout",
          "text": [
            "dati predetti dal metodo =                [1. 0. 1. 1. 1. 0. 1. 0. 0. 0.]\n",
            "dati reali presenti nel dataset di test = [0. 0. 1. 1. 1. 0. 1. 0. 0. 1.]\n"
          ]
        }
      ],
      "source": [
        "# e visualizziamo il risultato (solo i primi dieci)\n",
        "print(f'dati predetti dal metodo =                {predict[:10]}') # dati predetti dal metodo\n",
        "print(f'dati reali presenti nel dataset di test = {y_test[:10]}') # dati effettivi presenti nel test set"
      ]
    },
    {
      "cell_type": "code",
      "execution_count": 47,
      "metadata": {
        "colab": {
          "base_uri": "https://localhost:8080/",
          "height": 279
        },
        "id": "pynykv9jyijR",
        "outputId": "ebd7524a-6c0e-4821-f6ec-fdd0b8d47c76"
      },
      "outputs": [
        {
          "output_type": "display_data",
          "data": {
            "image/png": "[encoded data removed]",
            "text/plain": [
              "<Figure size 432x288 with 1 Axes>"
            ]
          },
          "metadata": {
            "needs_background": "light"
          }
        }
      ],
      "source": [
        "# valutiamo il nostro metodo:\n",
        "\n",
        "# visualizziamo la confusion matrix\n",
        "from mlxtend.plotting import plot_confusion_matrix\n",
        "from matplotlib import pyplot as plt\n",
        "from sklearn.metrics import confusion_matrix, classification_report\n",
        "\n",
        "plot_confusion_matrix(confusion_matrix(y_test, predict))\n",
        "plt.show()"
      ]
    },
    {
      "cell_type": "code",
      "execution_count": 48,
      "metadata": {
        "id": "NVyi1TrgyijS"
      },
      "outputs": [],
      "source": [
        "# quanto valgono TP, FP, FN e TN?\n",
        "# TP = 143\n",
        "# FP = 12\n",
        "# FN = 9\n",
        "# TN = 179"
      ]
    },
    {
      "cell_type": "code",
      "execution_count": 49,
      "metadata": {
        "id": "viJeCSY4yijS"
      },
      "outputs": [],
      "source": [
        "# sulla base della confusion matrix, cosa possiamo dire di questo metodo? Motivare la risposta\n",
        "# risposta: gli FN e FP sono davvero pochi e questo dimostra che è stato molto accurato"
      ]
    },
    {
      "cell_type": "code",
      "execution_count": 50,
      "metadata": {
        "colab": {
          "base_uri": "https://localhost:8080/"
        },
        "id": "G_Ea6L16yijS",
        "outputId": "5cb3d93b-2b8f-4678-ab6e-3952050d66fc"
      },
      "outputs": [
        {
          "output_type": "stream",
          "name": "stdout",
          "text": [
            "              precision    recall  f1-score   support\n",
            "\n",
            "         0.0       0.95      0.94      0.94       191\n",
            "         1.0       0.92      0.94      0.93       152\n",
            "\n",
            "    accuracy                           0.94       343\n",
            "   macro avg       0.94      0.94      0.94       343\n",
            "weighted avg       0.94      0.94      0.94       343\n",
            "\n"
          ]
        }
      ],
      "source": [
        "# visualizziamo ora gli indicatori classici:\n",
        "print(classification_report(y_test, predict))"
      ]
    },
    {
      "cell_type": "code",
      "execution_count": 51,
      "metadata": {
        "id": "L9TXLX8gyijS"
      },
      "outputs": [],
      "source": [
        "# sulla base degli indicatori, che cosa possiamo dire del nostro metodo? Motivare la risposta\n",
        "# risposta: è accurato al 94% (molto alto!)"
      ]
    },
    {
      "cell_type": "code",
      "execution_count": null,
      "metadata": {
        "id": "xzCydPc7CM1c",
        "outputId": "9e5aa0af-1af5-498c-ac88-49e29ab5ed10"
      },
      "outputs": [
        {
          "name": "stdout",
          "output_type": "stream",
          "text": [
            "|--- Variance <= 0.32\n",
            "|   |--- Skewness <= 7.13\n",
            "|   |   |--- Variance <= -0.47\n",
            "|   |   |   |--- class: 1.0\n",
            "|   |   |--- Variance >  -0.47\n",
            "|   |   |   |--- class: 1.0\n",
            "|   |--- Skewness >  7.13\n",
            "|   |   |--- Variance <= -4.38\n",
            "|   |   |   |--- class: 1.0\n",
            "|   |   |--- Variance >  -4.38\n",
            "|   |   |   |--- class: 0.0\n",
            "|--- Variance >  0.32\n",
            "|   |--- Curtosis <= -4.39\n",
            "|   |   |--- Variance <= 2.21\n",
            "|   |   |   |--- class: 1.0\n",
            "|   |   |--- Variance >  2.21\n",
            "|   |   |   |--- class: 0.0\n",
            "|   |--- Curtosis >  -4.39\n",
            "|   |   |--- Variance <= 1.57\n",
            "|   |   |   |--- Curtosis <= -2.27\n",
            "|   |   |   |   |--- class: 1.0\n",
            "|   |   |   |--- Curtosis >  -2.27\n",
            "|   |   |   |   |--- Entropy <= 0.23\n",
            "|   |   |   |   |   |--- class: 0.0\n",
            "|   |   |   |   |--- Entropy >  0.23\n",
            "|   |   |   |   |   |--- class: 0.0\n",
            "|   |   |--- Variance >  1.57\n",
            "|   |   |   |--- class: 0.0\n",
            "\n"
          ]
        }
      ],
      "source": [
        "# visualizziamo ora il decision tree, prima in forma testuale"
      ]
    },
    {
      "cell_type": "code",
      "execution_count": 57,
      "metadata": {
        "id": "i9q5WQ91yijT",
        "outputId": "1c809f91-d3b6-4135-e4f3-57eb47dc1612",
        "colab": {
          "base_uri": "https://localhost:8080/",
          "height": 935
        }
      },
      "outputs": [
        {
          "output_type": "execute_result",
          "data": {
            "text/plain": [
              "<graphviz.files.Source at 0x7f111c8b62d0>"
            ],
            "image/svg+xml": "<?xml version=\"1.0\" encoding=\"UTF-8\" standalone=\"no\"?>\n<!DOCTYPE svg PUBLIC \"-//W3C//DTD SVG 1.1//EN\"\n \"http://www.w3.org/Graphics/SVG/1.1/DTD/svg11.dtd\">\n<!-- Generated by graphviz version 2.40.1 (20161225.0304)\n -->\n<!-- Title: Tree Pages: 1 -->\n<svg width=\"1037pt\" height=\"671pt\"\n viewBox=\"0.00 0.00 1037.00 671.00\" xmlns=\"http://www.w3.org/2000/svg\" xmlns:xlink=\"http://www.w3.org/1999/xlink\">\n<g id=\"graph0\" class=\"graph\" transform=\"scale(1 1) rotate(0) translate(4 667)\">\n<title>Tree</title>\n<polygon fill=\"#ffffff\" stroke=\"transparent\" points=\"-4,4 -4,-667 1033,-667 1033,4 -4,4\"/>\n<!-- 0 -->\n<g id=\"node1\" class=\"node\">\n<title>0</title>\n<path fill=\"#fae6d8\" stroke=\"#000000\" d=\"M559,-663C559,-663 451,-663 451,-663 445,-663 439,-657 439,-651 439,-651 439,-592 439,-592 439,-586 445,-580 451,-580 451,-580 559,-580 559,-580 565,-580 571,-586 571,-592 571,-592 571,-651 571,-651 571,-657 565,-663 559,-663\"/>\n<text text-anchor=\"start\" x=\"454.5\" y=\"-647.8\" font-family=\"Helvetica,sans-Serif\" font-size=\"14.00\" fill=\"#000000\">Variance ≤ 0.32</text>\n<text text-anchor=\"start\" x=\"467\" y=\"-632.8\" font-family=\"Helvetica,sans-Serif\" font-size=\"14.00\" fill=\"#000000\">gini = 0.494</text>\n<text text-anchor=\"start\" x=\"453\" y=\"-617.8\" font-family=\"Helvetica,sans-Serif\" font-size=\"14.00\" fill=\"#000000\">samples = 1029</text>\n<text text-anchor=\"start\" x=\"447\" y=\"-602.8\" font-family=\"Helvetica,sans-Serif\" font-size=\"14.00\" fill=\"#000000\">value = [571, 458]</text>\n<text text-anchor=\"start\" x=\"476\" y=\"-587.8\" font-family=\"Helvetica,sans-Serif\" font-size=\"14.00\" fill=\"#000000\">class = 0</text>\n</g>\n<!-- 1 -->\n<g id=\"node2\" class=\"node\">\n<title>1</title>\n<path fill=\"#67b4eb\" stroke=\"#000000\" d=\"M445,-544C445,-544 333,-544 333,-544 327,-544 321,-538 321,-532 321,-532 321,-473 321,-473 321,-467 327,-461 333,-461 333,-461 445,-461 445,-461 451,-461 457,-467 457,-473 457,-473 457,-532 457,-532 457,-538 451,-544 445,-544\"/>\n<text text-anchor=\"start\" x=\"329\" y=\"-528.8\" font-family=\"Helvetica,sans-Serif\" font-size=\"14.00\" fill=\"#000000\">Skewness ≤ 7.128</text>\n<text text-anchor=\"start\" x=\"351\" y=\"-513.8\" font-family=\"Helvetica,sans-Serif\" font-size=\"14.00\" fill=\"#000000\">gini = 0.307</text>\n<text text-anchor=\"start\" x=\"341\" y=\"-498.8\" font-family=\"Helvetica,sans-Serif\" font-size=\"14.00\" fill=\"#000000\">samples = 497</text>\n<text text-anchor=\"start\" x=\"335\" y=\"-483.8\" font-family=\"Helvetica,sans-Serif\" font-size=\"14.00\" fill=\"#000000\">value = [94, 403]</text>\n<text text-anchor=\"start\" x=\"360\" y=\"-468.8\" font-family=\"Helvetica,sans-Serif\" font-size=\"14.00\" fill=\"#000000\">class = 1</text>\n</g>\n<!-- 0&#45;&gt;1 -->\n<g id=\"edge1\" class=\"edge\">\n<title>0&#45;&gt;1</title>\n<path fill=\"none\" stroke=\"#000000\" d=\"M464.4288,-579.8796C455.5618,-570.7832 446.0956,-561.0722 436.9709,-551.7116\"/>\n<polygon fill=\"#000000\" stroke=\"#000000\" points=\"439.2309,-549.0158 429.7443,-544.2981 434.2183,-553.9019 439.2309,-549.0158\"/>\n<text text-anchor=\"middle\" x=\"429.4252\" y=\"-565.596\" font-family=\"Helvetica,sans-Serif\" font-size=\"14.00\" fill=\"#000000\">True</text>\n</g>\n<!-- 2 -->\n<g id=\"node9\" class=\"node\">\n<title>2</title>\n<path fill=\"#e89050\" stroke=\"#000000\" d=\"M685,-544C685,-544 583,-544 583,-544 577,-544 571,-538 571,-532 571,-532 571,-473 571,-473 571,-467 577,-461 583,-461 583,-461 685,-461 685,-461 691,-461 697,-467 697,-473 697,-473 697,-532 697,-532 697,-538 691,-544 685,-544\"/>\n<text text-anchor=\"start\" x=\"579\" y=\"-528.8\" font-family=\"Helvetica,sans-Serif\" font-size=\"14.00\" fill=\"#000000\">Curtosis ≤ &#45;4.386</text>\n<text text-anchor=\"start\" x=\"596\" y=\"-513.8\" font-family=\"Helvetica,sans-Serif\" font-size=\"14.00\" fill=\"#000000\">gini = 0.185</text>\n<text text-anchor=\"start\" x=\"586\" y=\"-498.8\" font-family=\"Helvetica,sans-Serif\" font-size=\"14.00\" fill=\"#000000\">samples = 532</text>\n<text text-anchor=\"start\" x=\"580\" y=\"-483.8\" font-family=\"Helvetica,sans-Serif\" font-size=\"14.00\" fill=\"#000000\">value = [477, 55]</text>\n<text text-anchor=\"start\" x=\"605\" y=\"-468.8\" font-family=\"Helvetica,sans-Serif\" font-size=\"14.00\" fill=\"#000000\">class = 0</text>\n</g>\n<!-- 0&#45;&gt;2 -->\n<g id=\"edge8\" class=\"edge\">\n<title>0&#45;&gt;2</title>\n<path fill=\"none\" stroke=\"#000000\" d=\"M550.1179,-579.8796C560.174,-570.6031 570.923,-560.6874 581.2554,-551.1559\"/>\n<polygon fill=\"#000000\" stroke=\"#000000\" points=\"583.7124,-553.6511 588.6895,-544.2981 578.9661,-548.506 583.7124,-553.6511\"/>\n<text text-anchor=\"middle\" x=\"587.6822\" y=\"-565.5778\" font-family=\"Helvetica,sans-Serif\" font-size=\"14.00\" fill=\"#000000\">False</text>\n</g>\n<!-- 3 -->\n<g id=\"node3\" class=\"node\">\n<title>3</title>\n<path fill=\"#46a3e7\" stroke=\"#000000\" d=\"M253,-425C253,-425 147,-425 147,-425 141,-425 135,-419 135,-413 135,-413 135,-354 135,-354 135,-348 141,-342 147,-342 147,-342 253,-342 253,-342 259,-342 265,-348 265,-354 265,-354 265,-413 265,-413 265,-419 259,-425 253,-425\"/>\n<text text-anchor=\"start\" x=\"143\" y=\"-409.8\" font-family=\"Helvetica,sans-Serif\" font-size=\"14.00\" fill=\"#000000\">Variance ≤ &#45;0.472</text>\n<text text-anchor=\"start\" x=\"162\" y=\"-394.8\" font-family=\"Helvetica,sans-Serif\" font-size=\"14.00\" fill=\"#000000\">gini = 0.115</text>\n<text text-anchor=\"start\" x=\"152\" y=\"-379.8\" font-family=\"Helvetica,sans-Serif\" font-size=\"14.00\" fill=\"#000000\">samples = 408</text>\n<text text-anchor=\"start\" x=\"146\" y=\"-364.8\" font-family=\"Helvetica,sans-Serif\" font-size=\"14.00\" fill=\"#000000\">value = [25, 383]</text>\n<text text-anchor=\"start\" x=\"171\" y=\"-349.8\" font-family=\"Helvetica,sans-Serif\" font-size=\"14.00\" fill=\"#000000\">class = 1</text>\n</g>\n<!-- 1&#45;&gt;3 -->\n<g id=\"edge2\" class=\"edge\">\n<title>1&#45;&gt;3</title>\n<path fill=\"none\" stroke=\"#000000\" d=\"M322.897,-460.8796C307.0892,-450.9265 290.1128,-440.2377 273.9754,-430.0771\"/>\n<polygon fill=\"#000000\" stroke=\"#000000\" points=\"275.4364,-426.8611 265.1092,-424.4947 271.7067,-432.7847 275.4364,-426.8611\"/>\n</g>\n<!-- 4 -->\n<g id=\"node6\" class=\"node\">\n<title>4</title>\n<path fill=\"#eda672\" stroke=\"#000000\" d=\"M442,-425C442,-425 336,-425 336,-425 330,-425 324,-419 324,-413 324,-413 324,-354 324,-354 324,-348 330,-342 336,-342 336,-342 442,-342 442,-342 448,-342 454,-348 454,-354 454,-354 454,-413 454,-413 454,-419 448,-425 442,-425\"/>\n<text text-anchor=\"start\" x=\"332\" y=\"-409.8\" font-family=\"Helvetica,sans-Serif\" font-size=\"14.00\" fill=\"#000000\">Variance ≤ &#45;4.382</text>\n<text text-anchor=\"start\" x=\"351\" y=\"-394.8\" font-family=\"Helvetica,sans-Serif\" font-size=\"14.00\" fill=\"#000000\">gini = 0.348</text>\n<text text-anchor=\"start\" x=\"345\" y=\"-379.8\" font-family=\"Helvetica,sans-Serif\" font-size=\"14.00\" fill=\"#000000\">samples = 89</text>\n<text text-anchor=\"start\" x=\"339\" y=\"-364.8\" font-family=\"Helvetica,sans-Serif\" font-size=\"14.00\" fill=\"#000000\">value = [69, 20]</text>\n<text text-anchor=\"start\" x=\"360\" y=\"-349.8\" font-family=\"Helvetica,sans-Serif\" font-size=\"14.00\" fill=\"#000000\">class = 0</text>\n</g>\n<!-- 1&#45;&gt;4 -->\n<g id=\"edge5\" class=\"edge\">\n<title>1&#45;&gt;4</title>\n<path fill=\"none\" stroke=\"#000000\" d=\"M389,-460.8796C389,-452.6838 389,-443.9891 389,-435.5013\"/>\n<polygon fill=\"#000000\" stroke=\"#000000\" points=\"392.5001,-435.298 389,-425.2981 385.5001,-435.2981 392.5001,-435.298\"/>\n</g>\n<!-- 17 -->\n<g id=\"node4\" class=\"node\">\n<title>17</title>\n<path fill=\"#40a0e6\" stroke=\"#000000\" d=\"M112,-298.5C112,-298.5 12,-298.5 12,-298.5 6,-298.5 0,-292.5 0,-286.5 0,-286.5 0,-242.5 0,-242.5 0,-236.5 6,-230.5 12,-230.5 12,-230.5 112,-230.5 112,-230.5 118,-230.5 124,-236.5 124,-242.5 124,-242.5 124,-286.5 124,-286.5 124,-292.5 118,-298.5 112,-298.5\"/>\n<text text-anchor=\"start\" x=\"24\" y=\"-283.3\" font-family=\"Helvetica,sans-Serif\" font-size=\"14.00\" fill=\"#000000\">gini = 0.062</text>\n<text text-anchor=\"start\" x=\"14\" y=\"-268.3\" font-family=\"Helvetica,sans-Serif\" font-size=\"14.00\" fill=\"#000000\">samples = 346</text>\n<text text-anchor=\"start\" x=\"8\" y=\"-253.3\" font-family=\"Helvetica,sans-Serif\" font-size=\"14.00\" fill=\"#000000\">value = [11, 335]</text>\n<text text-anchor=\"start\" x=\"33\" y=\"-238.3\" font-family=\"Helvetica,sans-Serif\" font-size=\"14.00\" fill=\"#000000\">class = 1</text>\n</g>\n<!-- 3&#45;&gt;17 -->\n<g id=\"edge3\" class=\"edge\">\n<title>3&#45;&gt;17</title>\n<path fill=\"none\" stroke=\"#000000\" d=\"M151.7343,-341.8796C138.0899,-330.1138 123.2531,-317.3197 109.6454,-305.5855\"/>\n<polygon fill=\"#000000\" stroke=\"#000000\" points=\"111.6527,-302.6948 101.7938,-298.8149 107.0813,-307.9961 111.6527,-302.6948\"/>\n</g>\n<!-- 18 -->\n<g id=\"node5\" class=\"node\">\n<title>18</title>\n<path fill=\"#73baed\" stroke=\"#000000\" d=\"M246,-298.5C246,-298.5 154,-298.5 154,-298.5 148,-298.5 142,-292.5 142,-286.5 142,-286.5 142,-242.5 142,-242.5 142,-236.5 148,-230.5 154,-230.5 154,-230.5 246,-230.5 246,-230.5 252,-230.5 258,-236.5 258,-242.5 258,-242.5 258,-286.5 258,-286.5 258,-292.5 252,-298.5 246,-298.5\"/>\n<text text-anchor=\"start\" x=\"166.5\" y=\"-283.3\" font-family=\"Helvetica,sans-Serif\" font-size=\"14.00\" fill=\"#000000\">gini = 0.35</text>\n<text text-anchor=\"start\" x=\"156\" y=\"-268.3\" font-family=\"Helvetica,sans-Serif\" font-size=\"14.00\" fill=\"#000000\">samples = 62</text>\n<text text-anchor=\"start\" x=\"150\" y=\"-253.3\" font-family=\"Helvetica,sans-Serif\" font-size=\"14.00\" fill=\"#000000\">value = [14, 48]</text>\n<text text-anchor=\"start\" x=\"171\" y=\"-238.3\" font-family=\"Helvetica,sans-Serif\" font-size=\"14.00\" fill=\"#000000\">class = 1</text>\n</g>\n<!-- 3&#45;&gt;18 -->\n<g id=\"edge4\" class=\"edge\">\n<title>3&#45;&gt;18</title>\n<path fill=\"none\" stroke=\"#000000\" d=\"M200,-341.8796C200,-331.2134 200,-319.7021 200,-308.9015\"/>\n<polygon fill=\"#000000\" stroke=\"#000000\" points=\"203.5001,-308.8149 200,-298.8149 196.5001,-308.815 203.5001,-308.8149\"/>\n</g>\n<!-- 5 -->\n<g id=\"node7\" class=\"node\">\n<title>5</title>\n<path fill=\"#399de5\" stroke=\"#000000\" d=\"M371.5,-298.5C371.5,-298.5 288.5,-298.5 288.5,-298.5 282.5,-298.5 276.5,-292.5 276.5,-286.5 276.5,-286.5 276.5,-242.5 276.5,-242.5 276.5,-236.5 282.5,-230.5 288.5,-230.5 288.5,-230.5 371.5,-230.5 371.5,-230.5 377.5,-230.5 383.5,-236.5 383.5,-242.5 383.5,-242.5 383.5,-286.5 383.5,-286.5 383.5,-292.5 377.5,-298.5 371.5,-298.5\"/>\n<text text-anchor=\"start\" x=\"300.5\" y=\"-283.3\" font-family=\"Helvetica,sans-Serif\" font-size=\"14.00\" fill=\"#000000\">gini = 0.0</text>\n<text text-anchor=\"start\" x=\"286\" y=\"-268.3\" font-family=\"Helvetica,sans-Serif\" font-size=\"14.00\" fill=\"#000000\">samples = 20</text>\n<text text-anchor=\"start\" x=\"284.5\" y=\"-253.3\" font-family=\"Helvetica,sans-Serif\" font-size=\"14.00\" fill=\"#000000\">value = [0, 20]</text>\n<text text-anchor=\"start\" x=\"301\" y=\"-238.3\" font-family=\"Helvetica,sans-Serif\" font-size=\"14.00\" fill=\"#000000\">class = 1</text>\n</g>\n<!-- 4&#45;&gt;5 -->\n<g id=\"edge6\" class=\"edge\">\n<title>4&#45;&gt;5</title>\n<path fill=\"none\" stroke=\"#000000\" d=\"M368.3647,-341.8796C362.9128,-330.8835 357.0157,-318.9893 351.5184,-307.9015\"/>\n<polygon fill=\"#000000\" stroke=\"#000000\" points=\"354.5911,-306.2195 347.0133,-298.8149 348.3196,-309.3289 354.5911,-306.2195\"/>\n</g>\n<!-- 6 -->\n<g id=\"node8\" class=\"node\">\n<title>6</title>\n<path fill=\"#e58139\" stroke=\"#000000\" d=\"M496.5,-298.5C496.5,-298.5 413.5,-298.5 413.5,-298.5 407.5,-298.5 401.5,-292.5 401.5,-286.5 401.5,-286.5 401.5,-242.5 401.5,-242.5 401.5,-236.5 407.5,-230.5 413.5,-230.5 413.5,-230.5 496.5,-230.5 496.5,-230.5 502.5,-230.5 508.5,-236.5 508.5,-242.5 508.5,-242.5 508.5,-286.5 508.5,-286.5 508.5,-292.5 502.5,-298.5 496.5,-298.5\"/>\n<text text-anchor=\"start\" x=\"425.5\" y=\"-283.3\" font-family=\"Helvetica,sans-Serif\" font-size=\"14.00\" fill=\"#000000\">gini = 0.0</text>\n<text text-anchor=\"start\" x=\"411\" y=\"-268.3\" font-family=\"Helvetica,sans-Serif\" font-size=\"14.00\" fill=\"#000000\">samples = 69</text>\n<text text-anchor=\"start\" x=\"409.5\" y=\"-253.3\" font-family=\"Helvetica,sans-Serif\" font-size=\"14.00\" fill=\"#000000\">value = [69, 0]</text>\n<text text-anchor=\"start\" x=\"426\" y=\"-238.3\" font-family=\"Helvetica,sans-Serif\" font-size=\"14.00\" fill=\"#000000\">class = 0</text>\n</g>\n<!-- 4&#45;&gt;6 -->\n<g id=\"edge7\" class=\"edge\">\n<title>4&#45;&gt;6</title>\n<path fill=\"none\" stroke=\"#000000\" d=\"M412.0836,-341.8796C418.2433,-330.7735 424.9111,-318.7513 431.1129,-307.5691\"/>\n<polygon fill=\"#000000\" stroke=\"#000000\" points=\"434.1787,-309.2576 435.9682,-298.8149 428.0572,-305.8624 434.1787,-309.2576\"/>\n</g>\n<!-- 7 -->\n<g id=\"node10\" class=\"node\">\n<title>7</title>\n<path fill=\"#78bced\" stroke=\"#000000\" d=\"M684.5,-425C684.5,-425 583.5,-425 583.5,-425 577.5,-425 571.5,-419 571.5,-413 571.5,-413 571.5,-354 571.5,-354 571.5,-348 577.5,-342 583.5,-342 583.5,-342 684.5,-342 684.5,-342 690.5,-342 696.5,-348 696.5,-354 696.5,-354 696.5,-413 696.5,-413 696.5,-419 690.5,-425 684.5,-425\"/>\n<text text-anchor=\"start\" x=\"579.5\" y=\"-409.8\" font-family=\"Helvetica,sans-Serif\" font-size=\"14.00\" fill=\"#000000\">Variance ≤ 3.304</text>\n<text text-anchor=\"start\" x=\"596\" y=\"-394.8\" font-family=\"Helvetica,sans-Serif\" font-size=\"14.00\" fill=\"#000000\">gini = 0.367</text>\n<text text-anchor=\"start\" x=\"590\" y=\"-379.8\" font-family=\"Helvetica,sans-Serif\" font-size=\"14.00\" fill=\"#000000\">samples = 33</text>\n<text text-anchor=\"start\" x=\"588.5\" y=\"-364.8\" font-family=\"Helvetica,sans-Serif\" font-size=\"14.00\" fill=\"#000000\">value = [8, 25]</text>\n<text text-anchor=\"start\" x=\"605\" y=\"-349.8\" font-family=\"Helvetica,sans-Serif\" font-size=\"14.00\" fill=\"#000000\">class = 1</text>\n</g>\n<!-- 2&#45;&gt;7 -->\n<g id=\"edge9\" class=\"edge\">\n<title>2&#45;&gt;7</title>\n<path fill=\"none\" stroke=\"#000000\" d=\"M634,-460.8796C634,-452.6838 634,-443.9891 634,-435.5013\"/>\n<polygon fill=\"#000000\" stroke=\"#000000\" points=\"637.5001,-435.298 634,-425.2981 630.5001,-435.2981 637.5001,-435.298\"/>\n</g>\n<!-- 8 -->\n<g id=\"node13\" class=\"node\">\n<title>8</title>\n<path fill=\"#e78946\" stroke=\"#000000\" d=\"M882.5,-425C882.5,-425 781.5,-425 781.5,-425 775.5,-425 769.5,-419 769.5,-413 769.5,-413 769.5,-354 769.5,-354 769.5,-348 775.5,-342 781.5,-342 781.5,-342 882.5,-342 882.5,-342 888.5,-342 894.5,-348 894.5,-354 894.5,-354 894.5,-413 894.5,-413 894.5,-419 888.5,-425 882.5,-425\"/>\n<text text-anchor=\"start\" x=\"777.5\" y=\"-409.8\" font-family=\"Helvetica,sans-Serif\" font-size=\"14.00\" fill=\"#000000\">Variance ≤ 1.565</text>\n<text text-anchor=\"start\" x=\"794\" y=\"-394.8\" font-family=\"Helvetica,sans-Serif\" font-size=\"14.00\" fill=\"#000000\">gini = 0.113</text>\n<text text-anchor=\"start\" x=\"784\" y=\"-379.8\" font-family=\"Helvetica,sans-Serif\" font-size=\"14.00\" fill=\"#000000\">samples = 499</text>\n<text text-anchor=\"start\" x=\"778\" y=\"-364.8\" font-family=\"Helvetica,sans-Serif\" font-size=\"14.00\" fill=\"#000000\">value = [469, 30]</text>\n<text text-anchor=\"start\" x=\"803\" y=\"-349.8\" font-family=\"Helvetica,sans-Serif\" font-size=\"14.00\" fill=\"#000000\">class = 0</text>\n</g>\n<!-- 2&#45;&gt;8 -->\n<g id=\"edge12\" class=\"edge\">\n<title>2&#45;&gt;8</title>\n<path fill=\"none\" stroke=\"#000000\" d=\"M697.1928,-464.5205C717.3947,-452.3789 739.8957,-438.8556 760.6371,-426.3898\"/>\n<polygon fill=\"#000000\" stroke=\"#000000\" points=\"762.6386,-429.2704 769.4068,-421.1192 759.0327,-423.2706 762.6386,-429.2704\"/>\n</g>\n<!-- 9 -->\n<g id=\"node11\" class=\"node\">\n<title>9</title>\n<path fill=\"#399de5\" stroke=\"#000000\" d=\"M621.5,-298.5C621.5,-298.5 538.5,-298.5 538.5,-298.5 532.5,-298.5 526.5,-292.5 526.5,-286.5 526.5,-286.5 526.5,-242.5 526.5,-242.5 526.5,-236.5 532.5,-230.5 538.5,-230.5 538.5,-230.5 621.5,-230.5 621.5,-230.5 627.5,-230.5 633.5,-236.5 633.5,-242.5 633.5,-242.5 633.5,-286.5 633.5,-286.5 633.5,-292.5 627.5,-298.5 621.5,-298.5\"/>\n<text text-anchor=\"start\" x=\"550.5\" y=\"-283.3\" font-family=\"Helvetica,sans-Serif\" font-size=\"14.00\" fill=\"#000000\">gini = 0.0</text>\n<text text-anchor=\"start\" x=\"536\" y=\"-268.3\" font-family=\"Helvetica,sans-Serif\" font-size=\"14.00\" fill=\"#000000\">samples = 25</text>\n<text text-anchor=\"start\" x=\"534.5\" y=\"-253.3\" font-family=\"Helvetica,sans-Serif\" font-size=\"14.00\" fill=\"#000000\">value = [0, 25]</text>\n<text text-anchor=\"start\" x=\"551\" y=\"-238.3\" font-family=\"Helvetica,sans-Serif\" font-size=\"14.00\" fill=\"#000000\">class = 1</text>\n</g>\n<!-- 7&#45;&gt;9 -->\n<g id=\"edge10\" class=\"edge\">\n<title>7&#45;&gt;9</title>\n<path fill=\"none\" stroke=\"#000000\" d=\"M615.1134,-341.8796C610.1735,-330.9935 604.8341,-319.227 599.8459,-308.2344\"/>\n<polygon fill=\"#000000\" stroke=\"#000000\" points=\"602.891,-306.4749 595.5715,-298.8149 596.5166,-309.3675 602.891,-306.4749\"/>\n</g>\n<!-- 10 -->\n<g id=\"node12\" class=\"node\">\n<title>10</title>\n<path fill=\"#e58139\" stroke=\"#000000\" d=\"M738.5,-298.5C738.5,-298.5 663.5,-298.5 663.5,-298.5 657.5,-298.5 651.5,-292.5 651.5,-286.5 651.5,-286.5 651.5,-242.5 651.5,-242.5 651.5,-236.5 657.5,-230.5 663.5,-230.5 663.5,-230.5 738.5,-230.5 738.5,-230.5 744.5,-230.5 750.5,-236.5 750.5,-242.5 750.5,-242.5 750.5,-286.5 750.5,-286.5 750.5,-292.5 744.5,-298.5 738.5,-298.5\"/>\n<text text-anchor=\"start\" x=\"671.5\" y=\"-283.3\" font-family=\"Helvetica,sans-Serif\" font-size=\"14.00\" fill=\"#000000\">gini = 0.0</text>\n<text text-anchor=\"start\" x=\"661.5\" y=\"-268.3\" font-family=\"Helvetica,sans-Serif\" font-size=\"14.00\" fill=\"#000000\">samples = 8</text>\n<text text-anchor=\"start\" x=\"659.5\" y=\"-253.3\" font-family=\"Helvetica,sans-Serif\" font-size=\"14.00\" fill=\"#000000\">value = [8, 0]</text>\n<text text-anchor=\"start\" x=\"672\" y=\"-238.3\" font-family=\"Helvetica,sans-Serif\" font-size=\"14.00\" fill=\"#000000\">class = 0</text>\n</g>\n<!-- 7&#45;&gt;10 -->\n<g id=\"edge11\" class=\"edge\">\n<title>7&#45;&gt;10</title>\n<path fill=\"none\" stroke=\"#000000\" d=\"M657.4333,-341.8796C663.6863,-330.7735 670.4552,-318.7513 676.751,-307.5691\"/>\n<polygon fill=\"#000000\" stroke=\"#000000\" points=\"679.8235,-309.2459 681.6798,-298.8149 673.7239,-305.8116 679.8235,-309.2459\"/>\n</g>\n<!-- 11 -->\n<g id=\"node14\" class=\"node\">\n<title>11</title>\n<path fill=\"#eb9f68\" stroke=\"#000000\" d=\"M883,-306C883,-306 781,-306 781,-306 775,-306 769,-300 769,-294 769,-294 769,-235 769,-235 769,-229 775,-223 781,-223 781,-223 883,-223 883,-223 889,-223 895,-229 895,-235 895,-235 895,-294 895,-294 895,-300 889,-306 883,-306\"/>\n<text text-anchor=\"start\" x=\"777\" y=\"-290.8\" font-family=\"Helvetica,sans-Serif\" font-size=\"14.00\" fill=\"#000000\">Curtosis ≤ &#45;2.272</text>\n<text text-anchor=\"start\" x=\"794\" y=\"-275.8\" font-family=\"Helvetica,sans-Serif\" font-size=\"14.00\" fill=\"#000000\">gini = 0.311</text>\n<text text-anchor=\"start\" x=\"784\" y=\"-260.8\" font-family=\"Helvetica,sans-Serif\" font-size=\"14.00\" fill=\"#000000\">samples = 140</text>\n<text text-anchor=\"start\" x=\"778\" y=\"-245.8\" font-family=\"Helvetica,sans-Serif\" font-size=\"14.00\" fill=\"#000000\">value = [113, 27]</text>\n<text text-anchor=\"start\" x=\"803\" y=\"-230.8\" font-family=\"Helvetica,sans-Serif\" font-size=\"14.00\" fill=\"#000000\">class = 0</text>\n</g>\n<!-- 8&#45;&gt;11 -->\n<g id=\"edge13\" class=\"edge\">\n<title>8&#45;&gt;11</title>\n<path fill=\"none\" stroke=\"#000000\" d=\"M832,-341.8796C832,-333.6838 832,-324.9891 832,-316.5013\"/>\n<polygon fill=\"#000000\" stroke=\"#000000\" points=\"835.5001,-316.298 832,-306.2981 828.5001,-316.2981 835.5001,-316.298\"/>\n</g>\n<!-- 12 -->\n<g id=\"node19\" class=\"node\">\n<title>12</title>\n<path fill=\"#e5823b\" stroke=\"#000000\" d=\"M1017,-298.5C1017,-298.5 925,-298.5 925,-298.5 919,-298.5 913,-292.5 913,-286.5 913,-286.5 913,-242.5 913,-242.5 913,-236.5 919,-230.5 925,-230.5 925,-230.5 1017,-230.5 1017,-230.5 1023,-230.5 1029,-236.5 1029,-242.5 1029,-242.5 1029,-286.5 1029,-286.5 1029,-292.5 1023,-298.5 1017,-298.5\"/>\n<text text-anchor=\"start\" x=\"933\" y=\"-283.3\" font-family=\"Helvetica,sans-Serif\" font-size=\"14.00\" fill=\"#000000\">gini = 0.017</text>\n<text text-anchor=\"start\" x=\"923\" y=\"-268.3\" font-family=\"Helvetica,sans-Serif\" font-size=\"14.00\" fill=\"#000000\">samples = 359</text>\n<text text-anchor=\"start\" x=\"921\" y=\"-253.3\" font-family=\"Helvetica,sans-Serif\" font-size=\"14.00\" fill=\"#000000\">value = [356, 3]</text>\n<text text-anchor=\"start\" x=\"942\" y=\"-238.3\" font-family=\"Helvetica,sans-Serif\" font-size=\"14.00\" fill=\"#000000\">class = 0</text>\n</g>\n<!-- 8&#45;&gt;12 -->\n<g id=\"edge18\" class=\"edge\">\n<title>8&#45;&gt;12</title>\n<path fill=\"none\" stroke=\"#000000\" d=\"M880.6155,-341.8796C894.3587,-330.1138 909.3031,-317.3197 923.0093,-305.5855\"/>\n<polygon fill=\"#000000\" stroke=\"#000000\" points=\"925.5976,-307.9771 930.9178,-298.8149 921.0452,-302.6596 925.5976,-307.9771\"/>\n</g>\n<!-- 13 -->\n<g id=\"node15\" class=\"node\">\n<title>13</title>\n<path fill=\"#52a9e8\" stroke=\"#000000\" d=\"M806.5,-179.5C806.5,-179.5 723.5,-179.5 723.5,-179.5 717.5,-179.5 711.5,-173.5 711.5,-167.5 711.5,-167.5 711.5,-123.5 711.5,-123.5 711.5,-117.5 717.5,-111.5 723.5,-111.5 723.5,-111.5 806.5,-111.5 806.5,-111.5 812.5,-111.5 818.5,-117.5 818.5,-123.5 818.5,-123.5 818.5,-167.5 818.5,-167.5 818.5,-173.5 812.5,-179.5 806.5,-179.5\"/>\n<text text-anchor=\"start\" x=\"727\" y=\"-164.3\" font-family=\"Helvetica,sans-Serif\" font-size=\"14.00\" fill=\"#000000\">gini = 0.198</text>\n<text text-anchor=\"start\" x=\"721\" y=\"-149.3\" font-family=\"Helvetica,sans-Serif\" font-size=\"14.00\" fill=\"#000000\">samples = 18</text>\n<text text-anchor=\"start\" x=\"719.5\" y=\"-134.3\" font-family=\"Helvetica,sans-Serif\" font-size=\"14.00\" fill=\"#000000\">value = [2, 16]</text>\n<text text-anchor=\"start\" x=\"736\" y=\"-119.3\" font-family=\"Helvetica,sans-Serif\" font-size=\"14.00\" fill=\"#000000\">class = 1</text>\n</g>\n<!-- 11&#45;&gt;13 -->\n<g id=\"edge14\" class=\"edge\">\n<title>11&#45;&gt;13</title>\n<path fill=\"none\" stroke=\"#000000\" d=\"M808.5667,-222.8796C802.3137,-211.7735 795.5448,-199.7513 789.249,-188.5691\"/>\n<polygon fill=\"#000000\" stroke=\"#000000\" points=\"792.2761,-186.8116 784.3202,-179.8149 786.1765,-190.2459 792.2761,-186.8116\"/>\n</g>\n<!-- 14 -->\n<g id=\"node16\" class=\"node\">\n<title>14</title>\n<path fill=\"#e88d4d\" stroke=\"#000000\" d=\"M949,-187C949,-187 849,-187 849,-187 843,-187 837,-181 837,-175 837,-175 837,-116 837,-116 837,-110 843,-104 849,-104 849,-104 949,-104 949,-104 955,-104 961,-110 961,-116 961,-116 961,-175 961,-175 961,-181 955,-187 949,-187\"/>\n<text text-anchor=\"start\" x=\"852\" y=\"-171.8\" font-family=\"Helvetica,sans-Serif\" font-size=\"14.00\" fill=\"#000000\">Entropy ≤ 0.23</text>\n<text text-anchor=\"start\" x=\"861\" y=\"-156.8\" font-family=\"Helvetica,sans-Serif\" font-size=\"14.00\" fill=\"#000000\">gini = 0.164</text>\n<text text-anchor=\"start\" x=\"851\" y=\"-141.8\" font-family=\"Helvetica,sans-Serif\" font-size=\"14.00\" fill=\"#000000\">samples = 122</text>\n<text text-anchor=\"start\" x=\"845\" y=\"-126.8\" font-family=\"Helvetica,sans-Serif\" font-size=\"14.00\" fill=\"#000000\">value = [111, 11]</text>\n<text text-anchor=\"start\" x=\"870\" y=\"-111.8\" font-family=\"Helvetica,sans-Serif\" font-size=\"14.00\" fill=\"#000000\">class = 0</text>\n</g>\n<!-- 11&#45;&gt;14 -->\n<g id=\"edge15\" class=\"edge\">\n<title>11&#45;&gt;14</title>\n<path fill=\"none\" stroke=\"#000000\" d=\"M855.4333,-222.8796C860.3013,-214.2335 865.4819,-205.0322 870.5086,-196.1042\"/>\n<polygon fill=\"#000000\" stroke=\"#000000\" points=\"873.6103,-197.729 875.4666,-187.2981 867.5107,-194.2947 873.6103,-197.729\"/>\n</g>\n<!-- 15 -->\n<g id=\"node17\" class=\"node\">\n<title>15</title>\n<path fill=\"#e58139\" stroke=\"#000000\" d=\"M875.5,-68C875.5,-68 792.5,-68 792.5,-68 786.5,-68 780.5,-62 780.5,-56 780.5,-56 780.5,-12 780.5,-12 780.5,-6 786.5,0 792.5,0 792.5,0 875.5,0 875.5,0 881.5,0 887.5,-6 887.5,-12 887.5,-12 887.5,-56 887.5,-56 887.5,-62 881.5,-68 875.5,-68\"/>\n<text text-anchor=\"start\" x=\"804.5\" y=\"-52.8\" font-family=\"Helvetica,sans-Serif\" font-size=\"14.00\" fill=\"#000000\">gini = 0.0</text>\n<text text-anchor=\"start\" x=\"790\" y=\"-37.8\" font-family=\"Helvetica,sans-Serif\" font-size=\"14.00\" fill=\"#000000\">samples = 98</text>\n<text text-anchor=\"start\" x=\"788.5\" y=\"-22.8\" font-family=\"Helvetica,sans-Serif\" font-size=\"14.00\" fill=\"#000000\">value = [98, 0]</text>\n<text text-anchor=\"start\" x=\"805\" y=\"-7.8\" font-family=\"Helvetica,sans-Serif\" font-size=\"14.00\" fill=\"#000000\">class = 0</text>\n</g>\n<!-- 14&#45;&gt;15 -->\n<g id=\"edge16\" class=\"edge\">\n<title>14&#45;&gt;15</title>\n<path fill=\"none\" stroke=\"#000000\" d=\"M874.7964,-103.9815C869.6529,-95.1585 864.2123,-85.8258 859.0384,-76.9506\"/>\n<polygon fill=\"#000000\" stroke=\"#000000\" points=\"862.0344,-75.1402 853.9743,-68.2637 855.987,-78.6656 862.0344,-75.1402\"/>\n</g>\n<!-- 16 -->\n<g id=\"node18\" class=\"node\">\n<title>16</title>\n<path fill=\"#fbece1\" stroke=\"#000000\" d=\"M1010,-68C1010,-68 918,-68 918,-68 912,-68 906,-62 906,-56 906,-56 906,-12 906,-12 906,-6 912,0 918,0 918,0 1010,0 1010,0 1016,0 1022,-6 1022,-12 1022,-12 1022,-56 1022,-56 1022,-62 1016,-68 1010,-68\"/>\n<text text-anchor=\"start\" x=\"926\" y=\"-52.8\" font-family=\"Helvetica,sans-Serif\" font-size=\"14.00\" fill=\"#000000\">gini = 0.497</text>\n<text text-anchor=\"start\" x=\"920\" y=\"-37.8\" font-family=\"Helvetica,sans-Serif\" font-size=\"14.00\" fill=\"#000000\">samples = 24</text>\n<text text-anchor=\"start\" x=\"914\" y=\"-22.8\" font-family=\"Helvetica,sans-Serif\" font-size=\"14.00\" fill=\"#000000\">value = [13, 11]</text>\n<text text-anchor=\"start\" x=\"935\" y=\"-7.8\" font-family=\"Helvetica,sans-Serif\" font-size=\"14.00\" fill=\"#000000\">class = 0</text>\n</g>\n<!-- 14&#45;&gt;16 -->\n<g id=\"edge17\" class=\"edge\">\n<title>14&#45;&gt;16</title>\n<path fill=\"none\" stroke=\"#000000\" d=\"M923.2036,-103.9815C928.3471,-95.1585 933.7877,-85.8258 938.9616,-76.9506\"/>\n<polygon fill=\"#000000\" stroke=\"#000000\" points=\"942.013,-78.6656 944.0257,-68.2637 935.9656,-75.1402 942.013,-78.6656\"/>\n</g>\n</g>\n</svg>\n"
          },
          "metadata": {},
          "execution_count": 57
        }
      ],
      "source": [
        "# e poi in forma grafica\n",
        "features=list(df.columns.values)\n",
        "\n",
        "import graphviz\n",
        "dot_data = tree.export_graphviz(tree_clf, out_file=None, \n",
        "                     feature_names=features[0:-1],  \n",
        "                     class_names=['0','1'],  \n",
        "                     filled=True, rounded=True,  \n",
        "                     special_characters=True)  \n",
        "graph = graphviz.Source(dot_data)\n",
        "graph.render('bills')\n",
        "graph"
      ]
    },
    {
      "cell_type": "code",
      "execution_count": 58,
      "metadata": {
        "id": "HW2xCFVuyijT",
        "outputId": "5aa3e1de-a6d9-4bf3-9a09-e9177dba44f4",
        "colab": {
          "base_uri": "https://localhost:8080/"
        }
      },
      "outputs": [
        {
          "output_type": "execute_result",
          "data": {
            "text/plain": [
              "array([1.])"
            ]
          },
          "metadata": {},
          "execution_count": 58
        }
      ],
      "source": [
        "# proviamo a determinare adesso se la banconota \n",
        "# di cui abbiamo avuto le caratteristiche all'inizio dell'esercizio è vera o è falsa:\n",
        "daScoprire = [[-3.0866, -6.6362, 10.5405, -0.89182]] \n",
        "predictBanconota = tree_clf.predict(daScoprire)\n",
        "predictBanconota"
      ]
    },
    {
      "cell_type": "code",
      "execution_count": 26,
      "metadata": {
        "id": "GYsOIEJZyijT"
      },
      "outputs": [],
      "source": [
        "# la banconota è vera o falsa?\n",
        "# risposta: falsa"
      ]
    },
    {
      "cell_type": "code",
      "execution_count": 59,
      "metadata": {
        "id": "bdpBYfe1yijT",
        "outputId": "07afd057-4ca3-4078-a898-a23aeb8c3784",
        "colab": {
          "base_uri": "https://localhost:8080/",
          "height": 80
        }
      },
      "outputs": [
        {
          "output_type": "execute_result",
          "data": {
            "text/html": [
              "\n",
              "  <div id=\"df-8977e7da-7ca6-4b83-b33d-2a206ba192c6\">\n",
              "    <div class=\"colab-df-container\">\n",
              "      <div>\n",
              "<style scoped>\n",
              "    .dataframe tbody tr th:only-of-type {\n",
              "        vertical-align: middle;\n",
              "    }\n",
              "\n",
              "    .dataframe tbody tr th {\n",
              "        vertical-align: top;\n",
              "    }\n",
              "\n",
              "    .dataframe thead th {\n",
              "        text-align: right;\n",
              "    }\n",
              "</style>\n",
              "<table border=\"1\" class=\"dataframe\">\n",
              "  <thead>\n",
              "    <tr style=\"text-align: right;\">\n",
              "      <th></th>\n",
              "      <th>Variance</th>\n",
              "      <th>Skewness</th>\n",
              "      <th>Curtosis</th>\n",
              "      <th>Entropy</th>\n",
              "      <th>Class</th>\n",
              "    </tr>\n",
              "  </thead>\n",
              "  <tbody>\n",
              "    <tr>\n",
              "      <th>998</th>\n",
              "      <td>-3.0866</td>\n",
              "      <td>-6.6362</td>\n",
              "      <td>10.5405</td>\n",
              "      <td>-0.89182</td>\n",
              "      <td>1</td>\n",
              "    </tr>\n",
              "  </tbody>\n",
              "</table>\n",
              "</div>\n",
              "      <button class=\"colab-df-convert\" onclick=\"convertToInteractive('df-8977e7da-7ca6-4b83-b33d-2a206ba192c6')\"\n",
              "              title=\"Convert this dataframe to an interactive table.\"\n",
              "              style=\"display:none;\">\n",
              "        \n",
              "  <svg xmlns=\"http://www.w3.org/2000/svg\" height=\"24px\"viewBox=\"0 0 24 24\"\n",
              "       width=\"24px\">\n",
              "    <path d=\"M0 0h24v24H0V0z\" fill=\"none\"/>\n",
              "    <path d=\"M18.56 5.44l.94 2.06.94-2.06 2.06-.94-2.06-.94-.94-2.06-.94 2.06-2.06.94zm-11 1L8.5 8.5l.94-2.06 2.06-.94-2.06-.94L8.5 2.5l-.94 2.06-2.06.94zm10 10l.94 2.06.94-2.06 2.06-.94-2.06-.94-.94-2.06-.94 2.06-2.06.94z\"/><path d=\"M17.41 7.96l-1.37-1.37c-.4-.4-.92-.59-1.43-.59-.52 0-1.04.2-1.43.59L10.3 9.45l-7.72 7.72c-.78.78-.78 2.05 0 2.83L4 21.41c.39.39.9.59 1.41.59.51 0 1.02-.2 1.41-.59l7.78-7.78 2.81-2.81c.8-.78.8-2.07 0-2.86zM5.41 20L4 18.59l7.72-7.72 1.47 1.35L5.41 20z\"/>\n",
              "  </svg>\n",
              "      </button>\n",
              "      \n",
              "  <style>\n",
              "    .colab-df-container {\n",
              "      display:flex;\n",
              "      flex-wrap:wrap;\n",
              "      gap: 12px;\n",
              "    }\n",
              "\n",
              "    .colab-df-convert {\n",
              "      background-color: #E8F0FE;\n",
              "      border: none;\n",
              "      border-radius: 50%;\n",
              "      cursor: pointer;\n",
              "      display: none;\n",
              "      fill: #1967D2;\n",
              "      height: 32px;\n",
              "      padding: 0 0 0 0;\n",
              "      width: 32px;\n",
              "    }\n",
              "\n",
              "    .colab-df-convert:hover {\n",
              "      background-color: #E2EBFA;\n",
              "      box-shadow: 0px 1px 2px rgba(60, 64, 67, 0.3), 0px 1px 3px 1px rgba(60, 64, 67, 0.15);\n",
              "      fill: #174EA6;\n",
              "    }\n",
              "\n",
              "    [theme=dark] .colab-df-convert {\n",
              "      background-color: #3B4455;\n",
              "      fill: #D2E3FC;\n",
              "    }\n",
              "\n",
              "    [theme=dark] .colab-df-convert:hover {\n",
              "      background-color: #434B5C;\n",
              "      box-shadow: 0px 1px 3px 1px rgba(0, 0, 0, 0.15);\n",
              "      filter: drop-shadow(0px 1px 2px rgba(0, 0, 0, 0.3));\n",
              "      fill: #FFFFFF;\n",
              "    }\n",
              "  </style>\n",
              "\n",
              "      <script>\n",
              "        const buttonEl =\n",
              "          document.querySelector('#df-8977e7da-7ca6-4b83-b33d-2a206ba192c6 button.colab-df-convert');\n",
              "        buttonEl.style.display =\n",
              "          google.colab.kernel.accessAllowed ? 'block' : 'none';\n",
              "\n",
              "        async function convertToInteractive(key) {\n",
              "          const element = document.querySelector('#df-8977e7da-7ca6-4b83-b33d-2a206ba192c6');\n",
              "          const dataTable =\n",
              "            await google.colab.kernel.invokeFunction('convertToInteractive',\n",
              "                                                     [key], {});\n",
              "          if (!dataTable) return;\n",
              "\n",
              "          const docLinkHtml = 'Like what you see? Visit the ' +\n",
              "            '<a target=\"_blank\" href=https://colab.research.google.com/notebooks/data_table.ipynb>data table notebook</a>'\n",
              "            + ' to learn more about interactive tables.';\n",
              "          element.innerHTML = '';\n",
              "          dataTable['output_type'] = 'display_data';\n",
              "          await google.colab.output.renderOutput(dataTable, element);\n",
              "          const docLink = document.createElement('div');\n",
              "          docLink.innerHTML = docLinkHtml;\n",
              "          element.appendChild(docLink);\n",
              "        }\n",
              "      </script>\n",
              "    </div>\n",
              "  </div>\n",
              "  "
            ],
            "text/plain": [
              "     Variance  Skewness  Curtosis  Entropy  Class\n",
              "998   -3.0866   -6.6362   10.5405 -0.89182      1"
            ]
          },
          "metadata": {},
          "execution_count": 59
        }
      ],
      "source": [
        "# la banconota che abbiamo testato in realtà è una di quelle giè presenti nel dataset. \n",
        "# Provate ad andare a vedere nel dataframe Pandas se la predizione del metodo è corretta o meno\n",
        "# cercando alcune caratteristiche della nostra banconota, ad esempio 'Variance' = -3.0866, 'Skewness' = -6.6362 e\n",
        "# 'Curtosis' = 10.5405\n",
        "df[(df['Variance'] == -3.0866) & (df['Skewness'] == -6.6362) & (df['Curtosis'] == 10.5405)]"
      ]
    },
    {
      "cell_type": "code",
      "execution_count": 28,
      "metadata": {
        "id": "pwaeFks4yijU"
      },
      "outputs": [],
      "source": [
        "# il metodo ha predetto correttamente il risultato?\n",
        "# risposta: sì"
      ]
    }
  ],
  "metadata": {
    "kernelspec": {
      "display_name": "Python 3",
      "language": "python",
      "name": "python3"
    },
    "language_info": {
      "codemirror_mode": {
        "name": "ipython",
        "version": 3
      },
      "file_extension": ".py",
      "mimetype": "text/x-python",
      "name": "python",
      "nbconvert_exporter": "python",
      "pygments_lexer": "ipython3",
      "version": "3.7.6"
    },
    "colab": {
      "name": "esercizio decision tree risolto.ipynb",
      "provenance": [],
      "collapsed_sections": []
    }
  },
  "nbformat": 4,
  "nbformat_minor": 0
}