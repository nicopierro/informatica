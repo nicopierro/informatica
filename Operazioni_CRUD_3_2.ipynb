{
  "nbformat": 4,
  "nbformat_minor": 0,
  "metadata": {
    "colab": {
      "name": "Operazioni CRUD 3.2.ipynb",
      "provenance": [],
      "collapsed_sections": []
    },
    "kernelspec": {
      "name": "python3",
      "display_name": "Python 3"
    },
    "language_info": {
      "name": "python"
    }
  },
  "cells": [
    {
      "cell_type": "markdown",
      "metadata": {
        "id": "J7MTqPLW_r6w"
      },
      "source": [
        "Realizzare poi un altro notebook in cui lavorare sui dati inseriti per riassumere tutte le possibili operazioni di modifica su campi di tipologia diversa:"
      ]
    },
    {
      "cell_type": "code",
      "metadata": {
        "colab": {
          "base_uri": "https://localhost:8080/"
        },
        "id": "B1F0C8DEx_Ze",
        "outputId": "7fc26aed-5190-4f9c-83b4-08494da5e9f5"
      },
      "source": [
        "!pip install dnspython\n",
        "import pymongo\n",
        "import pandas as pd\n",
        "from bson.objectid import ObjectId "
      ],
      "execution_count": null,
      "outputs": [
        {
          "output_type": "stream",
          "name": "stdout",
          "text": [
            "Requirement already satisfied: dnspython in /usr/local/lib/python3.7/dist-packages (2.1.0)\n"
          ]
        }
      ]
    },
    {
      "cell_type": "code",
      "metadata": {
        "id": "MvSdI19LyIOf"
      },
      "source": [
        "# stringa di connessione\n",
        "client = pymongo.MongoClient(\"mongodb+srv://sloth:<password>@cluster0.nljzd.mongodb.net/Guardian?retryWrites=true&w=majority\") \n",
        "db = client.Guardian # nome del database"
      ],
      "execution_count": null,
      "outputs": []
    },
    {
      "cell_type": "code",
      "metadata": {
        "colab": {
          "base_uri": "https://localhost:8080/"
        },
        "id": "1w__yse23A23",
        "outputId": "84d01d03-91bd-4d1c-f890-b16c0b137e8f"
      },
      "source": [
        "# 1. modifica di un campo di tipo semplice (ad esempio il titolo dell'articolo)\n",
        "db.articoli.update_one({\"_id\": ObjectId(\"618510f3f85c11bee94e306f\")},\n",
        "{\"$set\": {\"titolo\": \"L'ex capo della Nato dice che Putin voleva unirsi all'alleanza all'inizio del suo governo\"}})"
      ],
      "execution_count": null,
      "outputs": [
        {
          "output_type": "execute_result",
          "data": {
            "text/plain": [
              "<pymongo.results.UpdateResult at 0x7f9f8f507780>"
            ]
          },
          "metadata": {},
          "execution_count": 5
        }
      ]
    },
    {
      "cell_type": "code",
      "metadata": {
        "colab": {
          "base_uri": "https://localhost:8080/"
        },
        "id": "tjvPGNi53DMP",
        "outputId": "dbfbe698-becc-4763-d39c-3908ca630704"
      },
      "source": [
        "# 2. modifica di un campo di tipo oggetto (ad esempio il nome di un giornalista)\n",
        "db.articoli.update_one({\"_id\": ObjectId(\"618510f3f85c11bee94e306e\")},\n",
        "{\"$set\": {\"autore.nome\": \"Elisa\"}})"
      ],
      "execution_count": null,
      "outputs": [
        {
          "output_type": "execute_result",
          "data": {
            "text/plain": [
              "<pymongo.results.UpdateResult at 0x7f9f8f4eccd0>"
            ]
          },
          "metadata": {},
          "execution_count": 6
        }
      ]
    },
    {
      "cell_type": "code",
      "metadata": {
        "colab": {
          "base_uri": "https://localhost:8080/"
        },
        "id": "WSXGxbLV3FGv",
        "outputId": "03780797-3b0e-439e-eafd-80df1557b9ee"
      },
      "source": [
        "# 3. modifica di un campo di tipo array \n",
        "\n",
        "# modifica di un tag\n",
        "db.articoli.update_one({\"_id\": ObjectId(\"618510f3f85c11bee94e306f\")},\n",
        "{\"$set\": {\"tags.0\": \"Vladimir\"}})\n",
        "\n",
        "# aggiunta di un tag\n",
        "db.articoli.update_one({\"_id\": ObjectId(\"618510f3f85c11bee94e306f\")},\n",
        "{\"$push\": {\"tags\": \"Putin\"}})\n",
        "\n",
        "# eliminazione di un tag\n",
        "db.articoli.update_one({\"_id\": ObjectId(\"618510f3f85c11bee94e306f\")},\n",
        "{\"$pull\": {\"tags\": \"Rusky\"}})"
      ],
      "execution_count": null,
      "outputs": [
        {
          "output_type": "execute_result",
          "data": {
            "text/plain": [
              "<pymongo.results.UpdateResult at 0x7f9f8ad051e0>"
            ]
          },
          "metadata": {},
          "execution_count": 18
        }
      ]
    },
    {
      "cell_type": "code",
      "metadata": {
        "colab": {
          "base_uri": "https://localhost:8080/"
        },
        "id": "IrldWGGK3G_m",
        "outputId": "03bd5d64-2bc7-48b6-9223-816b5acc8a5c"
      },
      "source": [
        "# 4. modifica di un campo di tipo array di oggetti (modifica del link di una immagine, aggiunta di una immagine, eliminazione di una immagine). \n",
        "# Provare prima ad utilizzare l'ID per identificare l'immagine e poi la sua posizione\n",
        "\n",
        "# modifica del link di una immagine\n",
        "db.articoli.update_one({\"_id\": ObjectId(\"618510f3f85c11bee94e306f\")},\n",
        "{\"$set\": {\"media.0.link\": \"https://images6.alphacoders.com/109/1094097.png\"}})\n",
        "\n",
        "# aggiunta di una immagine\n",
        "db.articoli.update_one({\"_id\": ObjectId(\"618510f3f85c11bee94e306f\")},\n",
        "{\"$push\": {\"media\": {\"link\": \"https://media-cdn.tripadvisor.com/media/attractions-splice-spp-720x480/0b/d1/d0/c8.jpg\", \"tipo\": \"immagine\", \"didascalia\": \"Just a cute sloth\"}}})\n",
        "\n",
        "# eliminazione di una immagine\n",
        "db.articoli.update_one({\"_id\": ObjectId(\"618510f3f85c11bee94e306e\")},\n",
        "{\"$pull\": {\"media\": {\"link\": \"https://i.guim.co.uk/img/media/0e9bb31c7e308ed385cc2ce8643dbc6f093b15d6/0_47_2500_1500/master/2500.jpg?width=620&quality=85&auto=format&fit=max&s=88a8e6713f4418867f888096d7624457\"}}})"
      ],
      "execution_count": null,
      "outputs": [
        {
          "output_type": "execute_result",
          "data": {
            "text/plain": [
              "<pymongo.results.UpdateResult at 0x7f9f8ad0b550>"
            ]
          },
          "metadata": {},
          "execution_count": 19
        }
      ]
    }
  ]
}