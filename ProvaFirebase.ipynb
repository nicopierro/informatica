{
  "nbformat": 4,
  "nbformat_minor": 0,
  "metadata": {
    "colab": {
      "name": "ProvaFirebase.ipynb",
      "provenance": [],
      "collapsed_sections": []
    },
    "kernelspec": {
      "name": "python3",
      "display_name": "Python 3"
    },
    "language_info": {
      "name": "python"
    }
  },
  "cells": [
    {
      "cell_type": "markdown",
      "source": [
        "[SDK Firebase Admin Key](https://drive.google.com/file/d/13MX1KavsBnqow0tMjrm40rdMdivjwGaj/view?usp=sharing)"
      ],
      "metadata": {
        "id": "CUIxHBNKZR0e"
      }
    },
    {
      "cell_type": "code",
      "execution_count": null,
      "metadata": {
        "id": "7Jsk86lyUV0Y"
      },
      "outputs": [],
      "source": [
        "import firebase_admin\n",
        "from firebase_admin import credentials, firestore\n",
        "\n",
        "cred = credentials.Certificate(\"/content/prova-d0f06-firebase-adminsdk-jqzne-3301f18cc3.json\")\n",
        "firebase_admin.initialize_app(cred)\n",
        "\n",
        "db = firestore.client()"
      ]
    },
    {
      "cell_type": "code",
      "source": [
        "# create\n",
        "db.collection('prova').add({'song': 'Never Gonna Give You Up', 'artist': 'Rick Astley', 'year': '1987'})"
      ],
      "metadata": {
        "colab": {
          "base_uri": "https://localhost:8080/"
        },
        "id": "p166rPV5Y1DH",
        "outputId": "d945bad2-3aa8-4dd3-c687-a9947d3b3bab"
      },
      "execution_count": null,
      "outputs": [
        {
          "output_type": "execute_result",
          "data": {
            "text/plain": [
              "(seconds: 1642160987\n",
              " nanos: 456797000,\n",
              " <google.cloud.firestore_v1.document.DocumentReference at 0x7f031ad13790>)"
            ]
          },
          "metadata": {},
          "execution_count": 3
        }
      ]
    },
    {
      "cell_type": "code",
      "source": [
        "# read\n",
        "docs = db.collection('prova').where('song', '==', 'Never Gonna Give You Up').stream()\n",
        "\n",
        "for doc in docs:\n",
        "    print(f'{doc.id} => {doc.to_dict()}')"
      ],
      "metadata": {
        "colab": {
          "base_uri": "https://localhost:8080/"
        },
        "id": "asJEzoMdaPXe",
        "outputId": "3db8f9ae-adfd-4df6-a4ab-bccbcaa30f70"
      },
      "execution_count": null,
      "outputs": [
        {
          "output_type": "stream",
          "name": "stdout",
          "text": [
            "1V3tfdDIQmzyEOfm6Ipd => {'year': '1987', 'artist': 'Rick Astley', 'song': 'Never Gonna Give You Up'}\n"
          ]
        }
      ]
    },
    {
      "cell_type": "code",
      "source": [
        "# update\n",
        "db.collection('prova').document('1V3tfdDIQmzyEOfm6Ipd').update({'year': '1978'})"
      ],
      "metadata": {
        "colab": {
          "base_uri": "https://localhost:8080/"
        },
        "id": "wDaarqhMeLU3",
        "outputId": "7b8b3084-b000-46b4-d282-6339da32870c"
      },
      "execution_count": null,
      "outputs": [
        {
          "output_type": "execute_result",
          "data": {
            "text/plain": [
              "update_time {\n",
              "  seconds: 1642161959\n",
              "  nanos: 183173000\n",
              "}"
            ]
          },
          "metadata": {},
          "execution_count": 9
        }
      ]
    },
    {
      "cell_type": "code",
      "source": [
        "# delete\n",
        "db.collection('prova').document('1V3tfdDIQmzyEOfm6Ipd').delete()"
      ],
      "metadata": {
        "colab": {
          "base_uri": "https://localhost:8080/"
        },
        "id": "Nn78XqA2e3g-",
        "outputId": "9447bfc9-e50f-4882-ad6a-1aa7561e7939"
      },
      "execution_count": null,
      "outputs": [
        {
          "output_type": "execute_result",
          "data": {
            "text/plain": [
              "seconds: 1642162210\n",
              "nanos: 667831000"
            ]
          },
          "metadata": {},
          "execution_count": 10
        }
      ]
    }
  ]
}